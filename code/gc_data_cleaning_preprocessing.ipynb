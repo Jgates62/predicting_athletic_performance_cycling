{
 "cells": [
  {
   "cell_type": "code",
   "execution_count": 1,
   "id": "d5c83e7b-939a-4f40-9ebc-9c4bacb23115",
   "metadata": {},
   "outputs": [],
   "source": [
    "import pandas as pd\n",
    "import numpy as np\n",
    "import os"
   ]
  },
  {
   "cell_type": "code",
   "execution_count": 2,
   "id": "da4d78f1-6e0a-414b-bcc1-b6715107c5f1",
   "metadata": {},
   "outputs": [],
   "source": [
    "# evaluate every file in '../data/gc_data/athlete_2' and return a list of file names that are useable cycling workouts"
   ]
  },
  {
   "cell_type": "code",
   "execution_count": 3,
   "id": "b6b4430b-f7d6-4257-91f3-e10ac2217d1e",
   "metadata": {},
   "outputs": [],
   "source": [
    "# Create a files variable that contains all of our data files.\n",
    "files = os.listdir('../data/gc_data/athlete_2')\n",
    "\n",
    "# keep only the csv files\n",
    "files = [file for file in files if '.csv' in file]\n",
    "#files"
   ]
  },
  {
   "cell_type": "code",
   "execution_count": 4,
   "id": "c43dc176-a371-4e70-8492-a96803a92616",
   "metadata": {},
   "outputs": [],
   "source": [
    "# Determine if the current df is a useable cycling workout\n",
    "\n",
    "def check_dataframe(cur_df):\n",
    "    useable = True\n",
    "\n",
    "    # Must have power data\n",
    "    if cur_df['power'].sum() < 5:\n",
    "        useable = False\n",
    "        \n",
    "    # Must have hr data\n",
    "    elif cur_df['hr'].sum() < 5:\n",
    "        useable = False\n",
    "    \n",
    "    # Must have cadence data\n",
    "    elif cur_df['cad'].sum() < 5:\n",
    "        useable = False\n",
    "        \n",
    "    # The altitude must stay within 10 feet of the starting elevation\n",
    "    elif cur_df['alt'].max() > cur_df['alt'][0] + 10 or cur_df['alt'].min() < cur_df['alt'][0] - 10:\n",
    "        useable = False\n",
    "\n",
    "    return useable"
   ]
  },
  {
   "cell_type": "code",
   "execution_count": 5,
   "id": "cc254388-2ec7-4824-95be-122df38420da",
   "metadata": {},
   "outputs": [],
   "source": [
    "useable_files = []\n",
    "\n",
    "for file in files:\n",
    "    df = pd.read_csv(f'../data/gc_data/athlete_2/{file}')\n",
    "    \n",
    "    # impute 0 for nulls\n",
    "    df.fillna(0, inplace= True)\n",
    "    #print(df.head())\n",
    "    \n",
    "    # check and see if the file us useable\n",
    "    if check_dataframe(df):\n",
    "        useable_files.append(file)"
   ]
  },
  {
   "cell_type": "code",
   "execution_count": 6,
   "id": "56291fe5-25a3-4a10-8ab4-090e01aba0c9",
   "metadata": {},
   "outputs": [
    {
     "data": {
      "text/plain": [
       "['2018_12_03_20_52_34.csv',\n",
       " '2018_12_06_10_56_57.csv',\n",
       " '2018_12_09_19_56_36.csv',\n",
       " '2018_12_16_20_12_35.csv',\n",
       " '2018_12_19_11_05_47.csv',\n",
       " '2018_12_27_19_30_12.csv',\n",
       " '2018_12_28_19_36_49.csv',\n",
       " '2018_12_31_19_40_06.csv',\n",
       " '2019_01_04_18_49_51.csv',\n",
       " '2019_01_06_20_24_10.csv',\n",
       " '2019_01_06_21_05_16.csv',\n",
       " '2019_01_07_20_46_10.csv',\n",
       " '2019_01_09_11_23_10.csv',\n",
       " '2019_01_12_11_00_45.csv',\n",
       " '2019_01_14_20_45_35.csv',\n",
       " '2019_01_15_20_19_49.csv',\n",
       " '2019_01_19_10_38_22.csv',\n",
       " '2019_01_20_18_58_47.csv',\n",
       " '2019_01_24_20_05_51.csv',\n",
       " '2019_01_27_19_30_30.csv',\n",
       " '2019_01_28_20_10_24.csv',\n",
       " '2019_01_30_11_57_35.csv',\n",
       " '2019_01_31_11_30_27.csv',\n",
       " '2019_02_02_18_50_32.csv',\n",
       " '2019_02_03_18_14_30.csv',\n",
       " '2019_02_06_12_24_02.csv',\n",
       " '2019_02_07_11_45_23.csv',\n",
       " '2019_02_08_11_19_43.csv',\n",
       " '2019_02_09_09_23_35.csv',\n",
       " '2019_02_11_19_59_05.csv',\n",
       " '2019_02_13_20_52_52.csv',\n",
       " '2019_02_14_11_56_31.csv',\n",
       " '2019_02_16_19_23_30.csv',\n",
       " '2019_02_18_20_10_55.csv',\n",
       " '2019_02_19_12_48_49.csv',\n",
       " '2019_02_20_20_38_17.csv',\n",
       " '2019_02_25_19_36_43.csv',\n",
       " '2019_02_26_12_37_53.csv',\n",
       " '2019_02_27_11_25_02.csv',\n",
       " '2019_03_01_19_38_43.csv',\n",
       " '2019_03_05_12_45_38.csv',\n",
       " '2019_03_06_11_47_03.csv',\n",
       " '2019_03_07_11_51_55.csv',\n",
       " '2019_03_12_12_17_20.csv',\n",
       " '2019_03_13_18_42_54.csv',\n",
       " '2019_03_15_10_23_51.csv',\n",
       " '2019_03_18_19_47_53.csv',\n",
       " '2019_03_20_12_12_44.csv',\n",
       " '2019_03_21_12_03_13.csv',\n",
       " '2019_03_25_19_59_13.csv',\n",
       " '2019_04_01_19_48_01.csv',\n",
       " '2019_04_02_18_54_41.csv',\n",
       " '2019_04_04_20_23_30.csv',\n",
       " '2019_04_05_11_49_04.csv',\n",
       " '2019_04_06_10_52_23.csv',\n",
       " '2019_04_06_13_07_26.csv',\n",
       " '2019_04_07_11_36_01.csv',\n",
       " '2019_04_08_20_31_55.csv',\n",
       " '2019_04_12_11_55_54.csv',\n",
       " '2019_04_18_11_46_31.csv',\n",
       " '2019_04_19_12_26_00.csv',\n",
       " '2019_04_20_11_42_11.csv',\n",
       " '2019_04_22_20_16_37.csv',\n",
       " '2019_04_27_19_23_42.csv',\n",
       " '2019_04_28_19_45_02.csv',\n",
       " '2019_04_29_19_44_54.csv',\n",
       " '2019_05_01_10_21_26.csv',\n",
       " '2019_05_04_11_37_45.csv',\n",
       " '2019_05_05_19_22_17.csv',\n",
       " '2019_05_06_20_30_59.csv',\n",
       " '2019_05_08_21_01_32.csv',\n",
       " '2019_05_13_20_43_02.csv',\n",
       " '2019_05_14_12_22_53.csv',\n",
       " '2019_05_16_12_00_59.csv',\n",
       " '2019_05_21_20_31_23.csv',\n",
       " '2019_05_25_11_46_42.csv',\n",
       " '2019_05_31_20_03_57.csv',\n",
       " '2019_06_01_19_17_14.csv',\n",
       " '2019_06_06_12_27_26.csv',\n",
       " '2019_06_07_19_15_37.csv',\n",
       " '2019_06_09_10_10_10.csv',\n",
       " '2019_06_10_20_32_43.csv',\n",
       " '2019_06_11_18_42_23.csv',\n",
       " '2019_06_12_19_08_15.csv',\n",
       " '2019_06_18_12_09_55.csv',\n",
       " '2019_06_19_11_24_48.csv',\n",
       " '2019_06_20_12_07_44.csv',\n",
       " '2019_06_21_19_43_02.csv',\n",
       " '2019_06_25_20_34_15.csv',\n",
       " '2019_06_28_19_03_00.csv',\n",
       " '2019_06_29_20_08_48.csv',\n",
       " '2019_07_02_19_08_49.csv',\n",
       " '2019_07_03_18_53_01.csv',\n",
       " '2019_07_04_18_22_50.csv',\n",
       " '2019_07_05_19_53_24.csv',\n",
       " '2019_07_06_17_32_26.csv',\n",
       " '2019_07_07_19_13_52.csv',\n",
       " '2019_07_08_19_01_29.csv',\n",
       " '2019_07_09_19_31_40.csv',\n",
       " '2019_07_09_20_08_44.csv',\n",
       " '2019_07_10_19_08_24.csv',\n",
       " '2019_07_12_12_11_44.csv',\n",
       " '2019_07_12_20_57_59.csv',\n",
       " '2019_07_13_19_12_26.csv',\n",
       " '2019_07_17_20_09_01.csv',\n",
       " '2019_07_18_19_14_30.csv',\n",
       " '2019_07_19_20_04_54.csv',\n",
       " '2019_07_20_19_53_50.csv',\n",
       " '2019_07_23_20_09_12.csv',\n",
       " '2019_07_24_19_15_18.csv',\n",
       " '2019_07_31_19_30_08.csv',\n",
       " '2019_08_01_20_02_59.csv',\n",
       " '2019_08_06_18_33_06.csv',\n",
       " '2019_08_07_20_37_34.csv',\n",
       " '2019_12_18_12_43_30.csv',\n",
       " '2019_12_19_18_28_47.csv',\n",
       " '2019_12_20_18_33_10.csv',\n",
       " '2019_12_25_11_21_23.csv',\n",
       " '2019_12_26_18_10_48.csv',\n",
       " '2019_12_30_19_14_52.csv',\n",
       " '2020_01_01_19_50_39.csv',\n",
       " '2020_01_02_18_29_58.csv',\n",
       " '2020_01_03_18_26_20.csv',\n",
       " '2020_01_06_19_17_30.csv',\n",
       " '2020_01_07_18_04_44.csv',\n",
       " '2020_01_09_10_35_18.csv']"
      ]
     },
     "execution_count": 6,
     "metadata": {},
     "output_type": "execute_result"
    }
   ],
   "source": [
    "useable_files"
   ]
  },
  {
   "cell_type": "code",
   "execution_count": 7,
   "id": "154a94f6-1692-4d3b-8bac-69c2e9ea78ae",
   "metadata": {},
   "outputs": [
    {
     "data": {
      "text/plain": [
       "34"
      ]
     },
     "execution_count": 7,
     "metadata": {},
     "output_type": "execute_result"
    }
   ],
   "source": [
    "# Let's only use training sessions from June and July 2019. Summer should be peak fitness season, so the athlete's \n",
    "# fitness level should not change too dramatically within that timeframe.\n",
    "\n",
    "useable_files = [file for file in useable_files if '2019_07' in file or '2019_06' in file]\n",
    "len(useable_files)"
   ]
  },
  {
   "cell_type": "code",
   "execution_count": 8,
   "id": "1962b89c-bc59-4212-b35a-f3daaa35ede4",
   "metadata": {},
   "outputs": [],
   "source": [
    "# Use everything but the last 5 files for training\n",
    "training_files = useable_files[:-5]\n",
    "\n",
    "# Use the last 5 files for testing\n",
    "test_files = useable_files[-5:]"
   ]
  },
  {
   "cell_type": "code",
   "execution_count": 9,
   "id": "dc63b364-b75e-42f6-b5bd-80672727de73",
   "metadata": {},
   "outputs": [
    {
     "data": {
      "text/plain": [
       "['2019_06_01_19_17_14.csv',\n",
       " '2019_06_06_12_27_26.csv',\n",
       " '2019_06_07_19_15_37.csv',\n",
       " '2019_06_09_10_10_10.csv',\n",
       " '2019_06_10_20_32_43.csv',\n",
       " '2019_06_11_18_42_23.csv',\n",
       " '2019_06_12_19_08_15.csv',\n",
       " '2019_06_18_12_09_55.csv',\n",
       " '2019_06_19_11_24_48.csv',\n",
       " '2019_06_20_12_07_44.csv',\n",
       " '2019_06_21_19_43_02.csv',\n",
       " '2019_06_25_20_34_15.csv',\n",
       " '2019_06_28_19_03_00.csv',\n",
       " '2019_06_29_20_08_48.csv',\n",
       " '2019_07_02_19_08_49.csv',\n",
       " '2019_07_03_18_53_01.csv',\n",
       " '2019_07_04_18_22_50.csv',\n",
       " '2019_07_05_19_53_24.csv',\n",
       " '2019_07_06_17_32_26.csv',\n",
       " '2019_07_07_19_13_52.csv',\n",
       " '2019_07_08_19_01_29.csv',\n",
       " '2019_07_09_19_31_40.csv',\n",
       " '2019_07_09_20_08_44.csv',\n",
       " '2019_07_10_19_08_24.csv',\n",
       " '2019_07_12_12_11_44.csv',\n",
       " '2019_07_12_20_57_59.csv',\n",
       " '2019_07_13_19_12_26.csv',\n",
       " '2019_07_17_20_09_01.csv',\n",
       " '2019_07_18_19_14_30.csv']"
      ]
     },
     "execution_count": 9,
     "metadata": {},
     "output_type": "execute_result"
    }
   ],
   "source": [
    "training_files"
   ]
  },
  {
   "cell_type": "code",
   "execution_count": 10,
   "id": "2f0842e6-06fc-4979-b335-c7c4228eda91",
   "metadata": {},
   "outputs": [
    {
     "data": {
      "text/plain": [
       "['2019_07_19_20_04_54.csv',\n",
       " '2019_07_20_19_53_50.csv',\n",
       " '2019_07_23_20_09_12.csv',\n",
       " '2019_07_24_19_15_18.csv',\n",
       " '2019_07_31_19_30_08.csv']"
      ]
     },
     "execution_count": 10,
     "metadata": {},
     "output_type": "execute_result"
    }
   ],
   "source": [
    "test_files"
   ]
  },
  {
   "cell_type": "markdown",
   "id": "a6391395-17d4-41a9-950d-9e7404906dff",
   "metadata": {},
   "source": [
    "## Concatenate the train and test files into train and test dataframes"
   ]
  },
  {
   "cell_type": "code",
   "execution_count": 11,
   "id": "956b0271-89e3-437e-8354-55fbfe120806",
   "metadata": {},
   "outputs": [],
   "source": [
    "def preprocess_df(current_df):\n",
    "    \n",
    "    # Drop the 'alt' and 'km' columns\n",
    "    current_df.drop(columns= ['km', 'alt'], inplace = True)\n",
    "    \n",
    "    # 5 sec rolling mean\n",
    "    current_df[['power', 'hr', 'cad']] = current_df[['power', 'hr', 'cad']].rolling(5).mean();    # 5 sec rolling mean\n",
    "    current_df.dropna(inplace= True)\n",
    "    \n",
    "    return current_df"
   ]
  },
  {
   "cell_type": "code",
   "execution_count": 13,
   "id": "add21740-b364-4cc4-98af-4af80fc04736",
   "metadata": {},
   "outputs": [],
   "source": [
    "# preprocess and clean each of the test dataframes and save them individually for future use.\n",
    "counter = 1\n",
    "for file in test_files:\n",
    "    file_df = pd.read_csv(f'../data/gc_data/athlete_2/{file}')\n",
    "    \n",
    "    file_df = preprocess_df(file_df)\n",
    "    \n",
    "    file_df.to_csv(f'../data/cleaned_gc_data/gc_test_{counter}.csv')\n",
    "    \n",
    "    counter += 1"
   ]
  },
  {
   "cell_type": "code",
   "execution_count": 14,
   "id": "863bb375-951c-440d-b5b9-0c3a7baee6b0",
   "metadata": {},
   "outputs": [],
   "source": [
    "train_df = pd.read_csv(f'../data/gc_data/athlete_2/{training_files[0]}')\n",
    "test_df = pd.read_csv(f'../data/gc_data/athlete_2/{test_files[0]}')\n",
    "\n",
    "# create training file dataframes concatenate those training dataframes into train_df\n",
    "\n",
    "def generate_dataframe(files, concat_df):\n",
    "    \n",
    "    concat_df = preprocess_df(concat_df)\n",
    "    \n",
    "    for file in files[1:]:\n",
    "        cur_df = pd.read_csv(f'../data/gc_data/athlete_2/{file}')\n",
    "        \n",
    "        cur_df = preprocess_df(cur_df) # preprocess_df function call\n",
    "        \n",
    "        concat_df = pd.concat([concat_df, cur_df], ignore_index= True)\n",
    "    \n",
    "    return concat_df"
   ]
  },
  {
   "cell_type": "code",
   "execution_count": 15,
   "id": "d5ece0d8-be58-4398-8e40-aeff26670464",
   "metadata": {},
   "outputs": [
    {
     "data": {
      "text/html": [
       "<div>\n",
       "<style scoped>\n",
       "    .dataframe tbody tr th:only-of-type {\n",
       "        vertical-align: middle;\n",
       "    }\n",
       "\n",
       "    .dataframe tbody tr th {\n",
       "        vertical-align: top;\n",
       "    }\n",
       "\n",
       "    .dataframe thead th {\n",
       "        text-align: right;\n",
       "    }\n",
       "</style>\n",
       "<table border=\"1\" class=\"dataframe\">\n",
       "  <thead>\n",
       "    <tr style=\"text-align: right;\">\n",
       "      <th></th>\n",
       "      <th>secs</th>\n",
       "      <th>power</th>\n",
       "      <th>hr</th>\n",
       "      <th>cad</th>\n",
       "    </tr>\n",
       "  </thead>\n",
       "  <tbody>\n",
       "    <tr>\n",
       "      <th>0</th>\n",
       "      <td>4</td>\n",
       "      <td>33.4</td>\n",
       "      <td>76.0</td>\n",
       "      <td>28.2</td>\n",
       "    </tr>\n",
       "    <tr>\n",
       "      <th>1</th>\n",
       "      <td>5</td>\n",
       "      <td>57.4</td>\n",
       "      <td>77.0</td>\n",
       "      <td>39.6</td>\n",
       "    </tr>\n",
       "    <tr>\n",
       "      <th>2</th>\n",
       "      <td>6</td>\n",
       "      <td>80.8</td>\n",
       "      <td>78.0</td>\n",
       "      <td>47.4</td>\n",
       "    </tr>\n",
       "    <tr>\n",
       "      <th>3</th>\n",
       "      <td>7</td>\n",
       "      <td>100.6</td>\n",
       "      <td>79.0</td>\n",
       "      <td>56.0</td>\n",
       "    </tr>\n",
       "    <tr>\n",
       "      <th>4</th>\n",
       "      <td>8</td>\n",
       "      <td>111.4</td>\n",
       "      <td>80.0</td>\n",
       "      <td>59.6</td>\n",
       "    </tr>\n",
       "    <tr>\n",
       "      <th>...</th>\n",
       "      <td>...</td>\n",
       "      <td>...</td>\n",
       "      <td>...</td>\n",
       "      <td>...</td>\n",
       "    </tr>\n",
       "    <tr>\n",
       "      <th>109912</th>\n",
       "      <td>3480</td>\n",
       "      <td>0.0</td>\n",
       "      <td>92.4</td>\n",
       "      <td>0.0</td>\n",
       "    </tr>\n",
       "    <tr>\n",
       "      <th>109913</th>\n",
       "      <td>3481</td>\n",
       "      <td>0.0</td>\n",
       "      <td>92.0</td>\n",
       "      <td>0.0</td>\n",
       "    </tr>\n",
       "    <tr>\n",
       "      <th>109914</th>\n",
       "      <td>3482</td>\n",
       "      <td>0.0</td>\n",
       "      <td>91.6</td>\n",
       "      <td>0.0</td>\n",
       "    </tr>\n",
       "    <tr>\n",
       "      <th>109915</th>\n",
       "      <td>3483</td>\n",
       "      <td>0.0</td>\n",
       "      <td>91.2</td>\n",
       "      <td>0.0</td>\n",
       "    </tr>\n",
       "    <tr>\n",
       "      <th>109916</th>\n",
       "      <td>3484</td>\n",
       "      <td>0.0</td>\n",
       "      <td>91.4</td>\n",
       "      <td>0.0</td>\n",
       "    </tr>\n",
       "  </tbody>\n",
       "</table>\n",
       "<p>109917 rows × 4 columns</p>\n",
       "</div>"
      ],
      "text/plain": [
       "        secs  power    hr   cad\n",
       "0          4   33.4  76.0  28.2\n",
       "1          5   57.4  77.0  39.6\n",
       "2          6   80.8  78.0  47.4\n",
       "3          7  100.6  79.0  56.0\n",
       "4          8  111.4  80.0  59.6\n",
       "...      ...    ...   ...   ...\n",
       "109912  3480    0.0  92.4   0.0\n",
       "109913  3481    0.0  92.0   0.0\n",
       "109914  3482    0.0  91.6   0.0\n",
       "109915  3483    0.0  91.2   0.0\n",
       "109916  3484    0.0  91.4   0.0\n",
       "\n",
       "[109917 rows x 4 columns]"
      ]
     },
     "execution_count": 15,
     "metadata": {},
     "output_type": "execute_result"
    }
   ],
   "source": [
    "train_df = generate_dataframe(training_files, train_df)\n",
    "train_df"
   ]
  },
  {
   "cell_type": "code",
   "execution_count": 16,
   "id": "fdabce3c-c92d-4f92-91df-cabb120e6a33",
   "metadata": {},
   "outputs": [
    {
     "data": {
      "text/html": [
       "<div>\n",
       "<style scoped>\n",
       "    .dataframe tbody tr th:only-of-type {\n",
       "        vertical-align: middle;\n",
       "    }\n",
       "\n",
       "    .dataframe tbody tr th {\n",
       "        vertical-align: top;\n",
       "    }\n",
       "\n",
       "    .dataframe thead th {\n",
       "        text-align: right;\n",
       "    }\n",
       "</style>\n",
       "<table border=\"1\" class=\"dataframe\">\n",
       "  <thead>\n",
       "    <tr style=\"text-align: right;\">\n",
       "      <th></th>\n",
       "      <th>secs</th>\n",
       "      <th>power</th>\n",
       "      <th>hr</th>\n",
       "      <th>cad</th>\n",
       "    </tr>\n",
       "  </thead>\n",
       "  <tbody>\n",
       "    <tr>\n",
       "      <th>0</th>\n",
       "      <td>4</td>\n",
       "      <td>98.4</td>\n",
       "      <td>98.0</td>\n",
       "      <td>77.0</td>\n",
       "    </tr>\n",
       "    <tr>\n",
       "      <th>1</th>\n",
       "      <td>5</td>\n",
       "      <td>112.2</td>\n",
       "      <td>100.0</td>\n",
       "      <td>77.4</td>\n",
       "    </tr>\n",
       "    <tr>\n",
       "      <th>2</th>\n",
       "      <td>6</td>\n",
       "      <td>118.0</td>\n",
       "      <td>100.0</td>\n",
       "      <td>78.2</td>\n",
       "    </tr>\n",
       "    <tr>\n",
       "      <th>3</th>\n",
       "      <td>7</td>\n",
       "      <td>126.0</td>\n",
       "      <td>100.0</td>\n",
       "      <td>79.6</td>\n",
       "    </tr>\n",
       "    <tr>\n",
       "      <th>4</th>\n",
       "      <td>8</td>\n",
       "      <td>137.0</td>\n",
       "      <td>100.2</td>\n",
       "      <td>80.8</td>\n",
       "    </tr>\n",
       "    <tr>\n",
       "      <th>...</th>\n",
       "      <td>...</td>\n",
       "      <td>...</td>\n",
       "      <td>...</td>\n",
       "      <td>...</td>\n",
       "    </tr>\n",
       "    <tr>\n",
       "      <th>20434</th>\n",
       "      <td>5323</td>\n",
       "      <td>0.0</td>\n",
       "      <td>96.0</td>\n",
       "      <td>0.0</td>\n",
       "    </tr>\n",
       "    <tr>\n",
       "      <th>20435</th>\n",
       "      <td>5440</td>\n",
       "      <td>0.0</td>\n",
       "      <td>95.4</td>\n",
       "      <td>0.0</td>\n",
       "    </tr>\n",
       "    <tr>\n",
       "      <th>20436</th>\n",
       "      <td>5441</td>\n",
       "      <td>0.0</td>\n",
       "      <td>95.0</td>\n",
       "      <td>0.0</td>\n",
       "    </tr>\n",
       "    <tr>\n",
       "      <th>20437</th>\n",
       "      <td>5442</td>\n",
       "      <td>0.0</td>\n",
       "      <td>94.6</td>\n",
       "      <td>0.0</td>\n",
       "    </tr>\n",
       "    <tr>\n",
       "      <th>20438</th>\n",
       "      <td>5443</td>\n",
       "      <td>0.0</td>\n",
       "      <td>94.4</td>\n",
       "      <td>0.0</td>\n",
       "    </tr>\n",
       "  </tbody>\n",
       "</table>\n",
       "<p>20439 rows × 4 columns</p>\n",
       "</div>"
      ],
      "text/plain": [
       "       secs  power     hr   cad\n",
       "0         4   98.4   98.0  77.0\n",
       "1         5  112.2  100.0  77.4\n",
       "2         6  118.0  100.0  78.2\n",
       "3         7  126.0  100.0  79.6\n",
       "4         8  137.0  100.2  80.8\n",
       "...     ...    ...    ...   ...\n",
       "20434  5323    0.0   96.0   0.0\n",
       "20435  5440    0.0   95.4   0.0\n",
       "20436  5441    0.0   95.0   0.0\n",
       "20437  5442    0.0   94.6   0.0\n",
       "20438  5443    0.0   94.4   0.0\n",
       "\n",
       "[20439 rows x 4 columns]"
      ]
     },
     "execution_count": 16,
     "metadata": {},
     "output_type": "execute_result"
    }
   ],
   "source": [
    "test_df = generate_dataframe(test_files, test_df)\n",
    "test_df"
   ]
  },
  {
   "cell_type": "code",
   "execution_count": 17,
   "id": "3fa62f8b-9e2f-49af-beab-16c5f617dc09",
   "metadata": {},
   "outputs": [
    {
     "data": {
      "text/plain": [
       "((109917, 4), (20439, 4))"
      ]
     },
     "execution_count": 17,
     "metadata": {},
     "output_type": "execute_result"
    }
   ],
   "source": [
    "train_df.shape, test_df.shape"
   ]
  },
  {
   "cell_type": "code",
   "execution_count": 18,
   "id": "6dd43b93-81af-4bfe-b457-2acf95fe9137",
   "metadata": {},
   "outputs": [
    {
     "data": {
      "text/plain": [
       "(secs     0\n",
       " power    0\n",
       " hr       0\n",
       " cad      0\n",
       " dtype: int64,\n",
       " secs     0\n",
       " power    0\n",
       " hr       0\n",
       " cad      0\n",
       " dtype: int64)"
      ]
     },
     "execution_count": 18,
     "metadata": {},
     "output_type": "execute_result"
    }
   ],
   "source": [
    "train_df.isnull().sum(), test_df.isnull().sum()"
   ]
  },
  {
   "cell_type": "code",
   "execution_count": 19,
   "id": "d82c2fad-ec52-4885-b47c-46cdd2158157",
   "metadata": {},
   "outputs": [
    {
     "data": {
      "text/plain": [
       "(secs       int64\n",
       " power    float64\n",
       " hr       float64\n",
       " cad      float64\n",
       " dtype: object,\n",
       " secs       int64\n",
       " power    float64\n",
       " hr       float64\n",
       " cad      float64\n",
       " dtype: object)"
      ]
     },
     "execution_count": 19,
     "metadata": {},
     "output_type": "execute_result"
    }
   ],
   "source": [
    "train_df.dtypes, test_df.dtypes"
   ]
  },
  {
   "cell_type": "code",
   "execution_count": 20,
   "id": "d479fe37-2647-4190-bf04-cae56a20e9fa",
   "metadata": {},
   "outputs": [],
   "source": [
    "# save out\n",
    "train_df.to_csv('../data/cleaned_gc_data/gc_train.csv')\n",
    "test_df.to_csv('../data/cleaned_gc_data/gc_test.csv')"
   ]
  },
  {
   "cell_type": "code",
   "execution_count": null,
   "id": "199a405c-df39-409b-959c-3c582e27df51",
   "metadata": {},
   "outputs": [],
   "source": []
  }
 ],
 "metadata": {
  "kernelspec": {
   "display_name": "Python 3 (ipykernel)",
   "language": "python",
   "name": "python3"
  },
  "language_info": {
   "codemirror_mode": {
    "name": "ipython",
    "version": 3
   },
   "file_extension": ".py",
   "mimetype": "text/x-python",
   "name": "python",
   "nbconvert_exporter": "python",
   "pygments_lexer": "ipython3",
   "version": "3.8.8"
  }
 },
 "nbformat": 4,
 "nbformat_minor": 5
}
