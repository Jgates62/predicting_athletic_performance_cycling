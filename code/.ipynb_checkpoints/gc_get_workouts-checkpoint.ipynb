{
 "cells": [
  {
   "cell_type": "code",
   "execution_count": 51,
   "id": "d5c83e7b-939a-4f40-9ebc-9c4bacb23115",
   "metadata": {},
   "outputs": [],
   "source": [
    "import pandas as pd\n",
    "import numpy as np\n",
    "import os"
   ]
  },
  {
   "cell_type": "code",
   "execution_count": 52,
   "id": "da4d78f1-6e0a-414b-bcc1-b6715107c5f1",
   "metadata": {},
   "outputs": [],
   "source": [
    "# evaluate every file in '../data/gc_data/athlete_1' and return a list of file names that are indoor cycling workouts"
   ]
  },
  {
   "cell_type": "code",
   "execution_count": 53,
   "id": "7d89a19a-c5d4-4bb2-906d-ce1381c8ec63",
   "metadata": {},
   "outputs": [
    {
     "name": "stdout",
     "output_type": "stream",
     "text": [
      "Could not create \"approved_workouts\"\n"
     ]
    }
   ],
   "source": [
    "# Create an output folder.\n",
    "try:\n",
    "    os.mkdir('../data/gc_data/approved_workouts')\n",
    "except:\n",
    "    print('Could not create \"approved_workouts\"')\n"
   ]
  },
  {
   "cell_type": "code",
   "execution_count": 54,
   "id": "b6b4430b-f7d6-4257-91f3-e10ac2217d1e",
   "metadata": {},
   "outputs": [
    {
     "data": {
      "text/plain": [
       "['2017_01_31_14_35_01.csv',\n",
       " '2017_02_02_20_20_15.csv',\n",
       " '2017_02_04_14_44_48.csv',\n",
       " '2017_06_05_10_22_19.csv',\n",
       " '2017_07_06_17_01_51.csv',\n",
       " '2017_07_07_14_20_48.csv',\n",
       " '2017_07_07_17_45_09.csv',\n",
       " '2017_07_08_14_45_22.csv',\n",
       " '2017_07_11_18_31_34.csv',\n",
       " '2017_07_13_14_48_44.csv',\n",
       " '2017_07_13_20_15_02.csv',\n",
       " '2017_07_15_15_06_03.csv',\n",
       " '2017_07_17_11_41_35.csv',\n",
       " '2017_07_17_18_13_13.csv',\n",
       " '2017_07_21_11_47_30.csv',\n",
       " '2017_07_22_16_31_29.csv',\n",
       " '2017_07_25_18_30_11.csv',\n",
       " '2017_07_30_11_52_47.csv',\n",
       " '2017_08_04_15_46_28.csv',\n",
       " '2017_08_05_18_44_27.csv',\n",
       " '2017_08_08_16_48_48.csv',\n",
       " '2017_08_09_13_48_40.csv',\n",
       " '2017_08_13_12_47_21.csv',\n",
       " '2018_08_23_12_47_39.csv',\n",
       " '2018_08_23_17_01_10.csv',\n",
       " '2018_08_25_10_37_28.csv',\n",
       " '2018_08_26_13_21_28.csv',\n",
       " '2018_09_02_12_31_49.csv',\n",
       " '2018_09_02_13_34_00.csv',\n",
       " '2018_09_03_12_41_42.csv',\n",
       " '2018_09_03_17_16_10.csv',\n",
       " '2018_09_08_16_49_44.csv',\n",
       " '2018_09_10_16_27_16.csv',\n",
       " '2018_09_11_13_44_03.csv',\n",
       " '2018_09_11_18_13_17.csv',\n",
       " '2018_09_12_07_48_04.csv',\n",
       " '2018_09_16_14_25_17.csv',\n",
       " '2018_09_17_18_11_49.csv',\n",
       " '2018_09_18_17_42_34.csv',\n",
       " '2018_09_19_18_01_23.csv',\n",
       " '2018_11_07_16_41_57.csv',\n",
       " '2018_11_09_16_02_16.csv',\n",
       " '2018_11_12_16_08_49.csv',\n",
       " '2018_11_20_16_33_44.csv',\n",
       " '2018_11_21_14_08_27.csv',\n",
       " '2018_11_24_12_01_32.csv',\n",
       " '2018_11_25_15_16_06.csv',\n",
       " '2018_11_27_17_11_39.csv',\n",
       " '2018_11_29_16_43_41.csv',\n",
       " '2018_11_30_13_43_37.csv',\n",
       " '2018_12_06_16_43_52.csv',\n",
       " '2018_12_21_12_31_11.csv',\n",
       " '2019_01_06_12_25_29.csv',\n",
       " '2019_01_16_17_41_02.csv',\n",
       " '2019_01_17_17_36_11.csv',\n",
       " '2019_01_18_11_06_33.csv',\n",
       " '2019_01_18_17_32_51.csv',\n",
       " '2019_01_20_10_15_05.csv',\n",
       " '2019_01_23_19_05_53.csv',\n",
       " '2019_01_26_10_15_15.csv',\n",
       " '2019_01_26_10_47_31.csv',\n",
       " '2019_01_27_11_05_37.csv',\n",
       " '2019_01_28_06_40_22.csv',\n",
       " '2019_01_31_10_09_57.csv',\n",
       " '2019_01_31_10_24_03.csv',\n",
       " '2019_01_31_11_52_18.csv',\n",
       " '2019_02_01_12_22_45.csv',\n",
       " '2019_02_02_11_12_05.csv',\n",
       " '2019_02_03_10_10_49.csv',\n",
       " '2019_02_03_12_59_11.csv',\n",
       " '2019_02_05_15_19_18.csv',\n",
       " '2019_02_05_17_27_44.csv',\n",
       " '2019_02_08_18_11_21.csv',\n",
       " '2019_02_10_10_22_31.csv',\n",
       " '2019_02_11_17_22_15.csv',\n",
       " '2019_02_12_06_11_44.csv',\n",
       " '2019_02_28_17_19_53.csv',\n",
       " '2019_03_01_15_57_26.csv',\n",
       " '2019_03_02_12_56_52.csv',\n",
       " '2019_03_05_17_04_01.csv',\n",
       " '2019_03_06_16_48_48.csv',\n",
       " '2019_03_07_16_15_12.csv',\n",
       " '2019_03_09_13_43_54.csv',\n",
       " '2019_03_10_15_00_14.csv',\n",
       " '2019_03_11_19_02_54.csv',\n",
       " '2019_03_12_10_50_14.csv',\n",
       " '2019_03_14_16_25_51.csv',\n",
       " '2019_03_15_17_09_32.csv',\n",
       " '2019_03_17_12_31_26.csv',\n",
       " '2019_03_18_16_37_08.csv',\n",
       " '2019_03_20_12_34_00.csv',\n",
       " '2019_03_20_17_31_26.csv',\n",
       " '2019_03_21_16_48_49.csv',\n",
       " '2019_03_24_11_56_31.csv',\n",
       " '2019_03_24_15_20_46.csv',\n",
       " '2019_03_27_17_08_35.csv',\n",
       " '2019_03_28_15_36_59.csv',\n",
       " '2019_03_30_10_06_35.csv',\n",
       " '2019_03_31_09_29_45.csv',\n",
       " '2019_03_31_10_21_53.csv',\n",
       " '2019_04_02_23_08_52.csv',\n",
       " '2019_04_04_08_33_03.csv',\n",
       " '2019_04_05_22_29_16.csv',\n",
       " '2019_04_06_07_34_59.csv',\n",
       " '2019_04_09_22_21_05.csv',\n",
       " '2019_04_09_23_10_43.csv']"
      ]
     },
     "execution_count": 54,
     "metadata": {},
     "output_type": "execute_result"
    }
   ],
   "source": [
    "# Create a files variable that contains all of our data files.\n",
    "files = os.listdir('../data/gc_data/athlete_1')\n",
    "\n",
    "# keep only the csv files\n",
    "files = [file for file in files if '.csv' in file]\n",
    "files"
   ]
  },
  {
   "cell_type": "code",
   "execution_count": null,
   "id": "c43dc176-a371-4e70-8492-a96803a92616",
   "metadata": {},
   "outputs": [],
   "source": [
    "# Determine if the current df is a stationary trainer cycling workout\n",
    "\n",
    "def check_dataframe(cur_df):\n",
    "    useable = True\n",
    "\n",
    "    # Must have power data\n",
    "    if cur_df['power'].sum() < 5:\n",
    "        useable = False\n",
    "        \n",
    "    # Must have hr data\n",
    "    elif cur_df['hr'].sum() < 5:\n",
    "        useable = False\n",
    "    \n",
    "    # Must have cadence data\n",
    "    elif cur_df['cad'].sum() < 5:\n",
    "        useable = False\n",
    "        \n",
    "    # 'km' sum must be close to 0\n",
    "    elif cur_df['km'].sum() > 1:\n",
    "        useable = False\n",
    "        \n",
    "    # The max altitude must be within 10 feet of the starting elevation\n",
    "    elif cur_df['alt'].max() > cur_df['alt'][0] + 10 or cur_df['alt'].min() < cur_df['alt'][0] - 10:\n",
    "        useable = False\n",
    "\n",
    "    return useable"
   ]
  },
  {
   "cell_type": "code",
   "execution_count": 55,
   "id": "cc254388-2ec7-4824-95be-122df38420da",
   "metadata": {},
   "outputs": [
    {
     "data": {
      "text/plain": [
       "['2019_03_31_09_29_45.csv', '2019_04_09_22_21_05.csv']"
      ]
     },
     "execution_count": 55,
     "metadata": {},
     "output_type": "execute_result"
    }
   ],
   "source": [
    "useable_files = []\n",
    "\n",
    "for file in files:\n",
    "    df = pd.read_csv(f'../data/gc_data/athlete_1/{file}')\n",
    "    \n",
    "    # impute 0 for nulls\n",
    "    df.fillna(0, inplace= True)\n",
    "    #print(df.head())\n",
    "    \n",
    "    # check and see if the file us useable\n",
    "    if check_dataframe(df):\n",
    "        useable_files.append(file)\n",
    "        \n",
    "useable_files"
   ]
  },
  {
   "cell_type": "code",
   "execution_count": 45,
   "id": "dd837228-8daa-483c-960a-642a1c140ce7",
   "metadata": {},
   "outputs": [],
   "source": []
  },
  {
   "cell_type": "code",
   "execution_count": null,
   "id": "1962b89c-bc59-4212-b35a-f3daaa35ede4",
   "metadata": {},
   "outputs": [],
   "source": []
  }
 ],
 "metadata": {
  "kernelspec": {
   "display_name": "Python 3 (ipykernel)",
   "language": "python",
   "name": "python3"
  },
  "language_info": {
   "codemirror_mode": {
    "name": "ipython",
    "version": 3
   },
   "file_extension": ".py",
   "mimetype": "text/x-python",
   "name": "python",
   "nbconvert_exporter": "python",
   "pygments_lexer": "ipython3",
   "version": "3.8.8"
  }
 },
 "nbformat": 4,
 "nbformat_minor": 5
}
