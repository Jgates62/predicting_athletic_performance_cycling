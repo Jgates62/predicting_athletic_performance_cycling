{
 "cells": [
  {
   "cell_type": "code",
   "execution_count": 90,
   "id": "e05edb5c-93ab-41de-9656-a13ef0b67369",
   "metadata": {},
   "outputs": [],
   "source": [
    "import pandas as pd\n",
    "import numpy as np\n",
    "import matplotlib.pyplot as plt\n",
    "import seaborn as sns\n",
    "\n",
    "from sklearn.preprocessing import MinMaxScaler, StandardScaler\n",
    "from sklearn.model_selection import train_test_split\n",
    "from sklearn.metrics import accuracy_score, mean_squared_error, r2_score\n",
    "\n",
    "from tensorflow import keras\n",
    "from tensorflow.keras.models import Sequential\n",
    "from tensorflow.keras.layers import Dense, Dropout, GRU\n",
    "from tensorflow.keras.optimizers import Adam\n",
    "from tensorflow.keras.preprocessing.sequence import TimeseriesGenerator"
   ]
  },
  {
   "cell_type": "code",
   "execution_count": 91,
   "id": "ea239700-9a91-4876-b5b5-d16c628e3f4f",
   "metadata": {},
   "outputs": [],
   "source": [
    "# Use for conda env:tfkGPU - otherwise comment out\n",
    "import tensorflow as tf\n",
    "configuration = tf.compat.v1.ConfigProto()\n",
    "configuration.gpu_options.allow_growth = True\n",
    "session = tf.compat.v1.Session(config=configuration)"
   ]
  },
  {
   "cell_type": "code",
   "execution_count": 92,
   "id": "860d2a1b-d09a-460f-96ce-9c726be3565c",
   "metadata": {},
   "outputs": [],
   "source": [
    "train_df = pd.read_csv('../data/cleaned_gc_data/gc_train.csv', index_col= 'Unnamed: 0')\n",
    "test_df = pd.read_csv('../data/cleaned_gc_data/gc_test.csv', index_col= 'Unnamed: 0')"
   ]
  },
  {
   "cell_type": "code",
   "execution_count": 93,
   "id": "e36510e3-d6b1-4ddc-b357-067a07404ce9",
   "metadata": {},
   "outputs": [
    {
     "data": {
      "text/html": [
       "<div>\n",
       "<style scoped>\n",
       "    .dataframe tbody tr th:only-of-type {\n",
       "        vertical-align: middle;\n",
       "    }\n",
       "\n",
       "    .dataframe tbody tr th {\n",
       "        vertical-align: top;\n",
       "    }\n",
       "\n",
       "    .dataframe thead th {\n",
       "        text-align: right;\n",
       "    }\n",
       "</style>\n",
       "<table border=\"1\" class=\"dataframe\">\n",
       "  <thead>\n",
       "    <tr style=\"text-align: right;\">\n",
       "      <th></th>\n",
       "      <th>secs</th>\n",
       "      <th>power</th>\n",
       "      <th>hr</th>\n",
       "      <th>cad</th>\n",
       "    </tr>\n",
       "  </thead>\n",
       "  <tbody>\n",
       "    <tr>\n",
       "      <th>0</th>\n",
       "      <td>4</td>\n",
       "      <td>33.4</td>\n",
       "      <td>76.0</td>\n",
       "      <td>28.2</td>\n",
       "    </tr>\n",
       "    <tr>\n",
       "      <th>1</th>\n",
       "      <td>5</td>\n",
       "      <td>57.4</td>\n",
       "      <td>77.0</td>\n",
       "      <td>39.6</td>\n",
       "    </tr>\n",
       "    <tr>\n",
       "      <th>2</th>\n",
       "      <td>6</td>\n",
       "      <td>80.8</td>\n",
       "      <td>78.0</td>\n",
       "      <td>47.4</td>\n",
       "    </tr>\n",
       "    <tr>\n",
       "      <th>3</th>\n",
       "      <td>7</td>\n",
       "      <td>100.6</td>\n",
       "      <td>79.0</td>\n",
       "      <td>56.0</td>\n",
       "    </tr>\n",
       "    <tr>\n",
       "      <th>4</th>\n",
       "      <td>8</td>\n",
       "      <td>111.4</td>\n",
       "      <td>80.0</td>\n",
       "      <td>59.6</td>\n",
       "    </tr>\n",
       "  </tbody>\n",
       "</table>\n",
       "</div>"
      ],
      "text/plain": [
       "   secs  power    hr   cad\n",
       "0     4   33.4  76.0  28.2\n",
       "1     5   57.4  77.0  39.6\n",
       "2     6   80.8  78.0  47.4\n",
       "3     7  100.6  79.0  56.0\n",
       "4     8  111.4  80.0  59.6"
      ]
     },
     "execution_count": 93,
     "metadata": {},
     "output_type": "execute_result"
    }
   ],
   "source": [
    "train_df.head()"
   ]
  },
  {
   "cell_type": "code",
   "execution_count": 94,
   "id": "c37edf3e-3b21-4bcc-8ede-7ba43d575aac",
   "metadata": {},
   "outputs": [
    {
     "data": {
      "text/html": [
       "<div>\n",
       "<style scoped>\n",
       "    .dataframe tbody tr th:only-of-type {\n",
       "        vertical-align: middle;\n",
       "    }\n",
       "\n",
       "    .dataframe tbody tr th {\n",
       "        vertical-align: top;\n",
       "    }\n",
       "\n",
       "    .dataframe thead th {\n",
       "        text-align: right;\n",
       "    }\n",
       "</style>\n",
       "<table border=\"1\" class=\"dataframe\">\n",
       "  <thead>\n",
       "    <tr style=\"text-align: right;\">\n",
       "      <th></th>\n",
       "      <th>secs</th>\n",
       "      <th>power</th>\n",
       "      <th>hr</th>\n",
       "      <th>cad</th>\n",
       "    </tr>\n",
       "  </thead>\n",
       "  <tbody>\n",
       "    <tr>\n",
       "      <th>0</th>\n",
       "      <td>4</td>\n",
       "      <td>98.4</td>\n",
       "      <td>98.0</td>\n",
       "      <td>77.0</td>\n",
       "    </tr>\n",
       "    <tr>\n",
       "      <th>1</th>\n",
       "      <td>5</td>\n",
       "      <td>112.2</td>\n",
       "      <td>100.0</td>\n",
       "      <td>77.4</td>\n",
       "    </tr>\n",
       "    <tr>\n",
       "      <th>2</th>\n",
       "      <td>6</td>\n",
       "      <td>118.0</td>\n",
       "      <td>100.0</td>\n",
       "      <td>78.2</td>\n",
       "    </tr>\n",
       "    <tr>\n",
       "      <th>3</th>\n",
       "      <td>7</td>\n",
       "      <td>126.0</td>\n",
       "      <td>100.0</td>\n",
       "      <td>79.6</td>\n",
       "    </tr>\n",
       "    <tr>\n",
       "      <th>4</th>\n",
       "      <td>8</td>\n",
       "      <td>137.0</td>\n",
       "      <td>100.2</td>\n",
       "      <td>80.8</td>\n",
       "    </tr>\n",
       "  </tbody>\n",
       "</table>\n",
       "</div>"
      ],
      "text/plain": [
       "   secs  power     hr   cad\n",
       "0     4   98.4   98.0  77.0\n",
       "1     5  112.2  100.0  77.4\n",
       "2     6  118.0  100.0  78.2\n",
       "3     7  126.0  100.0  79.6\n",
       "4     8  137.0  100.2  80.8"
      ]
     },
     "execution_count": 94,
     "metadata": {},
     "output_type": "execute_result"
    }
   ],
   "source": [
    "test_df.head()"
   ]
  },
  {
   "cell_type": "code",
   "execution_count": null,
   "id": "c2bd2f80-b599-408c-b0fa-0eb089766d77",
   "metadata": {},
   "outputs": [],
   "source": []
  },
  {
   "cell_type": "code",
   "execution_count": 95,
   "id": "1dead4ba-862c-4665-9e7c-08ed50be5981",
   "metadata": {},
   "outputs": [],
   "source": [
    "# Scaling the data\n",
    "mm_scaler = MinMaxScaler()\n",
    "train_data_scaled = mm_scaler.fit_transform(train_df)\n",
    "test_data_scaled = mm_scaler.fit_transform(test_df)"
   ]
  },
  {
   "cell_type": "code",
   "execution_count": 96,
   "id": "22296d00-076d-4b1a-b0f8-9b26a79eb241",
   "metadata": {},
   "outputs": [
    {
     "data": {
      "text/html": [
       "<div>\n",
       "<style scoped>\n",
       "    .dataframe tbody tr th:only-of-type {\n",
       "        vertical-align: middle;\n",
       "    }\n",
       "\n",
       "    .dataframe tbody tr th {\n",
       "        vertical-align: top;\n",
       "    }\n",
       "\n",
       "    .dataframe thead th {\n",
       "        text-align: right;\n",
       "    }\n",
       "</style>\n",
       "<table border=\"1\" class=\"dataframe\">\n",
       "  <thead>\n",
       "    <tr style=\"text-align: right;\">\n",
       "      <th></th>\n",
       "      <th>0</th>\n",
       "      <th>1</th>\n",
       "      <th>2</th>\n",
       "      <th>3</th>\n",
       "    </tr>\n",
       "  </thead>\n",
       "  <tbody>\n",
       "    <tr>\n",
       "      <th>0</th>\n",
       "      <td>0.000000</td>\n",
       "      <td>0.047578</td>\n",
       "      <td>0.222222</td>\n",
       "      <td>0.173645</td>\n",
       "    </tr>\n",
       "    <tr>\n",
       "      <th>1</th>\n",
       "      <td>0.000161</td>\n",
       "      <td>0.081766</td>\n",
       "      <td>0.229938</td>\n",
       "      <td>0.243842</td>\n",
       "    </tr>\n",
       "    <tr>\n",
       "      <th>2</th>\n",
       "      <td>0.000322</td>\n",
       "      <td>0.115100</td>\n",
       "      <td>0.237654</td>\n",
       "      <td>0.291872</td>\n",
       "    </tr>\n",
       "    <tr>\n",
       "      <th>3</th>\n",
       "      <td>0.000483</td>\n",
       "      <td>0.143305</td>\n",
       "      <td>0.245370</td>\n",
       "      <td>0.344828</td>\n",
       "    </tr>\n",
       "    <tr>\n",
       "      <th>4</th>\n",
       "      <td>0.000644</td>\n",
       "      <td>0.158689</td>\n",
       "      <td>0.253086</td>\n",
       "      <td>0.366995</td>\n",
       "    </tr>\n",
       "    <tr>\n",
       "      <th>...</th>\n",
       "      <td>...</td>\n",
       "      <td>...</td>\n",
       "      <td>...</td>\n",
       "      <td>...</td>\n",
       "    </tr>\n",
       "    <tr>\n",
       "      <th>109912</th>\n",
       "      <td>0.559742</td>\n",
       "      <td>0.000000</td>\n",
       "      <td>0.348765</td>\n",
       "      <td>0.000000</td>\n",
       "    </tr>\n",
       "    <tr>\n",
       "      <th>109913</th>\n",
       "      <td>0.559903</td>\n",
       "      <td>0.000000</td>\n",
       "      <td>0.345679</td>\n",
       "      <td>0.000000</td>\n",
       "    </tr>\n",
       "    <tr>\n",
       "      <th>109914</th>\n",
       "      <td>0.560064</td>\n",
       "      <td>0.000000</td>\n",
       "      <td>0.342593</td>\n",
       "      <td>0.000000</td>\n",
       "    </tr>\n",
       "    <tr>\n",
       "      <th>109915</th>\n",
       "      <td>0.560225</td>\n",
       "      <td>0.000000</td>\n",
       "      <td>0.339506</td>\n",
       "      <td>0.000000</td>\n",
       "    </tr>\n",
       "    <tr>\n",
       "      <th>109916</th>\n",
       "      <td>0.560386</td>\n",
       "      <td>0.000000</td>\n",
       "      <td>0.341049</td>\n",
       "      <td>0.000000</td>\n",
       "    </tr>\n",
       "  </tbody>\n",
       "</table>\n",
       "<p>109917 rows × 4 columns</p>\n",
       "</div>"
      ],
      "text/plain": [
       "               0         1         2         3\n",
       "0       0.000000  0.047578  0.222222  0.173645\n",
       "1       0.000161  0.081766  0.229938  0.243842\n",
       "2       0.000322  0.115100  0.237654  0.291872\n",
       "3       0.000483  0.143305  0.245370  0.344828\n",
       "4       0.000644  0.158689  0.253086  0.366995\n",
       "...          ...       ...       ...       ...\n",
       "109912  0.559742  0.000000  0.348765  0.000000\n",
       "109913  0.559903  0.000000  0.345679  0.000000\n",
       "109914  0.560064  0.000000  0.342593  0.000000\n",
       "109915  0.560225  0.000000  0.339506  0.000000\n",
       "109916  0.560386  0.000000  0.341049  0.000000\n",
       "\n",
       "[109917 rows x 4 columns]"
      ]
     },
     "execution_count": 96,
     "metadata": {},
     "output_type": "execute_result"
    }
   ],
   "source": [
    "pd.DataFrame(train_data_scaled)"
   ]
  },
  {
   "cell_type": "code",
   "execution_count": 97,
   "id": "a1395964-ef01-4aa4-ba28-e74b52cb630d",
   "metadata": {},
   "outputs": [],
   "source": [
    "# X = data_scaled\n",
    "# y = data_scaled[:,3] # HR is the target"
   ]
  },
  {
   "cell_type": "code",
   "execution_count": 98,
   "id": "9251cc49-f4b8-452b-85ff-9fbfa495e006",
   "metadata": {},
   "outputs": [],
   "source": [
    "# Train/Test Split\n",
    "#X_train, X_test, y_train, y_test = train_test_split(X, y, test_size= 0.2, shuffle= False, random_state = 42)\n",
    "X_train = train_data_scaled\n",
    "X_test = test_data_scaled\n",
    "y_train = train_data_scaled[:,2]\n",
    "y_test = test_data_scaled[:,2]\n"
   ]
  },
  {
   "cell_type": "code",
   "execution_count": 99,
   "id": "6b419649-7f7d-4891-a341-53d73ec60f55",
   "metadata": {},
   "outputs": [
    {
     "data": {
      "text/plain": [
       "(109917, 4)"
      ]
     },
     "execution_count": 99,
     "metadata": {},
     "output_type": "execute_result"
    }
   ],
   "source": [
    "X_train.shape"
   ]
  },
  {
   "cell_type": "code",
   "execution_count": 100,
   "id": "efcb68da-d251-472e-a208-afaef1297993",
   "metadata": {},
   "outputs": [
    {
     "data": {
      "text/plain": [
       "(20439, 4)"
      ]
     },
     "execution_count": 100,
     "metadata": {},
     "output_type": "execute_result"
    }
   ],
   "source": [
    "X_test.shape"
   ]
  },
  {
   "cell_type": "code",
   "execution_count": 101,
   "id": "534903a7-c7dd-4046-92d3-6fe590d576f7",
   "metadata": {},
   "outputs": [
    {
     "data": {
      "text/plain": [
       "(109917,)"
      ]
     },
     "execution_count": 101,
     "metadata": {},
     "output_type": "execute_result"
    }
   ],
   "source": [
    "y_train.shape"
   ]
  },
  {
   "cell_type": "code",
   "execution_count": 102,
   "id": "1625d6ba-d997-4dbb-9828-c01bea7655eb",
   "metadata": {},
   "outputs": [
    {
     "data": {
      "text/plain": [
       "(20439,)"
      ]
     },
     "execution_count": 102,
     "metadata": {},
     "output_type": "execute_result"
    }
   ],
   "source": [
    "y_test.shape"
   ]
  },
  {
   "cell_type": "code",
   "execution_count": 103,
   "id": "16716f5e-20d2-4e18-b509-4d3be88201c5",
   "metadata": {},
   "outputs": [],
   "source": [
    "win_length = 70\n",
    "batch_size= 32\n",
    "num_features = X_train.shape[1]\n",
    "\n",
    "# Create training sequences\n",
    "train_generator = TimeseriesGenerator(X_train, y_train, length= win_length, sampling_rate= 1, batch_size= batch_size )\n",
    "\n",
    "# Create test sequences\n",
    "test_generator = TimeseriesGenerator(X_test, y_test, length= win_length, sampling_rate= 1, batch_size= batch_size )"
   ]
  },
  {
   "cell_type": "code",
   "execution_count": 104,
   "id": "3fe66b5c-2daf-42c0-b246-e43bfe1ad233",
   "metadata": {},
   "outputs": [
    {
     "data": {
      "text/plain": [
       "(32, 70, 4)"
      ]
     },
     "execution_count": 104,
     "metadata": {},
     "output_type": "execute_result"
    }
   ],
   "source": [
    "train_generator[0][0].shape"
   ]
  },
  {
   "cell_type": "code",
   "execution_count": 105,
   "id": "d2eb5698-6ee3-4e17-b535-7b621d02f62c",
   "metadata": {},
   "outputs": [],
   "source": [
    "# LSTM Model\n",
    "model = tf.keras.Sequential()\n",
    "model.add(tf.keras.layers.LSTM(128, input_shape= (win_length, num_features), return_sequences= True))\n",
    "model.add(tf.keras.layers.LeakyReLU(alpha= 0.5))\n",
    "model.add(tf.keras.layers.LSTM(128, return_sequences= True))\n",
    "model.add(tf.keras.layers.LeakyReLU(alpha= 0.5))\n",
    "model.add(tf.keras.layers.Dropout(0.5))\n",
    "model.add(tf.keras.layers.LSTM(64, return_sequences= False))\n",
    "model.add(tf.keras.layers.Dropout(0.3))\n",
    "model.add(tf.keras.layers.Dense(1))"
   ]
  },
  {
   "cell_type": "code",
   "execution_count": 106,
   "id": "98cdeb81-e0bb-4d36-bec4-58668f34062d",
   "metadata": {
    "tags": []
   },
   "outputs": [
    {
     "name": "stdout",
     "output_type": "stream",
     "text": [
      "Model: \"sequential_2\"\n",
      "_________________________________________________________________\n",
      "Layer (type)                 Output Shape              Param #   \n",
      "=================================================================\n",
      "lstm_6 (LSTM)                (None, 70, 128)           68096     \n",
      "_________________________________________________________________\n",
      "leaky_re_lu_4 (LeakyReLU)    (None, 70, 128)           0         \n",
      "_________________________________________________________________\n",
      "lstm_7 (LSTM)                (None, 70, 128)           131584    \n",
      "_________________________________________________________________\n",
      "leaky_re_lu_5 (LeakyReLU)    (None, 70, 128)           0         \n",
      "_________________________________________________________________\n",
      "dropout_4 (Dropout)          (None, 70, 128)           0         \n",
      "_________________________________________________________________\n",
      "lstm_8 (LSTM)                (None, 64)                49408     \n",
      "_________________________________________________________________\n",
      "dropout_5 (Dropout)          (None, 64)                0         \n",
      "_________________________________________________________________\n",
      "dense_2 (Dense)              (None, 1)                 65        \n",
      "=================================================================\n",
      "Total params: 249,153\n",
      "Trainable params: 249,153\n",
      "Non-trainable params: 0\n",
      "_________________________________________________________________\n"
     ]
    }
   ],
   "source": [
    "model.summary()"
   ]
  },
  {
   "cell_type": "code",
   "execution_count": 107,
   "id": "931d4ce8-7c72-4e2d-b94b-d61f1e2bca2c",
   "metadata": {
    "tags": []
   },
   "outputs": [
    {
     "name": "stdout",
     "output_type": "stream",
     "text": [
      "Epoch 1/75\n",
      "3433/3433 [==============================] - 60s 18ms/step - loss: 0.0079 - val_loss: 0.0022\n",
      "Epoch 2/75\n",
      "3433/3433 [==============================] - 60s 18ms/step - loss: 0.0018 - val_loss: 0.0011\n",
      "Epoch 3/75\n",
      "3433/3433 [==============================] - 60s 18ms/step - loss: 0.0012 - val_loss: 6.3893e-04\n",
      "Epoch 4/75\n",
      "3433/3433 [==============================] - 61s 18ms/step - loss: 6.9680e-04 - val_loss: 7.8637e-04\n",
      "Epoch 5/75\n",
      "3433/3433 [==============================] - 59s 17ms/step - loss: 5.6278e-04 - val_loss: 9.0747e-04\n",
      "Epoch 6/75\n",
      "3433/3433 [==============================] - 59s 17ms/step - loss: 5.2420e-04 - val_loss: 3.6643e-04\n",
      "Epoch 7/75\n",
      "3433/3433 [==============================] - 61s 18ms/step - loss: 4.2558e-04 - val_loss: 2.8297e-04\n",
      "Epoch 8/75\n",
      "3433/3433 [==============================] - 59s 17ms/step - loss: 4.3377e-04 - val_loss: 7.5385e-04\n",
      "Epoch 9/75\n",
      "3433/3433 [==============================] - 61s 18ms/step - loss: 4.3196e-04 - val_loss: 4.9425e-04\n",
      "Epoch 10/75\n",
      "3433/3433 [==============================] - 61s 18ms/step - loss: 4.0495e-04 - val_loss: 4.9222e-04\n",
      "Epoch 11/75\n",
      "3433/3433 [==============================] - 59s 17ms/step - loss: 3.9933e-04 - val_loss: 4.3495e-04\n",
      "Epoch 12/75\n",
      "3433/3433 [==============================] - 59s 17ms/step - loss: 3.7636e-04 - val_loss: 4.9847e-04\n",
      "Epoch 13/75\n",
      "3433/3433 [==============================] - 59s 17ms/step - loss: 3.6332e-04 - val_loss: 3.7232e-04\n",
      "Epoch 14/75\n",
      "3433/3433 [==============================] - 59s 17ms/step - loss: 3.3949e-04 - val_loss: 1.3514e-04\n",
      "Epoch 15/75\n",
      "3433/3433 [==============================] - 58s 17ms/step - loss: 3.1444e-04 - val_loss: 2.9418e-04\n",
      "Epoch 16/75\n",
      "3433/3433 [==============================] - 59s 17ms/step - loss: 3.0580e-04 - val_loss: 1.5220e-04\n",
      "Epoch 17/75\n",
      "3433/3433 [==============================] - 60s 17ms/step - loss: 2.8507e-04 - val_loss: 1.5479e-04\n",
      "Epoch 18/75\n",
      "3433/3433 [==============================] - 59s 17ms/step - loss: 2.7780e-04 - val_loss: 4.5733e-04\n",
      "Epoch 19/75\n",
      "3433/3433 [==============================] - 59s 17ms/step - loss: 2.7729e-04 - val_loss: 2.2384e-04\n",
      "Epoch 20/75\n",
      "3433/3433 [==============================] - 59s 17ms/step - loss: 2.8728e-04 - val_loss: 1.7116e-04\n",
      "Epoch 21/75\n",
      "3433/3433 [==============================] - 59s 17ms/step - loss: 2.8752e-04 - val_loss: 1.8506e-04\n",
      "Epoch 22/75\n",
      "3433/3433 [==============================] - 59s 17ms/step - loss: 2.7004e-04 - val_loss: 2.5818e-04\n",
      "Epoch 23/75\n",
      "3433/3433 [==============================] - 59s 17ms/step - loss: 2.6536e-04 - val_loss: 2.0950e-04\n",
      "Epoch 24/75\n",
      "3433/3433 [==============================] - 61s 18ms/step - loss: 2.6849e-04 - val_loss: 2.1823e-04\n",
      "Epoch 25/75\n",
      "3433/3433 [==============================] - 61s 18ms/step - loss: 2.6497e-04 - val_loss: 3.6853e-04\n",
      "Epoch 26/75\n",
      "3433/3433 [==============================] - 59s 17ms/step - loss: 2.5502e-04 - val_loss: 1.9343e-04\n",
      "Epoch 27/75\n",
      "3433/3433 [==============================] - 59s 17ms/step - loss: 2.4674e-04 - val_loss: 1.8272e-04\n",
      "Epoch 28/75\n",
      "3433/3433 [==============================] - 59s 17ms/step - loss: 2.5200e-04 - val_loss: 2.8156e-04\n",
      "Epoch 29/75\n",
      "3433/3433 [==============================] - 59s 17ms/step - loss: 2.5012e-04 - val_loss: 1.5944e-04\n",
      "Epoch 30/75\n",
      "3433/3433 [==============================] - 59s 17ms/step - loss: 2.4639e-04 - val_loss: 1.5195e-04\n",
      "Epoch 31/75\n",
      "3433/3433 [==============================] - 58s 17ms/step - loss: 2.3658e-04 - val_loss: 9.1372e-05\n",
      "Epoch 32/75\n",
      "3433/3433 [==============================] - 59s 17ms/step - loss: 2.4389e-04 - val_loss: 1.7803e-04\n",
      "Epoch 33/75\n",
      "3433/3433 [==============================] - 59s 17ms/step - loss: 2.4178e-04 - val_loss: 1.9962e-04\n",
      "Epoch 34/75\n",
      "3433/3433 [==============================] - 59s 17ms/step - loss: 2.3664e-04 - val_loss: 2.0329e-04\n",
      "Epoch 35/75\n",
      "3433/3433 [==============================] - 59s 17ms/step - loss: 2.3176e-04 - val_loss: 1.4692e-04\n",
      "Epoch 36/75\n",
      "3433/3433 [==============================] - 59s 17ms/step - loss: 2.3780e-04 - val_loss: 1.2977e-04\n",
      "Epoch 37/75\n",
      "3433/3433 [==============================] - 59s 17ms/step - loss: 2.2701e-04 - val_loss: 2.3993e-04\n",
      "Epoch 38/75\n",
      "3433/3433 [==============================] - 59s 17ms/step - loss: 2.3777e-04 - val_loss: 1.5336e-04\n",
      "Epoch 39/75\n",
      "3433/3433 [==============================] - 59s 17ms/step - loss: 2.2443e-04 - val_loss: 2.3232e-04\n",
      "Epoch 40/75\n",
      "3433/3433 [==============================] - 59s 17ms/step - loss: 2.3157e-04 - val_loss: 1.0856e-04\n",
      "Epoch 41/75\n",
      "3433/3433 [==============================] - 59s 17ms/step - loss: 2.2607e-04 - val_loss: 4.0907e-04\n",
      "Epoch 42/75\n",
      "3433/3433 [==============================] - 58s 17ms/step - loss: 2.2703e-04 - val_loss: 2.9982e-04\n",
      "Epoch 43/75\n",
      "3433/3433 [==============================] - 58s 17ms/step - loss: 2.3343e-04 - val_loss: 2.1139e-04\n",
      "Epoch 44/75\n",
      "3433/3433 [==============================] - 59s 17ms/step - loss: 2.2631e-04 - val_loss: 1.8987e-04\n",
      "Epoch 45/75\n",
      "3433/3433 [==============================] - 59s 17ms/step - loss: 2.1933e-04 - val_loss: 2.1910e-04\n",
      "Epoch 46/75\n",
      "3433/3433 [==============================] - 60s 18ms/step - loss: 2.2352e-04 - val_loss: 7.3058e-04\n",
      "Epoch 47/75\n",
      "3433/3433 [==============================] - 59s 17ms/step - loss: 2.3759e-04 - val_loss: 3.7120e-04\n",
      "Epoch 48/75\n",
      "3433/3433 [==============================] - 62s 18ms/step - loss: 2.1699e-04 - val_loss: 1.3697e-04\n",
      "Epoch 49/75\n",
      "3433/3433 [==============================] - 60s 17ms/step - loss: 2.2536e-04 - val_loss: 2.7479e-04\n",
      "Epoch 50/75\n",
      "3433/3433 [==============================] - 58s 17ms/step - loss: 2.1435e-04 - val_loss: 1.4605e-04\n",
      "Epoch 51/75\n",
      "3433/3433 [==============================] - 59s 17ms/step - loss: 2.2280e-04 - val_loss: 1.3538e-04\n",
      "Epoch 52/75\n",
      "3433/3433 [==============================] - 59s 17ms/step - loss: 2.3146e-04 - val_loss: 3.1135e-04\n",
      "Epoch 53/75\n",
      "3433/3433 [==============================] - 59s 17ms/step - loss: 2.3001e-04 - val_loss: 3.6118e-04\n",
      "Epoch 54/75\n",
      "3433/3433 [==============================] - 59s 17ms/step - loss: 2.1982e-04 - val_loss: 1.1403e-04\n",
      "Epoch 55/75\n",
      "3433/3433 [==============================] - 60s 17ms/step - loss: 2.1116e-04 - val_loss: 1.9881e-04\n",
      "Epoch 56/75\n",
      "3433/3433 [==============================] - 59s 17ms/step - loss: 2.0742e-04 - val_loss: 2.8673e-04\n",
      "Epoch 57/75\n",
      "3433/3433 [==============================] - 58s 17ms/step - loss: 2.1693e-04 - val_loss: 1.8140e-04\n",
      "Epoch 58/75\n",
      "3433/3433 [==============================] - 60s 17ms/step - loss: 2.1593e-04 - val_loss: 1.8650e-04\n",
      "Epoch 59/75\n",
      "3433/3433 [==============================] - 60s 17ms/step - loss: 2.1250e-04 - val_loss: 1.4641e-04\n",
      "Epoch 60/75\n",
      "3433/3433 [==============================] - 59s 17ms/step - loss: 2.2182e-04 - val_loss: 2.6479e-04\n",
      "Epoch 61/75\n",
      "3433/3433 [==============================] - 58s 17ms/step - loss: 2.1182e-04 - val_loss: 1.1485e-04\n",
      "Epoch 62/75\n",
      "3433/3433 [==============================] - 58s 17ms/step - loss: 2.1060e-04 - val_loss: 1.7141e-04\n",
      "Epoch 63/75\n",
      "3433/3433 [==============================] - 58s 17ms/step - loss: 2.1820e-04 - val_loss: 1.5207e-04\n",
      "Epoch 64/75\n",
      "3433/3433 [==============================] - 58s 17ms/step - loss: 2.0580e-04 - val_loss: 1.3720e-04\n",
      "Epoch 65/75\n",
      "3433/3433 [==============================] - 58s 17ms/step - loss: 2.0610e-04 - val_loss: 1.8171e-04\n",
      "Epoch 66/75\n",
      "3433/3433 [==============================] - 59s 17ms/step - loss: 2.1356e-04 - val_loss: 1.8095e-04\n",
      "Epoch 67/75\n",
      "3433/3433 [==============================] - 58s 17ms/step - loss: 2.0774e-04 - val_loss: 1.1153e-04\n",
      "Epoch 68/75\n",
      "3433/3433 [==============================] - 60s 17ms/step - loss: 2.1063e-04 - val_loss: 1.2017e-04\n",
      "Epoch 69/75\n",
      "3433/3433 [==============================] - 59s 17ms/step - loss: 2.1185e-04 - val_loss: 2.0806e-04\n",
      "Epoch 70/75\n",
      "3433/3433 [==============================] - 59s 17ms/step - loss: 2.0387e-04 - val_loss: 1.6369e-04\n",
      "Epoch 71/75\n",
      "3433/3433 [==============================] - 58s 17ms/step - loss: 2.0562e-04 - val_loss: 1.6754e-04\n",
      "Epoch 72/75\n",
      "3433/3433 [==============================] - 59s 17ms/step - loss: 2.0467e-04 - val_loss: 5.6427e-04\n",
      "Epoch 73/75\n",
      "3433/3433 [==============================] - 59s 17ms/step - loss: 2.1307e-04 - val_loss: 2.2894e-04\n",
      "Epoch 74/75\n",
      "3433/3433 [==============================] - 59s 17ms/step - loss: 2.1218e-04 - val_loss: 2.5363e-04\n",
      "Epoch 75/75\n",
      "3433/3433 [==============================] - 59s 17ms/step - loss: 2.1560e-04 - val_loss: 2.8219e-04\n"
     ]
    }
   ],
   "source": [
    "early_stopping = tf.keras.callbacks.EarlyStopping(monitor= 'val_loss',\n",
    "                                                 patience= 3,\n",
    "                                                 mode= 'min')\n",
    "\n",
    "model.compile(loss= tf.losses.MeanSquaredError(),\n",
    "              optimizer= tf.optimizers.Adam()\n",
    "              #metrics= [tf.metrics.MeanAbsoluteError()]\n",
    "             )\n",
    "\n",
    "history = model.fit(train_generator, epochs= 75,\n",
    "                              validation_data= test_generator,\n",
    "                              shuffle= False\n",
    "                              #callbacks= [early_stopping]\n",
    "                             )"
   ]
  },
  {
   "cell_type": "code",
   "execution_count": 108,
   "id": "62f8b879-9a52-4f72-be3f-485a798d2047",
   "metadata": {},
   "outputs": [],
   "source": [
    "train_preds = model.predict(train_generator)\n",
    "test_preds = model.predict(test_generator)"
   ]
  },
  {
   "cell_type": "code",
   "execution_count": 109,
   "id": "d9f47e79-b647-4e6c-828e-fde34c42678e",
   "metadata": {},
   "outputs": [
    {
     "data": {
      "text/plain": [
       "(0.9863843567067916, 0.9903731489994868)"
      ]
     },
     "execution_count": 109,
     "metadata": {},
     "output_type": "execute_result"
    }
   ],
   "source": [
    "r2_score(y_train[win_length:], train_preds), r2_score(y_test[win_length:], test_preds)"
   ]
  },
  {
   "cell_type": "code",
   "execution_count": 110,
   "id": "32f7f020-bd79-4278-a05a-4dbe9350637b",
   "metadata": {},
   "outputs": [
    {
     "data": {
      "text/plain": [
       "<matplotlib.legend.Legend at 0x207f4c9bb48>"
      ]
     },
     "execution_count": 110,
     "metadata": {},
     "output_type": "execute_result"
    },
    {
     "data": {
      "image/png": "[encoded data removed]",
      "text/plain": [
       "<Figure size 432x288 with 1 Axes>"
      ]
     },
     "metadata": {},
     "output_type": "display_data"
    }
   ],
   "source": [
    "plt.plot(history.history['loss'], label= 'Train')\n",
    "plt.plot(history.history['val_loss'], label= 'Test')\n",
    "plt.legend()\n",
    "#plt.ylim(0, .03);"
   ]
  },
  {
   "cell_type": "code",
   "execution_count": 111,
   "id": "67bae0b5-5797-4ffa-acbb-9767819f9943",
   "metadata": {},
   "outputs": [],
   "source": [
    "hr_test_results_sc = pd.DataFrame(X_test[win_length:])"
   ]
  },
  {
   "cell_type": "code",
   "execution_count": 112,
   "id": "24cf66eb-2e00-4526-8316-5f8e15c9eb44",
   "metadata": {},
   "outputs": [],
   "source": [
    "hr_test_results_sc[2] = test_preds"
   ]
  },
  {
   "cell_type": "code",
   "execution_count": 113,
   "id": "33ad8c4e-8bac-4da9-83dc-8278ada3186f",
   "metadata": {
    "tags": []
   },
   "outputs": [
    {
     "data": {
      "text/html": [
       "<div>\n",
       "<style scoped>\n",
       "    .dataframe tbody tr th:only-of-type {\n",
       "        vertical-align: middle;\n",
       "    }\n",
       "\n",
       "    .dataframe tbody tr th {\n",
       "        vertical-align: top;\n",
       "    }\n",
       "\n",
       "    .dataframe thead th {\n",
       "        text-align: right;\n",
       "    }\n",
       "</style>\n",
       "<table border=\"1\" class=\"dataframe\">\n",
       "  <thead>\n",
       "    <tr style=\"text-align: right;\">\n",
       "      <th></th>\n",
       "      <th>0</th>\n",
       "      <th>1</th>\n",
       "      <th>2</th>\n",
       "      <th>3</th>\n",
       "    </tr>\n",
       "  </thead>\n",
       "  <tbody>\n",
       "    <tr>\n",
       "      <th>0</th>\n",
       "      <td>0.012870</td>\n",
       "      <td>0.290142</td>\n",
       "      <td>0.670048</td>\n",
       "      <td>0.657420</td>\n",
       "    </tr>\n",
       "    <tr>\n",
       "      <th>1</th>\n",
       "      <td>0.013054</td>\n",
       "      <td>0.294290</td>\n",
       "      <td>0.674582</td>\n",
       "      <td>0.653259</td>\n",
       "    </tr>\n",
       "    <tr>\n",
       "      <th>2</th>\n",
       "      <td>0.013238</td>\n",
       "      <td>0.264031</td>\n",
       "      <td>0.678464</td>\n",
       "      <td>0.640777</td>\n",
       "    </tr>\n",
       "    <tr>\n",
       "      <th>3</th>\n",
       "      <td>0.013422</td>\n",
       "      <td>0.247194</td>\n",
       "      <td>0.682101</td>\n",
       "      <td>0.639390</td>\n",
       "    </tr>\n",
       "    <tr>\n",
       "      <th>4</th>\n",
       "      <td>0.013605</td>\n",
       "      <td>0.244021</td>\n",
       "      <td>0.685860</td>\n",
       "      <td>0.638003</td>\n",
       "    </tr>\n",
       "    <tr>\n",
       "      <th>5</th>\n",
       "      <td>0.013789</td>\n",
       "      <td>0.254026</td>\n",
       "      <td>0.687679</td>\n",
       "      <td>0.636616</td>\n",
       "    </tr>\n",
       "    <tr>\n",
       "      <th>6</th>\n",
       "      <td>0.013973</td>\n",
       "      <td>0.259395</td>\n",
       "      <td>0.691440</td>\n",
       "      <td>0.633842</td>\n",
       "    </tr>\n",
       "    <tr>\n",
       "      <th>7</th>\n",
       "      <td>0.014157</td>\n",
       "      <td>0.279161</td>\n",
       "      <td>0.695919</td>\n",
       "      <td>0.633842</td>\n",
       "    </tr>\n",
       "    <tr>\n",
       "      <th>8</th>\n",
       "      <td>0.014341</td>\n",
       "      <td>0.281845</td>\n",
       "      <td>0.698481</td>\n",
       "      <td>0.629681</td>\n",
       "    </tr>\n",
       "    <tr>\n",
       "      <th>9</th>\n",
       "      <td>0.014525</td>\n",
       "      <td>0.272084</td>\n",
       "      <td>0.702213</td>\n",
       "      <td>0.626907</td>\n",
       "    </tr>\n",
       "  </tbody>\n",
       "</table>\n",
       "</div>"
      ],
      "text/plain": [
       "          0         1         2         3\n",
       "0  0.012870  0.290142  0.670048  0.657420\n",
       "1  0.013054  0.294290  0.674582  0.653259\n",
       "2  0.013238  0.264031  0.678464  0.640777\n",
       "3  0.013422  0.247194  0.682101  0.639390\n",
       "4  0.013605  0.244021  0.685860  0.638003\n",
       "5  0.013789  0.254026  0.687679  0.636616\n",
       "6  0.013973  0.259395  0.691440  0.633842\n",
       "7  0.014157  0.279161  0.695919  0.633842\n",
       "8  0.014341  0.281845  0.698481  0.629681\n",
       "9  0.014525  0.272084  0.702213  0.626907"
      ]
     },
     "execution_count": 113,
     "metadata": {},
     "output_type": "execute_result"
    }
   ],
   "source": [
    "hr_test_results_sc.head(10)"
   ]
  },
  {
   "cell_type": "code",
   "execution_count": 114,
   "id": "653049b3-d1a5-4a2e-9da4-0e42eb26d912",
   "metadata": {},
   "outputs": [
    {
     "data": {
      "text/html": [
       "<div>\n",
       "<style scoped>\n",
       "    .dataframe tbody tr th:only-of-type {\n",
       "        vertical-align: middle;\n",
       "    }\n",
       "\n",
       "    .dataframe tbody tr th {\n",
       "        vertical-align: top;\n",
       "    }\n",
       "\n",
       "    .dataframe thead th {\n",
       "        text-align: right;\n",
       "    }\n",
       "</style>\n",
       "<table border=\"1\" class=\"dataframe\">\n",
       "  <thead>\n",
       "    <tr style=\"text-align: right;\">\n",
       "      <th></th>\n",
       "      <th>0</th>\n",
       "      <th>1</th>\n",
       "      <th>2</th>\n",
       "      <th>3</th>\n",
       "    </tr>\n",
       "  </thead>\n",
       "  <tbody>\n",
       "    <tr>\n",
       "      <th>0</th>\n",
       "      <td>74.0</td>\n",
       "      <td>237.8</td>\n",
       "      <td>141.664745</td>\n",
       "      <td>94.8</td>\n",
       "    </tr>\n",
       "    <tr>\n",
       "      <th>1</th>\n",
       "      <td>75.0</td>\n",
       "      <td>241.2</td>\n",
       "      <td>142.109007</td>\n",
       "      <td>94.2</td>\n",
       "    </tr>\n",
       "    <tr>\n",
       "      <th>2</th>\n",
       "      <td>76.0</td>\n",
       "      <td>216.4</td>\n",
       "      <td>142.489512</td>\n",
       "      <td>92.4</td>\n",
       "    </tr>\n",
       "    <tr>\n",
       "      <th>3</th>\n",
       "      <td>77.0</td>\n",
       "      <td>202.6</td>\n",
       "      <td>142.845899</td>\n",
       "      <td>92.2</td>\n",
       "    </tr>\n",
       "    <tr>\n",
       "      <th>4</th>\n",
       "      <td>78.0</td>\n",
       "      <td>200.0</td>\n",
       "      <td>143.214243</td>\n",
       "      <td>92.0</td>\n",
       "    </tr>\n",
       "    <tr>\n",
       "      <th>5</th>\n",
       "      <td>79.0</td>\n",
       "      <td>208.2</td>\n",
       "      <td>143.392570</td>\n",
       "      <td>91.8</td>\n",
       "    </tr>\n",
       "    <tr>\n",
       "      <th>6</th>\n",
       "      <td>80.0</td>\n",
       "      <td>212.6</td>\n",
       "      <td>143.761101</td>\n",
       "      <td>91.4</td>\n",
       "    </tr>\n",
       "    <tr>\n",
       "      <th>7</th>\n",
       "      <td>81.0</td>\n",
       "      <td>228.8</td>\n",
       "      <td>144.200101</td>\n",
       "      <td>91.4</td>\n",
       "    </tr>\n",
       "    <tr>\n",
       "      <th>8</th>\n",
       "      <td>82.0</td>\n",
       "      <td>231.0</td>\n",
       "      <td>144.451129</td>\n",
       "      <td>90.8</td>\n",
       "    </tr>\n",
       "    <tr>\n",
       "      <th>9</th>\n",
       "      <td>83.0</td>\n",
       "      <td>223.0</td>\n",
       "      <td>144.816861</td>\n",
       "      <td>90.4</td>\n",
       "    </tr>\n",
       "  </tbody>\n",
       "</table>\n",
       "</div>"
      ],
      "text/plain": [
       "      0      1           2     3\n",
       "0  74.0  237.8  141.664745  94.8\n",
       "1  75.0  241.2  142.109007  94.2\n",
       "2  76.0  216.4  142.489512  92.4\n",
       "3  77.0  202.6  142.845899  92.2\n",
       "4  78.0  200.0  143.214243  92.0\n",
       "5  79.0  208.2  143.392570  91.8\n",
       "6  80.0  212.6  143.761101  91.4\n",
       "7  81.0  228.8  144.200101  91.4\n",
       "8  82.0  231.0  144.451129  90.8\n",
       "9  83.0  223.0  144.816861  90.4"
      ]
     },
     "execution_count": 114,
     "metadata": {},
     "output_type": "execute_result"
    }
   ],
   "source": [
    "# Column '2' is y_test predictions, de-scaled\n",
    "hr_test_results = pd.DataFrame(mm_scaler.inverse_transform(hr_test_results_sc))\n",
    "hr_test_results.head(10)"
   ]
  },
  {
   "cell_type": "code",
   "execution_count": 115,
   "id": "cd2f8dd5-5fee-471a-a1f6-c3f62f62c5fa",
   "metadata": {},
   "outputs": [
    {
     "data": {
      "text/html": [
       "<div>\n",
       "<style scoped>\n",
       "    .dataframe tbody tr th:only-of-type {\n",
       "        vertical-align: middle;\n",
       "    }\n",
       "\n",
       "    .dataframe tbody tr th {\n",
       "        vertical-align: top;\n",
       "    }\n",
       "\n",
       "    .dataframe thead th {\n",
       "        text-align: right;\n",
       "    }\n",
       "</style>\n",
       "<table border=\"1\" class=\"dataframe\">\n",
       "  <thead>\n",
       "    <tr style=\"text-align: right;\">\n",
       "      <th></th>\n",
       "      <th>hr</th>\n",
       "    </tr>\n",
       "  </thead>\n",
       "  <tbody>\n",
       "    <tr>\n",
       "      <th>0</th>\n",
       "      <td>144.2</td>\n",
       "    </tr>\n",
       "    <tr>\n",
       "      <th>1</th>\n",
       "      <td>144.6</td>\n",
       "    </tr>\n",
       "    <tr>\n",
       "      <th>2</th>\n",
       "      <td>145.0</td>\n",
       "    </tr>\n",
       "    <tr>\n",
       "      <th>3</th>\n",
       "      <td>145.4</td>\n",
       "    </tr>\n",
       "    <tr>\n",
       "      <th>4</th>\n",
       "      <td>145.6</td>\n",
       "    </tr>\n",
       "    <tr>\n",
       "      <th>...</th>\n",
       "      <td>...</td>\n",
       "    </tr>\n",
       "    <tr>\n",
       "      <th>20364</th>\n",
       "      <td>96.0</td>\n",
       "    </tr>\n",
       "    <tr>\n",
       "      <th>20365</th>\n",
       "      <td>95.4</td>\n",
       "    </tr>\n",
       "    <tr>\n",
       "      <th>20366</th>\n",
       "      <td>95.0</td>\n",
       "    </tr>\n",
       "    <tr>\n",
       "      <th>20367</th>\n",
       "      <td>94.6</td>\n",
       "    </tr>\n",
       "    <tr>\n",
       "      <th>20368</th>\n",
       "      <td>94.4</td>\n",
       "    </tr>\n",
       "  </tbody>\n",
       "</table>\n",
       "<p>20369 rows × 1 columns</p>\n",
       "</div>"
      ],
      "text/plain": [
       "          hr\n",
       "0      144.2\n",
       "1      144.6\n",
       "2      145.0\n",
       "3      145.4\n",
       "4      145.6\n",
       "...      ...\n",
       "20364   96.0\n",
       "20365   95.4\n",
       "20366   95.0\n",
       "20367   94.6\n",
       "20368   94.4\n",
       "\n",
       "[20369 rows x 1 columns]"
      ]
     },
     "execution_count": 115,
     "metadata": {},
     "output_type": "execute_result"
    }
   ],
   "source": [
    "# This is y_test, de-scaled (Original)\n",
    "pd.DataFrame(test_df['hr'][win_length:]).reset_index().drop('index', axis= 1)"
   ]
  },
  {
   "cell_type": "code",
   "execution_count": 116,
   "id": "38e16d86-b722-47b0-b055-2e2e5fa7057c",
   "metadata": {},
   "outputs": [
    {
     "data": {
      "text/html": [
       "<div>\n",
       "<style scoped>\n",
       "    .dataframe tbody tr th:only-of-type {\n",
       "        vertical-align: middle;\n",
       "    }\n",
       "\n",
       "    .dataframe tbody tr th {\n",
       "        vertical-align: top;\n",
       "    }\n",
       "\n",
       "    .dataframe thead th {\n",
       "        text-align: right;\n",
       "    }\n",
       "</style>\n",
       "<table border=\"1\" class=\"dataframe\">\n",
       "  <thead>\n",
       "    <tr style=\"text-align: right;\">\n",
       "      <th></th>\n",
       "      <th>power</th>\n",
       "    </tr>\n",
       "  </thead>\n",
       "  <tbody>\n",
       "    <tr>\n",
       "      <th>0</th>\n",
       "      <td>118.9</td>\n",
       "    </tr>\n",
       "    <tr>\n",
       "      <th>1</th>\n",
       "      <td>120.6</td>\n",
       "    </tr>\n",
       "    <tr>\n",
       "      <th>2</th>\n",
       "      <td>108.2</td>\n",
       "    </tr>\n",
       "    <tr>\n",
       "      <th>3</th>\n",
       "      <td>101.3</td>\n",
       "    </tr>\n",
       "    <tr>\n",
       "      <th>4</th>\n",
       "      <td>100.0</td>\n",
       "    </tr>\n",
       "    <tr>\n",
       "      <th>...</th>\n",
       "      <td>...</td>\n",
       "    </tr>\n",
       "    <tr>\n",
       "      <th>20364</th>\n",
       "      <td>0.0</td>\n",
       "    </tr>\n",
       "    <tr>\n",
       "      <th>20365</th>\n",
       "      <td>0.0</td>\n",
       "    </tr>\n",
       "    <tr>\n",
       "      <th>20366</th>\n",
       "      <td>0.0</td>\n",
       "    </tr>\n",
       "    <tr>\n",
       "      <th>20367</th>\n",
       "      <td>0.0</td>\n",
       "    </tr>\n",
       "    <tr>\n",
       "      <th>20368</th>\n",
       "      <td>0.0</td>\n",
       "    </tr>\n",
       "  </tbody>\n",
       "</table>\n",
       "<p>20369 rows × 1 columns</p>\n",
       "</div>"
      ],
      "text/plain": [
       "       power\n",
       "0      118.9\n",
       "1      120.6\n",
       "2      108.2\n",
       "3      101.3\n",
       "4      100.0\n",
       "...      ...\n",
       "20364    0.0\n",
       "20365    0.0\n",
       "20366    0.0\n",
       "20367    0.0\n",
       "20368    0.0\n",
       "\n",
       "[20369 rows x 1 columns]"
      ]
     },
     "execution_count": 116,
     "metadata": {},
     "output_type": "execute_result"
    }
   ],
   "source": [
    "pd.DataFrame(test_df['power'][win_length:]).reset_index().drop('index', axis= 1) * .5"
   ]
  },
  {
   "cell_type": "code",
   "execution_count": 117,
   "id": "d8d7bb0c-ad18-4ed7-ba13-e6515aaa79a6",
   "metadata": {},
   "outputs": [
    {
     "data": {
      "image/png": "[encoded data removed]",
      "text/plain": [
       "<Figure size 1296x432 with 1 Axes>"
      ]
     },
     "metadata": {},
     "output_type": "display_data"
    }
   ],
   "source": [
    "sns.set_style('darkgrid')\n",
    "\n",
    "plt.figure(figsize= (18, 6))\n",
    "plt.plot(hr_test_results[2], color = 'tab:orange', label= 'HR pred')\n",
    "plt.plot(pd.DataFrame(test_df['hr'][win_length:]).reset_index().drop('index', axis= 1), color= 'tab:blue', label= 'HR actual')\n",
    "#plt.plot(pd.DataFrame(test_df['power'][win_length:]).reset_index().drop('index', axis= 1) * .5, color= 'tab:green', label= 'Power actual')\n",
    "plt.ylim(110, 180)\n",
    "#plt.xlim(0, 1000)\n",
    "plt.legend();"
   ]
  },
  {
   "cell_type": "code",
   "execution_count": 118,
   "id": "c663c962-c575-4c1d-849b-fbb65f8b4f1d",
   "metadata": {},
   "outputs": [
    {
     "name": "stdout",
     "output_type": "stream",
     "text": [
      "INFO:tensorflow:Assets written to: ../models/gc_lstm_model1/assets\n"
     ]
    }
   ],
   "source": [
    "# Save your model\n",
    "\n",
    "model.save('../models/gc_lstm_model1/')"
   ]
  },
  {
   "cell_type": "code",
   "execution_count": 119,
   "id": "dd9ce237-1f5f-4cd4-98e9-a21c20828a71",
   "metadata": {},
   "outputs": [],
   "source": [
    "# Reload model and test it\n",
    "reconstructed_model = keras.models.load_model('../models/gc_lstm_model1/')"
   ]
  },
  {
   "cell_type": "code",
   "execution_count": 120,
   "id": "25dd322f-1493-42af-8912-75ef818605fb",
   "metadata": {},
   "outputs": [],
   "source": [
    "recon_train_preds = reconstructed_model.predict(train_generator)\n",
    "recon_test_preds = reconstructed_model.predict(test_generator)"
   ]
  },
  {
   "cell_type": "code",
   "execution_count": 121,
   "id": "72d6deb5-b8ea-41e6-bc3a-65c98c816d1a",
   "metadata": {},
   "outputs": [
    {
     "data": {
      "text/plain": [
       "(0.9863843567067916, 0.9903731489994868)"
      ]
     },
     "execution_count": 121,
     "metadata": {},
     "output_type": "execute_result"
    }
   ],
   "source": [
    "r2_score(y_train[win_length:], recon_train_preds), r2_score(y_test[win_length:], recon_test_preds)"
   ]
  },
  {
   "cell_type": "code",
   "execution_count": null,
   "id": "9ff603a9-339f-44e6-bec9-565cfc543cc0",
   "metadata": {},
   "outputs": [],
   "source": []
  },
  {
   "cell_type": "markdown",
   "id": "9a5f83a2-ae42-49de-82a5-6e2380b4a882",
   "metadata": {},
   "source": [
    "## Now try testing the model on individual workouts"
   ]
  },
  {
   "cell_type": "code",
   "execution_count": 122,
   "id": "5fddb4e5-21ce-4e8d-8efe-655682c142c0",
   "metadata": {},
   "outputs": [],
   "source": [
    "test_1_df = pd.read_csv('../data/cleaned_gc_data/gc_test_1.csv', index_col= 'Unnamed: 0')"
   ]
  },
  {
   "cell_type": "code",
   "execution_count": 123,
   "id": "ad225e1a-da5c-4c2a-9ce6-a33795ede128",
   "metadata": {},
   "outputs": [],
   "source": [
    "test_1_data_scaled = mm_scaler.fit_transform(test_1_df)"
   ]
  },
  {
   "cell_type": "code",
   "execution_count": 124,
   "id": "23614d63-8f98-4dda-8447-93d58fdc80cd",
   "metadata": {},
   "outputs": [],
   "source": [
    "X_test_1 = test_1_data_scaled\n",
    "y_test_1 = test_1_data_scaled[:,2]"
   ]
  },
  {
   "cell_type": "code",
   "execution_count": 125,
   "id": "bb4b7687-4053-43b9-888e-4a98f34cfdd9",
   "metadata": {},
   "outputs": [
    {
     "data": {
      "text/plain": [
       "(3448, 4)"
      ]
     },
     "execution_count": 125,
     "metadata": {},
     "output_type": "execute_result"
    }
   ],
   "source": [
    "X_test_1.shape"
   ]
  },
  {
   "cell_type": "code",
   "execution_count": 126,
   "id": "464432e5-4a30-418a-beea-c8ced18e9eba",
   "metadata": {},
   "outputs": [
    {
     "data": {
      "text/plain": [
       "(3448,)"
      ]
     },
     "execution_count": 126,
     "metadata": {},
     "output_type": "execute_result"
    }
   ],
   "source": [
    "y_test_1.shape"
   ]
  },
  {
   "cell_type": "code",
   "execution_count": 127,
   "id": "46cc810e-bae4-4850-ab55-332387164722",
   "metadata": {},
   "outputs": [],
   "source": [
    "# Create test sequences\n",
    "test_1_generator = TimeseriesGenerator(X_test_1, y_test_1, length= win_length, sampling_rate= 1, batch_size= batch_size )"
   ]
  },
  {
   "cell_type": "code",
   "execution_count": 128,
   "id": "ad30f991-354b-4262-aabe-15a3f70dc706",
   "metadata": {},
   "outputs": [],
   "source": [
    "test_1_preds = reconstructed_model.predict(test_1_generator)"
   ]
  },
  {
   "cell_type": "code",
   "execution_count": 129,
   "id": "b067a053-4839-4efa-90cd-94f536efe667",
   "metadata": {},
   "outputs": [
    {
     "data": {
      "text/plain": [
       "(0.9863843567067916, 0.9687757761588923)"
      ]
     },
     "execution_count": 129,
     "metadata": {},
     "output_type": "execute_result"
    }
   ],
   "source": [
    "r2_score(y_train[win_length:], train_preds), r2_score(y_test_1[win_length:], test_1_preds)"
   ]
  },
  {
   "cell_type": "code",
   "execution_count": 130,
   "id": "dd2af3fe-e6c0-4a3d-8803-c641b3dfa4af",
   "metadata": {},
   "outputs": [],
   "source": [
    "# Create a dataframe that corresponds to the X testing data that the model used\n",
    "hr_test_1_results_sc = pd.DataFrame(X_test_1[win_length:])"
   ]
  },
  {
   "cell_type": "code",
   "execution_count": 131,
   "id": "d53f9563-1817-4466-852e-3fa94610be00",
   "metadata": {},
   "outputs": [],
   "source": [
    "# Replace the original y column with predictions for y\n",
    "hr_test_1_results_sc[2] = test_1_preds "
   ]
  },
  {
   "cell_type": "code",
   "execution_count": 132,
   "id": "e9f857f8-2394-4db9-a90a-6c294678c800",
   "metadata": {},
   "outputs": [
    {
     "data": {
      "text/html": [
       "<div>\n",
       "<style scoped>\n",
       "    .dataframe tbody tr th:only-of-type {\n",
       "        vertical-align: middle;\n",
       "    }\n",
       "\n",
       "    .dataframe tbody tr th {\n",
       "        vertical-align: top;\n",
       "    }\n",
       "\n",
       "    .dataframe thead th {\n",
       "        text-align: right;\n",
       "    }\n",
       "</style>\n",
       "<table border=\"1\" class=\"dataframe\">\n",
       "  <thead>\n",
       "    <tr style=\"text-align: right;\">\n",
       "      <th></th>\n",
       "      <th>0</th>\n",
       "      <th>1</th>\n",
       "      <th>2</th>\n",
       "      <th>3</th>\n",
       "    </tr>\n",
       "  </thead>\n",
       "  <tbody>\n",
       "    <tr>\n",
       "      <th>0</th>\n",
       "      <td>74.0</td>\n",
       "      <td>237.8</td>\n",
       "      <td>142.177008</td>\n",
       "      <td>94.8</td>\n",
       "    </tr>\n",
       "    <tr>\n",
       "      <th>1</th>\n",
       "      <td>75.0</td>\n",
       "      <td>241.2</td>\n",
       "      <td>142.547866</td>\n",
       "      <td>94.2</td>\n",
       "    </tr>\n",
       "    <tr>\n",
       "      <th>2</th>\n",
       "      <td>76.0</td>\n",
       "      <td>216.4</td>\n",
       "      <td>142.869171</td>\n",
       "      <td>92.4</td>\n",
       "    </tr>\n",
       "    <tr>\n",
       "      <th>3</th>\n",
       "      <td>77.0</td>\n",
       "      <td>202.6</td>\n",
       "      <td>143.186825</td>\n",
       "      <td>92.2</td>\n",
       "    </tr>\n",
       "    <tr>\n",
       "      <th>4</th>\n",
       "      <td>78.0</td>\n",
       "      <td>200.0</td>\n",
       "      <td>143.526884</td>\n",
       "      <td>92.0</td>\n",
       "    </tr>\n",
       "  </tbody>\n",
       "</table>\n",
       "</div>"
      ],
      "text/plain": [
       "      0      1           2     3\n",
       "0  74.0  237.8  142.177008  94.8\n",
       "1  75.0  241.2  142.547866  94.2\n",
       "2  76.0  216.4  142.869171  92.4\n",
       "3  77.0  202.6  143.186825  92.2\n",
       "4  78.0  200.0  143.526884  92.0"
      ]
     },
     "execution_count": 132,
     "metadata": {},
     "output_type": "execute_result"
    }
   ],
   "source": [
    "# Restore all of the data to its original scale for interpretability\n",
    "# Column '2' is y_test predictions, de-scaled\n",
    "hr_test_1_results = pd.DataFrame(mm_scaler.inverse_transform(hr_test_1_results_sc))\n",
    "hr_test_1_results.head()"
   ]
  },
  {
   "cell_type": "code",
   "execution_count": 133,
   "id": "ab16119f-583d-4a7e-962d-3203791337a4",
   "metadata": {},
   "outputs": [
    {
     "data": {
      "text/html": [
       "<div>\n",
       "<style scoped>\n",
       "    .dataframe tbody tr th:only-of-type {\n",
       "        vertical-align: middle;\n",
       "    }\n",
       "\n",
       "    .dataframe tbody tr th {\n",
       "        vertical-align: top;\n",
       "    }\n",
       "\n",
       "    .dataframe thead th {\n",
       "        text-align: right;\n",
       "    }\n",
       "</style>\n",
       "<table border=\"1\" class=\"dataframe\">\n",
       "  <thead>\n",
       "    <tr style=\"text-align: right;\">\n",
       "      <th></th>\n",
       "      <th>hr</th>\n",
       "    </tr>\n",
       "  </thead>\n",
       "  <tbody>\n",
       "    <tr>\n",
       "      <th>0</th>\n",
       "      <td>144.2</td>\n",
       "    </tr>\n",
       "    <tr>\n",
       "      <th>1</th>\n",
       "      <td>144.6</td>\n",
       "    </tr>\n",
       "    <tr>\n",
       "      <th>2</th>\n",
       "      <td>145.0</td>\n",
       "    </tr>\n",
       "    <tr>\n",
       "      <th>3</th>\n",
       "      <td>145.4</td>\n",
       "    </tr>\n",
       "    <tr>\n",
       "      <th>4</th>\n",
       "      <td>145.6</td>\n",
       "    </tr>\n",
       "    <tr>\n",
       "      <th>...</th>\n",
       "      <td>...</td>\n",
       "    </tr>\n",
       "    <tr>\n",
       "      <th>3373</th>\n",
       "      <td>115.6</td>\n",
       "    </tr>\n",
       "    <tr>\n",
       "      <th>3374</th>\n",
       "      <td>113.8</td>\n",
       "    </tr>\n",
       "    <tr>\n",
       "      <th>3375</th>\n",
       "      <td>112.8</td>\n",
       "    </tr>\n",
       "    <tr>\n",
       "      <th>3376</th>\n",
       "      <td>112.2</td>\n",
       "    </tr>\n",
       "    <tr>\n",
       "      <th>3377</th>\n",
       "      <td>112.0</td>\n",
       "    </tr>\n",
       "  </tbody>\n",
       "</table>\n",
       "<p>3378 rows × 1 columns</p>\n",
       "</div>"
      ],
      "text/plain": [
       "         hr\n",
       "0     144.2\n",
       "1     144.6\n",
       "2     145.0\n",
       "3     145.4\n",
       "4     145.6\n",
       "...     ...\n",
       "3373  115.6\n",
       "3374  113.8\n",
       "3375  112.8\n",
       "3376  112.2\n",
       "3377  112.0\n",
       "\n",
       "[3378 rows x 1 columns]"
      ]
     },
     "execution_count": 133,
     "metadata": {},
     "output_type": "execute_result"
    }
   ],
   "source": [
    "# This is the original y_test (de-scaled)\n",
    "pd.DataFrame(test_1_df['hr'][win_length:]).reset_index().drop('index', axis= 1)"
   ]
  },
  {
   "cell_type": "code",
   "execution_count": 135,
   "id": "35210ccb-bebd-47b4-bb77-8894e32b1702",
   "metadata": {},
   "outputs": [
    {
     "data": {
      "image/png": "[encoded data removed]",
      "text/plain": [
       "<Figure size 1296x432 with 1 Axes>"
      ]
     },
     "metadata": {},
     "output_type": "display_data"
    }
   ],
   "source": [
    "sns.set_style('darkgrid')\n",
    "\n",
    "plt.figure(figsize= (18, 6))\n",
    "plt.plot(hr_test_1_results[2], color = 'tab:red', label= 'HR pred')\n",
    "plt.plot(pd.DataFrame(test_1_df['hr'][win_length:]).reset_index().drop('index', axis= 1), color= 'tab:blue', label= 'HR actual')\n",
    "plt.plot(pd.DataFrame(test_1_df['power'][win_length:]).reset_index().drop('index', axis= 1) * .5, color= 'tab:green', label= 'Power actual')\n",
    "#plt.ylim(125, 175)\n",
    "#plt.xlim(0, 1000)\n",
    "plt.legend();"
   ]
  },
  {
   "cell_type": "code",
   "execution_count": null,
   "id": "9f8575ca-b63d-4d16-bca7-1a1a8f90c7b4",
   "metadata": {},
   "outputs": [],
   "source": []
  }
 ],
 "metadata": {
  "kernelspec": {
   "display_name": "Python [conda env:tfkGPU]",
   "language": "python",
   "name": "conda-env-tfkGPU-py"
  },
  "language_info": {
   "codemirror_mode": {
    "name": "ipython",
    "version": 3
   },
   "file_extension": ".py",
   "mimetype": "text/x-python",
   "name": "python",
   "nbconvert_exporter": "python",
   "pygments_lexer": "ipython3",
   "version": "3.7.11"
  }
 },
 "nbformat": 4,
 "nbformat_minor": 5
}
