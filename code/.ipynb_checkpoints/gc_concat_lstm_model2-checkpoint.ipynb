{
 "cells": [
  {
   "cell_type": "code",
   "execution_count": 1,
   "id": "e05edb5c-93ab-41de-9656-a13ef0b67369",
   "metadata": {},
   "outputs": [],
   "source": [
    "import pandas as pd\n",
    "import numpy as np\n",
    "import matplotlib.pyplot as plt\n",
    "import seaborn as sns\n",
    "\n",
    "from sklearn.preprocessing import MinMaxScaler, StandardScaler\n",
    "from sklearn.model_selection import train_test_split\n",
    "from sklearn.metrics import accuracy_score, mean_squared_error, r2_score\n",
    "\n",
    "from tensorflow import keras\n",
    "from tensorflow.keras.models import Sequential\n",
    "from tensorflow.keras.layers import Dense, Dropout, GRU\n",
    "from tensorflow.keras.optimizers import Adam\n",
    "from tensorflow.keras.preprocessing.sequence import TimeseriesGenerator"
   ]
  },
  {
   "cell_type": "code",
   "execution_count": 2,
   "id": "ea239700-9a91-4876-b5b5-d16c628e3f4f",
   "metadata": {},
   "outputs": [],
   "source": [
    "# Use for conda env:tfkGPU - otherwise comment out\n",
    "import tensorflow as tf\n",
    "configuration = tf.compat.v1.ConfigProto()\n",
    "configuration.gpu_options.allow_growth = True\n",
    "session = tf.compat.v1.Session(config=configuration)"
   ]
  },
  {
   "cell_type": "code",
   "execution_count": 3,
   "id": "860d2a1b-d09a-460f-96ce-9c726be3565c",
   "metadata": {},
   "outputs": [],
   "source": [
    "train_df = pd.read_csv('../data/cleaned_gc_data/gc_train.csv', index_col= 'Unnamed: 0')\n",
    "test_df = pd.read_csv('../data/cleaned_gc_data/gc_test.csv', index_col= 'Unnamed: 0')"
   ]
  },
  {
   "cell_type": "code",
   "execution_count": 4,
   "id": "e36510e3-d6b1-4ddc-b357-067a07404ce9",
   "metadata": {},
   "outputs": [
    {
     "data": {
      "text/html": [
       "<div>\n",
       "<style scoped>\n",
       "    .dataframe tbody tr th:only-of-type {\n",
       "        vertical-align: middle;\n",
       "    }\n",
       "\n",
       "    .dataframe tbody tr th {\n",
       "        vertical-align: top;\n",
       "    }\n",
       "\n",
       "    .dataframe thead th {\n",
       "        text-align: right;\n",
       "    }\n",
       "</style>\n",
       "<table border=\"1\" class=\"dataframe\">\n",
       "  <thead>\n",
       "    <tr style=\"text-align: right;\">\n",
       "      <th></th>\n",
       "      <th>secs</th>\n",
       "      <th>power</th>\n",
       "      <th>hr</th>\n",
       "      <th>cad</th>\n",
       "    </tr>\n",
       "  </thead>\n",
       "  <tbody>\n",
       "    <tr>\n",
       "      <th>0</th>\n",
       "      <td>4</td>\n",
       "      <td>33.4</td>\n",
       "      <td>76.0</td>\n",
       "      <td>28.2</td>\n",
       "    </tr>\n",
       "    <tr>\n",
       "      <th>1</th>\n",
       "      <td>5</td>\n",
       "      <td>57.4</td>\n",
       "      <td>77.0</td>\n",
       "      <td>39.6</td>\n",
       "    </tr>\n",
       "    <tr>\n",
       "      <th>2</th>\n",
       "      <td>6</td>\n",
       "      <td>80.8</td>\n",
       "      <td>78.0</td>\n",
       "      <td>47.4</td>\n",
       "    </tr>\n",
       "    <tr>\n",
       "      <th>3</th>\n",
       "      <td>7</td>\n",
       "      <td>100.6</td>\n",
       "      <td>79.0</td>\n",
       "      <td>56.0</td>\n",
       "    </tr>\n",
       "    <tr>\n",
       "      <th>4</th>\n",
       "      <td>8</td>\n",
       "      <td>111.4</td>\n",
       "      <td>80.0</td>\n",
       "      <td>59.6</td>\n",
       "    </tr>\n",
       "  </tbody>\n",
       "</table>\n",
       "</div>"
      ],
      "text/plain": [
       "   secs  power    hr   cad\n",
       "0     4   33.4  76.0  28.2\n",
       "1     5   57.4  77.0  39.6\n",
       "2     6   80.8  78.0  47.4\n",
       "3     7  100.6  79.0  56.0\n",
       "4     8  111.4  80.0  59.6"
      ]
     },
     "execution_count": 4,
     "metadata": {},
     "output_type": "execute_result"
    }
   ],
   "source": [
    "train_df.head()"
   ]
  },
  {
   "cell_type": "code",
   "execution_count": 5,
   "id": "c37edf3e-3b21-4bcc-8ede-7ba43d575aac",
   "metadata": {},
   "outputs": [
    {
     "data": {
      "text/html": [
       "<div>\n",
       "<style scoped>\n",
       "    .dataframe tbody tr th:only-of-type {\n",
       "        vertical-align: middle;\n",
       "    }\n",
       "\n",
       "    .dataframe tbody tr th {\n",
       "        vertical-align: top;\n",
       "    }\n",
       "\n",
       "    .dataframe thead th {\n",
       "        text-align: right;\n",
       "    }\n",
       "</style>\n",
       "<table border=\"1\" class=\"dataframe\">\n",
       "  <thead>\n",
       "    <tr style=\"text-align: right;\">\n",
       "      <th></th>\n",
       "      <th>secs</th>\n",
       "      <th>power</th>\n",
       "      <th>hr</th>\n",
       "      <th>cad</th>\n",
       "    </tr>\n",
       "  </thead>\n",
       "  <tbody>\n",
       "    <tr>\n",
       "      <th>0</th>\n",
       "      <td>4</td>\n",
       "      <td>98.4</td>\n",
       "      <td>98.0</td>\n",
       "      <td>77.0</td>\n",
       "    </tr>\n",
       "    <tr>\n",
       "      <th>1</th>\n",
       "      <td>5</td>\n",
       "      <td>112.2</td>\n",
       "      <td>100.0</td>\n",
       "      <td>77.4</td>\n",
       "    </tr>\n",
       "    <tr>\n",
       "      <th>2</th>\n",
       "      <td>6</td>\n",
       "      <td>118.0</td>\n",
       "      <td>100.0</td>\n",
       "      <td>78.2</td>\n",
       "    </tr>\n",
       "    <tr>\n",
       "      <th>3</th>\n",
       "      <td>7</td>\n",
       "      <td>126.0</td>\n",
       "      <td>100.0</td>\n",
       "      <td>79.6</td>\n",
       "    </tr>\n",
       "    <tr>\n",
       "      <th>4</th>\n",
       "      <td>8</td>\n",
       "      <td>137.0</td>\n",
       "      <td>100.2</td>\n",
       "      <td>80.8</td>\n",
       "    </tr>\n",
       "  </tbody>\n",
       "</table>\n",
       "</div>"
      ],
      "text/plain": [
       "   secs  power     hr   cad\n",
       "0     4   98.4   98.0  77.0\n",
       "1     5  112.2  100.0  77.4\n",
       "2     6  118.0  100.0  78.2\n",
       "3     7  126.0  100.0  79.6\n",
       "4     8  137.0  100.2  80.8"
      ]
     },
     "execution_count": 5,
     "metadata": {},
     "output_type": "execute_result"
    }
   ],
   "source": [
    "test_df.head()"
   ]
  },
  {
   "cell_type": "code",
   "execution_count": null,
   "id": "c2bd2f80-b599-408c-b0fa-0eb089766d77",
   "metadata": {},
   "outputs": [],
   "source": []
  },
  {
   "cell_type": "code",
   "execution_count": 6,
   "id": "1dead4ba-862c-4665-9e7c-08ed50be5981",
   "metadata": {},
   "outputs": [],
   "source": [
    "# Scaling the data\n",
    "mm_scaler = MinMaxScaler()\n",
    "train_data_scaled = mm_scaler.fit_transform(train_df)\n",
    "test_data_scaled = mm_scaler.fit_transform(test_df)"
   ]
  },
  {
   "cell_type": "code",
   "execution_count": 7,
   "id": "22296d00-076d-4b1a-b0f8-9b26a79eb241",
   "metadata": {},
   "outputs": [
    {
     "data": {
      "text/html": [
       "<div>\n",
       "<style scoped>\n",
       "    .dataframe tbody tr th:only-of-type {\n",
       "        vertical-align: middle;\n",
       "    }\n",
       "\n",
       "    .dataframe tbody tr th {\n",
       "        vertical-align: top;\n",
       "    }\n",
       "\n",
       "    .dataframe thead th {\n",
       "        text-align: right;\n",
       "    }\n",
       "</style>\n",
       "<table border=\"1\" class=\"dataframe\">\n",
       "  <thead>\n",
       "    <tr style=\"text-align: right;\">\n",
       "      <th></th>\n",
       "      <th>0</th>\n",
       "      <th>1</th>\n",
       "      <th>2</th>\n",
       "      <th>3</th>\n",
       "    </tr>\n",
       "  </thead>\n",
       "  <tbody>\n",
       "    <tr>\n",
       "      <th>0</th>\n",
       "      <td>0.000000</td>\n",
       "      <td>0.047578</td>\n",
       "      <td>0.222222</td>\n",
       "      <td>0.173645</td>\n",
       "    </tr>\n",
       "    <tr>\n",
       "      <th>1</th>\n",
       "      <td>0.000161</td>\n",
       "      <td>0.081766</td>\n",
       "      <td>0.229938</td>\n",
       "      <td>0.243842</td>\n",
       "    </tr>\n",
       "    <tr>\n",
       "      <th>2</th>\n",
       "      <td>0.000322</td>\n",
       "      <td>0.115100</td>\n",
       "      <td>0.237654</td>\n",
       "      <td>0.291872</td>\n",
       "    </tr>\n",
       "    <tr>\n",
       "      <th>3</th>\n",
       "      <td>0.000483</td>\n",
       "      <td>0.143305</td>\n",
       "      <td>0.245370</td>\n",
       "      <td>0.344828</td>\n",
       "    </tr>\n",
       "    <tr>\n",
       "      <th>4</th>\n",
       "      <td>0.000644</td>\n",
       "      <td>0.158689</td>\n",
       "      <td>0.253086</td>\n",
       "      <td>0.366995</td>\n",
       "    </tr>\n",
       "    <tr>\n",
       "      <th>...</th>\n",
       "      <td>...</td>\n",
       "      <td>...</td>\n",
       "      <td>...</td>\n",
       "      <td>...</td>\n",
       "    </tr>\n",
       "    <tr>\n",
       "      <th>109912</th>\n",
       "      <td>0.559742</td>\n",
       "      <td>0.000000</td>\n",
       "      <td>0.348765</td>\n",
       "      <td>0.000000</td>\n",
       "    </tr>\n",
       "    <tr>\n",
       "      <th>109913</th>\n",
       "      <td>0.559903</td>\n",
       "      <td>0.000000</td>\n",
       "      <td>0.345679</td>\n",
       "      <td>0.000000</td>\n",
       "    </tr>\n",
       "    <tr>\n",
       "      <th>109914</th>\n",
       "      <td>0.560064</td>\n",
       "      <td>0.000000</td>\n",
       "      <td>0.342593</td>\n",
       "      <td>0.000000</td>\n",
       "    </tr>\n",
       "    <tr>\n",
       "      <th>109915</th>\n",
       "      <td>0.560225</td>\n",
       "      <td>0.000000</td>\n",
       "      <td>0.339506</td>\n",
       "      <td>0.000000</td>\n",
       "    </tr>\n",
       "    <tr>\n",
       "      <th>109916</th>\n",
       "      <td>0.560386</td>\n",
       "      <td>0.000000</td>\n",
       "      <td>0.341049</td>\n",
       "      <td>0.000000</td>\n",
       "    </tr>\n",
       "  </tbody>\n",
       "</table>\n",
       "<p>109917 rows × 4 columns</p>\n",
       "</div>"
      ],
      "text/plain": [
       "               0         1         2         3\n",
       "0       0.000000  0.047578  0.222222  0.173645\n",
       "1       0.000161  0.081766  0.229938  0.243842\n",
       "2       0.000322  0.115100  0.237654  0.291872\n",
       "3       0.000483  0.143305  0.245370  0.344828\n",
       "4       0.000644  0.158689  0.253086  0.366995\n",
       "...          ...       ...       ...       ...\n",
       "109912  0.559742  0.000000  0.348765  0.000000\n",
       "109913  0.559903  0.000000  0.345679  0.000000\n",
       "109914  0.560064  0.000000  0.342593  0.000000\n",
       "109915  0.560225  0.000000  0.339506  0.000000\n",
       "109916  0.560386  0.000000  0.341049  0.000000\n",
       "\n",
       "[109917 rows x 4 columns]"
      ]
     },
     "execution_count": 7,
     "metadata": {},
     "output_type": "execute_result"
    }
   ],
   "source": [
    "pd.DataFrame(train_data_scaled)"
   ]
  },
  {
   "cell_type": "code",
   "execution_count": 8,
   "id": "9251cc49-f4b8-452b-85ff-9fbfa495e006",
   "metadata": {},
   "outputs": [],
   "source": [
    "# Train/Test Split\n",
    "X_train = train_data_scaled\n",
    "X_test = test_data_scaled\n",
    "y_train = train_data_scaled[:,2]\n",
    "y_test = test_data_scaled[:,2]\n"
   ]
  },
  {
   "cell_type": "code",
   "execution_count": 9,
   "id": "6b419649-7f7d-4891-a341-53d73ec60f55",
   "metadata": {},
   "outputs": [
    {
     "data": {
      "text/plain": [
       "(109917, 4)"
      ]
     },
     "execution_count": 9,
     "metadata": {},
     "output_type": "execute_result"
    }
   ],
   "source": [
    "X_train.shape"
   ]
  },
  {
   "cell_type": "code",
   "execution_count": 10,
   "id": "efcb68da-d251-472e-a208-afaef1297993",
   "metadata": {},
   "outputs": [
    {
     "data": {
      "text/plain": [
       "(20439, 4)"
      ]
     },
     "execution_count": 10,
     "metadata": {},
     "output_type": "execute_result"
    }
   ],
   "source": [
    "X_test.shape"
   ]
  },
  {
   "cell_type": "code",
   "execution_count": 11,
   "id": "534903a7-c7dd-4046-92d3-6fe590d576f7",
   "metadata": {},
   "outputs": [
    {
     "data": {
      "text/plain": [
       "(109917,)"
      ]
     },
     "execution_count": 11,
     "metadata": {},
     "output_type": "execute_result"
    }
   ],
   "source": [
    "y_train.shape"
   ]
  },
  {
   "cell_type": "code",
   "execution_count": 12,
   "id": "1625d6ba-d997-4dbb-9828-c01bea7655eb",
   "metadata": {},
   "outputs": [
    {
     "data": {
      "text/plain": [
       "(20439,)"
      ]
     },
     "execution_count": 12,
     "metadata": {},
     "output_type": "execute_result"
    }
   ],
   "source": [
    "y_test.shape"
   ]
  },
  {
   "cell_type": "code",
   "execution_count": 13,
   "id": "16716f5e-20d2-4e18-b509-4d3be88201c5",
   "metadata": {},
   "outputs": [],
   "source": [
    "win_length = 70\n",
    "batch_size= 32\n",
    "num_features = X_train.shape[1]\n",
    "\n",
    "# Create training sequences\n",
    "train_generator = TimeseriesGenerator(X_train, y_train, length= win_length, sampling_rate= 1, batch_size= batch_size )\n",
    "\n",
    "# Create test sequences\n",
    "test_generator = TimeseriesGenerator(X_test, y_test, length= win_length, sampling_rate= 1, batch_size= batch_size )"
   ]
  },
  {
   "cell_type": "code",
   "execution_count": 14,
   "id": "3fe66b5c-2daf-42c0-b246-e43bfe1ad233",
   "metadata": {},
   "outputs": [
    {
     "data": {
      "text/plain": [
       "(32, 70, 4)"
      ]
     },
     "execution_count": 14,
     "metadata": {},
     "output_type": "execute_result"
    }
   ],
   "source": [
    "train_generator[0][0].shape"
   ]
  },
  {
   "cell_type": "code",
   "execution_count": 15,
   "id": "d2eb5698-6ee3-4e17-b535-7b621d02f62c",
   "metadata": {},
   "outputs": [],
   "source": [
    "# LSTM Model\n",
    "model = tf.keras.Sequential()\n",
    "model.add(tf.keras.layers.LSTM(128, input_shape= (win_length, num_features), return_sequences= True))\n",
    "model.add(tf.keras.layers.LeakyReLU(alpha= 0.5))\n",
    "model.add(tf.keras.layers.LSTM(128, return_sequences= True))\n",
    "model.add(tf.keras.layers.LeakyReLU(alpha= 0.5))\n",
    "model.add(tf.keras.layers.Dropout(0.3))\n",
    "model.add(tf.keras.layers.LSTM(64, return_sequences= False))\n",
    "model.add(tf.keras.layers.Dropout(0.3))\n",
    "model.add(tf.keras.layers.Dense(1))"
   ]
  },
  {
   "cell_type": "code",
   "execution_count": 16,
   "id": "98cdeb81-e0bb-4d36-bec4-58668f34062d",
   "metadata": {
    "tags": []
   },
   "outputs": [
    {
     "name": "stdout",
     "output_type": "stream",
     "text": [
      "Model: \"sequential\"\n",
      "_________________________________________________________________\n",
      "Layer (type)                 Output Shape              Param #   \n",
      "=================================================================\n",
      "lstm (LSTM)                  (None, 70, 128)           68096     \n",
      "_________________________________________________________________\n",
      "leaky_re_lu (LeakyReLU)      (None, 70, 128)           0         \n",
      "_________________________________________________________________\n",
      "lstm_1 (LSTM)                (None, 70, 128)           131584    \n",
      "_________________________________________________________________\n",
      "leaky_re_lu_1 (LeakyReLU)    (None, 70, 128)           0         \n",
      "_________________________________________________________________\n",
      "dropout (Dropout)            (None, 70, 128)           0         \n",
      "_________________________________________________________________\n",
      "lstm_2 (LSTM)                (None, 64)                49408     \n",
      "_________________________________________________________________\n",
      "dropout_1 (Dropout)          (None, 64)                0         \n",
      "_________________________________________________________________\n",
      "dense (Dense)                (None, 1)                 65        \n",
      "=================================================================\n",
      "Total params: 249,153\n",
      "Trainable params: 249,153\n",
      "Non-trainable params: 0\n",
      "_________________________________________________________________\n"
     ]
    }
   ],
   "source": [
    "model.summary()"
   ]
  },
  {
   "cell_type": "code",
   "execution_count": 17,
   "id": "931d4ce8-7c72-4e2d-b94b-d61f1e2bca2c",
   "metadata": {
    "tags": []
   },
   "outputs": [
    {
     "name": "stdout",
     "output_type": "stream",
     "text": [
      "Epoch 1/75\n",
      "3433/3433 [==============================] - 59s 17ms/step - loss: 0.0077 - val_loss: 0.0021\n",
      "Epoch 2/75\n",
      "3433/3433 [==============================] - 59s 17ms/step - loss: 0.0018 - val_loss: 0.0011\n",
      "Epoch 3/75\n",
      "3433/3433 [==============================] - 61s 18ms/step - loss: 8.9873e-04 - val_loss: 9.4982e-04\n",
      "Epoch 4/75\n",
      "3433/3433 [==============================] - 60s 17ms/step - loss: 6.3747e-04 - val_loss: 7.6784e-04\n",
      "Epoch 5/75\n",
      "3433/3433 [==============================] - 57s 17ms/step - loss: 5.1231e-04 - val_loss: 7.7107e-04\n",
      "Epoch 6/75\n",
      "3433/3433 [==============================] - 58s 17ms/step - loss: 4.5293e-04 - val_loss: 5.8794e-04\n",
      "Epoch 7/75\n",
      "3433/3433 [==============================] - 58s 17ms/step - loss: 4.3496e-04 - val_loss: 6.5082e-04\n",
      "Epoch 8/75\n",
      "3433/3433 [==============================] - 57s 17ms/step - loss: 4.0769e-04 - val_loss: 6.4976e-04\n",
      "Epoch 9/75\n",
      "3433/3433 [==============================] - 58s 17ms/step - loss: 3.9798e-04 - val_loss: 6.3447e-04\n",
      "Epoch 10/75\n",
      "3433/3433 [==============================] - 57s 17ms/step - loss: 4.2352e-04 - val_loss: 6.2292e-04\n",
      "Epoch 11/75\n",
      "3433/3433 [==============================] - 58s 17ms/step - loss: 3.2495e-04 - val_loss: 4.4702e-04\n",
      "Epoch 12/75\n",
      "3433/3433 [==============================] - 57s 17ms/step - loss: 3.4034e-04 - val_loss: 3.5367e-04\n",
      "Epoch 13/75\n",
      "3433/3433 [==============================] - 58s 17ms/step - loss: 3.2612e-04 - val_loss: 1.8522e-04\n",
      "Epoch 14/75\n",
      "3433/3433 [==============================] - 58s 17ms/step - loss: 3.0983e-04 - val_loss: 2.8796e-04\n",
      "Epoch 15/75\n",
      "3433/3433 [==============================] - 59s 17ms/step - loss: 2.8737e-04 - val_loss: 1.3113e-04\n",
      "Epoch 16/75\n",
      "3433/3433 [==============================] - 58s 17ms/step - loss: 2.6847e-04 - val_loss: 2.6125e-04\n",
      "Epoch 17/75\n",
      "3433/3433 [==============================] - 57s 17ms/step - loss: 2.7096e-04 - val_loss: 1.4624e-04\n",
      "Epoch 18/75\n",
      "3433/3433 [==============================] - 57s 17ms/step - loss: 2.7591e-04 - val_loss: 1.4154e-04\n",
      "Epoch 19/75\n",
      "3433/3433 [==============================] - 57s 17ms/step - loss: 2.5929e-04 - val_loss: 1.0383e-04\n",
      "Epoch 20/75\n",
      "3433/3433 [==============================] - 57s 17ms/step - loss: 2.6731e-04 - val_loss: 2.5199e-04\n",
      "Epoch 21/75\n",
      "3433/3433 [==============================] - 57s 17ms/step - loss: 2.4498e-04 - val_loss: 1.5645e-04\n",
      "Epoch 22/75\n",
      "3433/3433 [==============================] - 57s 17ms/step - loss: 2.4540e-04 - val_loss: 1.6067e-04\n",
      "Epoch 23/75\n",
      "3433/3433 [==============================] - 57s 17ms/step - loss: 2.4453e-04 - val_loss: 8.9880e-05\n",
      "Epoch 24/75\n",
      "3433/3433 [==============================] - 57s 17ms/step - loss: 2.5559e-04 - val_loss: 1.4676e-04\n",
      "Epoch 25/75\n",
      "3433/3433 [==============================] - 58s 17ms/step - loss: 2.3767e-04 - val_loss: 9.2287e-05\n",
      "Epoch 26/75\n",
      "3433/3433 [==============================] - 57s 17ms/step - loss: 2.5541e-04 - val_loss: 9.7967e-05\n",
      "Epoch 27/75\n",
      "3433/3433 [==============================] - 59s 17ms/step - loss: 2.3482e-04 - val_loss: 9.4423e-05\n",
      "Epoch 28/75\n",
      "3433/3433 [==============================] - 58s 17ms/step - loss: 2.3088e-04 - val_loss: 8.9172e-05\n",
      "Epoch 29/75\n",
      "3433/3433 [==============================] - 58s 17ms/step - loss: 2.2670e-04 - val_loss: 3.4528e-04\n",
      "Epoch 30/75\n",
      "3433/3433 [==============================] - 58s 17ms/step - loss: 2.3919e-04 - val_loss: 1.6777e-04\n",
      "Epoch 31/75\n",
      "3433/3433 [==============================] - 58s 17ms/step - loss: 2.2908e-04 - val_loss: 1.9204e-04\n",
      "Epoch 32/75\n",
      "3433/3433 [==============================] - 57s 17ms/step - loss: 2.4020e-04 - val_loss: 1.6781e-04\n",
      "Epoch 33/75\n",
      "3433/3433 [==============================] - 57s 17ms/step - loss: 2.4070e-04 - val_loss: 1.5226e-04\n",
      "Epoch 34/75\n",
      "3433/3433 [==============================] - 59s 17ms/step - loss: 2.3585e-04 - val_loss: 2.6547e-04\n",
      "Epoch 35/75\n",
      "3433/3433 [==============================] - 57s 17ms/step - loss: 2.3192e-04 - val_loss: 2.0258e-04\n",
      "Epoch 36/75\n",
      "3433/3433 [==============================] - 57s 17ms/step - loss: 2.3079e-04 - val_loss: 2.5915e-04\n",
      "Epoch 37/75\n",
      "3433/3433 [==============================] - 57s 17ms/step - loss: 2.2086e-04 - val_loss: 2.3358e-04\n",
      "Epoch 38/75\n",
      "3433/3433 [==============================] - 58s 17ms/step - loss: 2.2179e-04 - val_loss: 3.5239e-04\n",
      "Epoch 39/75\n",
      "3433/3433 [==============================] - 57s 17ms/step - loss: 2.1874e-04 - val_loss: 1.6490e-04\n",
      "Epoch 40/75\n",
      "3433/3433 [==============================] - 57s 17ms/step - loss: 2.2164e-04 - val_loss: 1.0398e-04\n",
      "Epoch 41/75\n",
      "3433/3433 [==============================] - 58s 17ms/step - loss: 2.1154e-04 - val_loss: 8.8311e-05\n",
      "Epoch 42/75\n",
      "3433/3433 [==============================] - 58s 17ms/step - loss: 2.2457e-04 - val_loss: 1.4396e-04\n",
      "Epoch 43/75\n",
      "3433/3433 [==============================] - 58s 17ms/step - loss: 2.0973e-04 - val_loss: 1.7291e-04\n",
      "Epoch 44/75\n",
      "3433/3433 [==============================] - 58s 17ms/step - loss: 2.1460e-04 - val_loss: 1.8230e-04\n",
      "Epoch 45/75\n",
      "3433/3433 [==============================] - 58s 17ms/step - loss: 2.1578e-04 - val_loss: 1.2248e-04\n",
      "Epoch 46/75\n",
      "3433/3433 [==============================] - 58s 17ms/step - loss: 2.0956e-04 - val_loss: 8.7927e-05\n",
      "Epoch 47/75\n",
      "3433/3433 [==============================] - 58s 17ms/step - loss: 2.0932e-04 - val_loss: 3.6493e-04\n",
      "Epoch 48/75\n",
      "3433/3433 [==============================] - 57s 17ms/step - loss: 2.0820e-04 - val_loss: 1.4676e-04\n",
      "Epoch 49/75\n",
      "3433/3433 [==============================] - 58s 17ms/step - loss: 2.1450e-04 - val_loss: 1.6181e-04\n",
      "Epoch 50/75\n",
      "3433/3433 [==============================] - 58s 17ms/step - loss: 2.0778e-04 - val_loss: 1.8184e-04\n",
      "Epoch 51/75\n",
      "3433/3433 [==============================] - 58s 17ms/step - loss: 2.0464e-04 - val_loss: 1.6323e-04\n",
      "Epoch 52/75\n",
      "3433/3433 [==============================] - 58s 17ms/step - loss: 2.1150e-04 - val_loss: 3.8150e-04\n",
      "Epoch 53/75\n",
      "3433/3433 [==============================] - 57s 17ms/step - loss: 2.0563e-04 - val_loss: 1.1444e-04\n",
      "Epoch 54/75\n",
      "3433/3433 [==============================] - 57s 17ms/step - loss: 1.9994e-04 - val_loss: 2.7793e-04\n",
      "Epoch 55/75\n",
      "3433/3433 [==============================] - 57s 17ms/step - loss: 2.0429e-04 - val_loss: 2.8935e-04\n",
      "Epoch 56/75\n",
      "3433/3433 [==============================] - 57s 17ms/step - loss: 2.0145e-04 - val_loss: 5.4704e-04\n",
      "Epoch 57/75\n",
      "3433/3433 [==============================] - 57s 17ms/step - loss: 2.0865e-04 - val_loss: 1.1040e-04\n",
      "Epoch 58/75\n",
      "3433/3433 [==============================] - 57s 17ms/step - loss: 2.0634e-04 - val_loss: 1.3158e-04\n",
      "Epoch 59/75\n",
      "3433/3433 [==============================] - 57s 17ms/step - loss: 2.0561e-04 - val_loss: 2.3492e-04\n",
      "Epoch 60/75\n",
      "3433/3433 [==============================] - 57s 17ms/step - loss: 2.0551e-04 - val_loss: 1.3348e-04\n",
      "Epoch 61/75\n",
      "3433/3433 [==============================] - 57s 17ms/step - loss: 2.1098e-04 - val_loss: 1.1933e-04\n",
      "Epoch 62/75\n",
      "3433/3433 [==============================] - 57s 16ms/step - loss: 2.0273e-04 - val_loss: 1.0481e-04\n",
      "Epoch 63/75\n",
      "3433/3433 [==============================] - 59s 17ms/step - loss: 2.0658e-04 - val_loss: 1.0243e-04\n",
      "Epoch 64/75\n",
      "3433/3433 [==============================] - 58s 17ms/step - loss: 2.0468e-04 - val_loss: 1.1983e-04\n",
      "Epoch 65/75\n",
      "3433/3433 [==============================] - 58s 17ms/step - loss: 2.1718e-04 - val_loss: 7.7272e-05\n",
      "Epoch 66/75\n",
      "3433/3433 [==============================] - 58s 17ms/step - loss: 1.9913e-04 - val_loss: 1.2583e-04\n",
      "Epoch 67/75\n",
      "3433/3433 [==============================] - 58s 17ms/step - loss: 1.9678e-04 - val_loss: 2.8441e-04\n",
      "Epoch 68/75\n",
      "3433/3433 [==============================] - 58s 17ms/step - loss: 2.0138e-04 - val_loss: 9.6390e-05\n",
      "Epoch 69/75\n",
      "3433/3433 [==============================] - 58s 17ms/step - loss: 1.9630e-04 - val_loss: 2.7735e-04\n",
      "Epoch 70/75\n",
      "3433/3433 [==============================] - 58s 17ms/step - loss: 1.9961e-04 - val_loss: 1.1620e-04\n",
      "Epoch 71/75\n",
      "3433/3433 [==============================] - 58s 17ms/step - loss: 1.9883e-04 - val_loss: 1.2979e-04\n",
      "Epoch 72/75\n",
      "3433/3433 [==============================] - 58s 17ms/step - loss: 2.0002e-04 - val_loss: 1.3724e-04\n",
      "Epoch 73/75\n",
      "3433/3433 [==============================] - 57s 17ms/step - loss: 2.0084e-04 - val_loss: 8.0874e-05\n",
      "Epoch 74/75\n",
      "3433/3433 [==============================] - 57s 17ms/step - loss: 1.9583e-04 - val_loss: 1.6760e-04\n",
      "Epoch 75/75\n",
      "3433/3433 [==============================] - 58s 17ms/step - loss: 2.0238e-04 - val_loss: 2.2410e-04\n"
     ]
    }
   ],
   "source": [
    "model.compile(loss= tf.losses.MeanSquaredError(),\n",
    "              optimizer= tf.optimizers.Adam()\n",
    "             )\n",
    "\n",
    "history = model.fit(train_generator, epochs= 75,\n",
    "                              validation_data= test_generator,\n",
    "                              shuffle= False\n",
    "                             )"
   ]
  },
  {
   "cell_type": "code",
   "execution_count": 18,
   "id": "62f8b879-9a52-4f72-be3f-485a798d2047",
   "metadata": {},
   "outputs": [],
   "source": [
    "train_preds = model.predict(train_generator)\n",
    "test_preds = model.predict(test_generator)"
   ]
  },
  {
   "cell_type": "code",
   "execution_count": 19,
   "id": "d9f47e79-b647-4e6c-828e-fde34c42678e",
   "metadata": {},
   "outputs": [
    {
     "data": {
      "text/plain": [
       "(0.9883370175093391, 0.9923548033520415)"
      ]
     },
     "execution_count": 19,
     "metadata": {},
     "output_type": "execute_result"
    }
   ],
   "source": [
    "r2_score(y_train[win_length:], train_preds), r2_score(y_test[win_length:], test_preds)"
   ]
  },
  {
   "cell_type": "code",
   "execution_count": 20,
   "id": "32f7f020-bd79-4278-a05a-4dbe9350637b",
   "metadata": {},
   "outputs": [
    {
     "data": {
      "text/plain": [
       "<matplotlib.legend.Legend at 0x25074d7b288>"
      ]
     },
     "execution_count": 20,
     "metadata": {},
     "output_type": "execute_result"
    },
    {
     "data": {
      "image/png": "[encoded data removed]",
      "text/plain": [
       "<Figure size 432x288 with 1 Axes>"
      ]
     },
     "metadata": {
      "needs_background": "light"
     },
     "output_type": "display_data"
    }
   ],
   "source": [
    "plt.plot(history.history['loss'], label= 'Train')\n",
    "plt.plot(history.history['val_loss'], label= 'Test')\n",
    "plt.legend()\n",
    "#plt.ylim(0, .03);"
   ]
  },
  {
   "cell_type": "code",
   "execution_count": 21,
   "id": "67bae0b5-5797-4ffa-acbb-9767819f9943",
   "metadata": {},
   "outputs": [],
   "source": [
    "hr_test_results_sc = pd.DataFrame(X_test[win_length:])"
   ]
  },
  {
   "cell_type": "code",
   "execution_count": 22,
   "id": "24cf66eb-2e00-4526-8316-5f8e15c9eb44",
   "metadata": {},
   "outputs": [],
   "source": [
    "hr_test_results_sc[2] = test_preds"
   ]
  },
  {
   "cell_type": "code",
   "execution_count": 23,
   "id": "33ad8c4e-8bac-4da9-83dc-8278ada3186f",
   "metadata": {
    "tags": []
   },
   "outputs": [
    {
     "data": {
      "text/html": [
       "<div>\n",
       "<style scoped>\n",
       "    .dataframe tbody tr th:only-of-type {\n",
       "        vertical-align: middle;\n",
       "    }\n",
       "\n",
       "    .dataframe tbody tr th {\n",
       "        vertical-align: top;\n",
       "    }\n",
       "\n",
       "    .dataframe thead th {\n",
       "        text-align: right;\n",
       "    }\n",
       "</style>\n",
       "<table border=\"1\" class=\"dataframe\">\n",
       "  <thead>\n",
       "    <tr style=\"text-align: right;\">\n",
       "      <th></th>\n",
       "      <th>0</th>\n",
       "      <th>1</th>\n",
       "      <th>2</th>\n",
       "      <th>3</th>\n",
       "    </tr>\n",
       "  </thead>\n",
       "  <tbody>\n",
       "    <tr>\n",
       "      <th>0</th>\n",
       "      <td>0.012870</td>\n",
       "      <td>0.290142</td>\n",
       "      <td>0.706824</td>\n",
       "      <td>0.657420</td>\n",
       "    </tr>\n",
       "    <tr>\n",
       "      <th>1</th>\n",
       "      <td>0.013054</td>\n",
       "      <td>0.294290</td>\n",
       "      <td>0.711305</td>\n",
       "      <td>0.653259</td>\n",
       "    </tr>\n",
       "    <tr>\n",
       "      <th>2</th>\n",
       "      <td>0.013238</td>\n",
       "      <td>0.264031</td>\n",
       "      <td>0.714929</td>\n",
       "      <td>0.640777</td>\n",
       "    </tr>\n",
       "    <tr>\n",
       "      <th>3</th>\n",
       "      <td>0.013422</td>\n",
       "      <td>0.247194</td>\n",
       "      <td>0.718542</td>\n",
       "      <td>0.639390</td>\n",
       "    </tr>\n",
       "    <tr>\n",
       "      <th>4</th>\n",
       "      <td>0.013605</td>\n",
       "      <td>0.244021</td>\n",
       "      <td>0.722534</td>\n",
       "      <td>0.638003</td>\n",
       "    </tr>\n",
       "    <tr>\n",
       "      <th>5</th>\n",
       "      <td>0.013789</td>\n",
       "      <td>0.254026</td>\n",
       "      <td>0.724713</td>\n",
       "      <td>0.636616</td>\n",
       "    </tr>\n",
       "    <tr>\n",
       "      <th>6</th>\n",
       "      <td>0.013973</td>\n",
       "      <td>0.259395</td>\n",
       "      <td>0.729517</td>\n",
       "      <td>0.633842</td>\n",
       "    </tr>\n",
       "    <tr>\n",
       "      <th>7</th>\n",
       "      <td>0.014157</td>\n",
       "      <td>0.279161</td>\n",
       "      <td>0.734060</td>\n",
       "      <td>0.633842</td>\n",
       "    </tr>\n",
       "    <tr>\n",
       "      <th>8</th>\n",
       "      <td>0.014341</td>\n",
       "      <td>0.281845</td>\n",
       "      <td>0.736081</td>\n",
       "      <td>0.629681</td>\n",
       "    </tr>\n",
       "    <tr>\n",
       "      <th>9</th>\n",
       "      <td>0.014525</td>\n",
       "      <td>0.272084</td>\n",
       "      <td>0.740207</td>\n",
       "      <td>0.626907</td>\n",
       "    </tr>\n",
       "  </tbody>\n",
       "</table>\n",
       "</div>"
      ],
      "text/plain": [
       "          0         1         2         3\n",
       "0  0.012870  0.290142  0.706824  0.657420\n",
       "1  0.013054  0.294290  0.711305  0.653259\n",
       "2  0.013238  0.264031  0.714929  0.640777\n",
       "3  0.013422  0.247194  0.718542  0.639390\n",
       "4  0.013605  0.244021  0.722534  0.638003\n",
       "5  0.013789  0.254026  0.724713  0.636616\n",
       "6  0.013973  0.259395  0.729517  0.633842\n",
       "7  0.014157  0.279161  0.734060  0.633842\n",
       "8  0.014341  0.281845  0.736081  0.629681\n",
       "9  0.014525  0.272084  0.740207  0.626907"
      ]
     },
     "execution_count": 23,
     "metadata": {},
     "output_type": "execute_result"
    }
   ],
   "source": [
    "hr_test_results_sc.head(10)"
   ]
  },
  {
   "cell_type": "code",
   "execution_count": 24,
   "id": "653049b3-d1a5-4a2e-9da4-0e42eb26d912",
   "metadata": {},
   "outputs": [
    {
     "data": {
      "text/html": [
       "<div>\n",
       "<style scoped>\n",
       "    .dataframe tbody tr th:only-of-type {\n",
       "        vertical-align: middle;\n",
       "    }\n",
       "\n",
       "    .dataframe tbody tr th {\n",
       "        vertical-align: top;\n",
       "    }\n",
       "\n",
       "    .dataframe thead th {\n",
       "        text-align: right;\n",
       "    }\n",
       "</style>\n",
       "<table border=\"1\" class=\"dataframe\">\n",
       "  <thead>\n",
       "    <tr style=\"text-align: right;\">\n",
       "      <th></th>\n",
       "      <th>0</th>\n",
       "      <th>1</th>\n",
       "      <th>2</th>\n",
       "      <th>3</th>\n",
       "    </tr>\n",
       "  </thead>\n",
       "  <tbody>\n",
       "    <tr>\n",
       "      <th>0</th>\n",
       "      <td>74.0</td>\n",
       "      <td>237.8</td>\n",
       "      <td>145.268793</td>\n",
       "      <td>94.8</td>\n",
       "    </tr>\n",
       "    <tr>\n",
       "      <th>1</th>\n",
       "      <td>75.0</td>\n",
       "      <td>241.2</td>\n",
       "      <td>145.707910</td>\n",
       "      <td>94.2</td>\n",
       "    </tr>\n",
       "    <tr>\n",
       "      <th>2</th>\n",
       "      <td>76.0</td>\n",
       "      <td>216.4</td>\n",
       "      <td>146.063070</td>\n",
       "      <td>92.4</td>\n",
       "    </tr>\n",
       "    <tr>\n",
       "      <th>3</th>\n",
       "      <td>77.0</td>\n",
       "      <td>202.6</td>\n",
       "      <td>146.417120</td>\n",
       "      <td>92.2</td>\n",
       "    </tr>\n",
       "    <tr>\n",
       "      <th>4</th>\n",
       "      <td>78.0</td>\n",
       "      <td>200.0</td>\n",
       "      <td>146.808344</td>\n",
       "      <td>92.0</td>\n",
       "    </tr>\n",
       "    <tr>\n",
       "      <th>5</th>\n",
       "      <td>79.0</td>\n",
       "      <td>208.2</td>\n",
       "      <td>147.021877</td>\n",
       "      <td>91.8</td>\n",
       "    </tr>\n",
       "    <tr>\n",
       "      <th>6</th>\n",
       "      <td>80.0</td>\n",
       "      <td>212.6</td>\n",
       "      <td>147.492699</td>\n",
       "      <td>91.4</td>\n",
       "    </tr>\n",
       "    <tr>\n",
       "      <th>7</th>\n",
       "      <td>81.0</td>\n",
       "      <td>228.8</td>\n",
       "      <td>147.937844</td>\n",
       "      <td>91.4</td>\n",
       "    </tr>\n",
       "    <tr>\n",
       "      <th>8</th>\n",
       "      <td>82.0</td>\n",
       "      <td>231.0</td>\n",
       "      <td>148.135927</td>\n",
       "      <td>90.8</td>\n",
       "    </tr>\n",
       "    <tr>\n",
       "      <th>9</th>\n",
       "      <td>83.0</td>\n",
       "      <td>223.0</td>\n",
       "      <td>148.540305</td>\n",
       "      <td>90.4</td>\n",
       "    </tr>\n",
       "  </tbody>\n",
       "</table>\n",
       "</div>"
      ],
      "text/plain": [
       "      0      1           2     3\n",
       "0  74.0  237.8  145.268793  94.8\n",
       "1  75.0  241.2  145.707910  94.2\n",
       "2  76.0  216.4  146.063070  92.4\n",
       "3  77.0  202.6  146.417120  92.2\n",
       "4  78.0  200.0  146.808344  92.0\n",
       "5  79.0  208.2  147.021877  91.8\n",
       "6  80.0  212.6  147.492699  91.4\n",
       "7  81.0  228.8  147.937844  91.4\n",
       "8  82.0  231.0  148.135927  90.8\n",
       "9  83.0  223.0  148.540305  90.4"
      ]
     },
     "execution_count": 24,
     "metadata": {},
     "output_type": "execute_result"
    }
   ],
   "source": [
    "# Column '2' is y_test predictions, de-scaled\n",
    "hr_test_results = pd.DataFrame(mm_scaler.inverse_transform(hr_test_results_sc))\n",
    "hr_test_results.head(10)"
   ]
  },
  {
   "cell_type": "code",
   "execution_count": 25,
   "id": "cd2f8dd5-5fee-471a-a1f6-c3f62f62c5fa",
   "metadata": {},
   "outputs": [
    {
     "data": {
      "text/html": [
       "<div>\n",
       "<style scoped>\n",
       "    .dataframe tbody tr th:only-of-type {\n",
       "        vertical-align: middle;\n",
       "    }\n",
       "\n",
       "    .dataframe tbody tr th {\n",
       "        vertical-align: top;\n",
       "    }\n",
       "\n",
       "    .dataframe thead th {\n",
       "        text-align: right;\n",
       "    }\n",
       "</style>\n",
       "<table border=\"1\" class=\"dataframe\">\n",
       "  <thead>\n",
       "    <tr style=\"text-align: right;\">\n",
       "      <th></th>\n",
       "      <th>hr</th>\n",
       "    </tr>\n",
       "  </thead>\n",
       "  <tbody>\n",
       "    <tr>\n",
       "      <th>0</th>\n",
       "      <td>144.2</td>\n",
       "    </tr>\n",
       "    <tr>\n",
       "      <th>1</th>\n",
       "      <td>144.6</td>\n",
       "    </tr>\n",
       "    <tr>\n",
       "      <th>2</th>\n",
       "      <td>145.0</td>\n",
       "    </tr>\n",
       "    <tr>\n",
       "      <th>3</th>\n",
       "      <td>145.4</td>\n",
       "    </tr>\n",
       "    <tr>\n",
       "      <th>4</th>\n",
       "      <td>145.6</td>\n",
       "    </tr>\n",
       "    <tr>\n",
       "      <th>...</th>\n",
       "      <td>...</td>\n",
       "    </tr>\n",
       "    <tr>\n",
       "      <th>20364</th>\n",
       "      <td>96.0</td>\n",
       "    </tr>\n",
       "    <tr>\n",
       "      <th>20365</th>\n",
       "      <td>95.4</td>\n",
       "    </tr>\n",
       "    <tr>\n",
       "      <th>20366</th>\n",
       "      <td>95.0</td>\n",
       "    </tr>\n",
       "    <tr>\n",
       "      <th>20367</th>\n",
       "      <td>94.6</td>\n",
       "    </tr>\n",
       "    <tr>\n",
       "      <th>20368</th>\n",
       "      <td>94.4</td>\n",
       "    </tr>\n",
       "  </tbody>\n",
       "</table>\n",
       "<p>20369 rows × 1 columns</p>\n",
       "</div>"
      ],
      "text/plain": [
       "          hr\n",
       "0      144.2\n",
       "1      144.6\n",
       "2      145.0\n",
       "3      145.4\n",
       "4      145.6\n",
       "...      ...\n",
       "20364   96.0\n",
       "20365   95.4\n",
       "20366   95.0\n",
       "20367   94.6\n",
       "20368   94.4\n",
       "\n",
       "[20369 rows x 1 columns]"
      ]
     },
     "execution_count": 25,
     "metadata": {},
     "output_type": "execute_result"
    }
   ],
   "source": [
    "# This is y_test, de-scaled (Original)\n",
    "pd.DataFrame(test_df['hr'][win_length:]).reset_index().drop('index', axis= 1)"
   ]
  },
  {
   "cell_type": "code",
   "execution_count": 26,
   "id": "38e16d86-b722-47b0-b055-2e2e5fa7057c",
   "metadata": {},
   "outputs": [
    {
     "data": {
      "text/html": [
       "<div>\n",
       "<style scoped>\n",
       "    .dataframe tbody tr th:only-of-type {\n",
       "        vertical-align: middle;\n",
       "    }\n",
       "\n",
       "    .dataframe tbody tr th {\n",
       "        vertical-align: top;\n",
       "    }\n",
       "\n",
       "    .dataframe thead th {\n",
       "        text-align: right;\n",
       "    }\n",
       "</style>\n",
       "<table border=\"1\" class=\"dataframe\">\n",
       "  <thead>\n",
       "    <tr style=\"text-align: right;\">\n",
       "      <th></th>\n",
       "      <th>power</th>\n",
       "    </tr>\n",
       "  </thead>\n",
       "  <tbody>\n",
       "    <tr>\n",
       "      <th>0</th>\n",
       "      <td>118.9</td>\n",
       "    </tr>\n",
       "    <tr>\n",
       "      <th>1</th>\n",
       "      <td>120.6</td>\n",
       "    </tr>\n",
       "    <tr>\n",
       "      <th>2</th>\n",
       "      <td>108.2</td>\n",
       "    </tr>\n",
       "    <tr>\n",
       "      <th>3</th>\n",
       "      <td>101.3</td>\n",
       "    </tr>\n",
       "    <tr>\n",
       "      <th>4</th>\n",
       "      <td>100.0</td>\n",
       "    </tr>\n",
       "    <tr>\n",
       "      <th>...</th>\n",
       "      <td>...</td>\n",
       "    </tr>\n",
       "    <tr>\n",
       "      <th>20364</th>\n",
       "      <td>0.0</td>\n",
       "    </tr>\n",
       "    <tr>\n",
       "      <th>20365</th>\n",
       "      <td>0.0</td>\n",
       "    </tr>\n",
       "    <tr>\n",
       "      <th>20366</th>\n",
       "      <td>0.0</td>\n",
       "    </tr>\n",
       "    <tr>\n",
       "      <th>20367</th>\n",
       "      <td>0.0</td>\n",
       "    </tr>\n",
       "    <tr>\n",
       "      <th>20368</th>\n",
       "      <td>0.0</td>\n",
       "    </tr>\n",
       "  </tbody>\n",
       "</table>\n",
       "<p>20369 rows × 1 columns</p>\n",
       "</div>"
      ],
      "text/plain": [
       "       power\n",
       "0      118.9\n",
       "1      120.6\n",
       "2      108.2\n",
       "3      101.3\n",
       "4      100.0\n",
       "...      ...\n",
       "20364    0.0\n",
       "20365    0.0\n",
       "20366    0.0\n",
       "20367    0.0\n",
       "20368    0.0\n",
       "\n",
       "[20369 rows x 1 columns]"
      ]
     },
     "execution_count": 26,
     "metadata": {},
     "output_type": "execute_result"
    }
   ],
   "source": [
    "pd.DataFrame(test_df['power'][win_length:]).reset_index().drop('index', axis= 1) * .5"
   ]
  },
  {
   "cell_type": "code",
   "execution_count": 27,
   "id": "d8d7bb0c-ad18-4ed7-ba13-e6515aaa79a6",
   "metadata": {},
   "outputs": [
    {
     "data": {
      "image/png": "[encoded data removed]",
      "text/plain": [
       "<Figure size 1296x432 with 1 Axes>"
      ]
     },
     "metadata": {},
     "output_type": "display_data"
    }
   ],
   "source": [
    "sns.set_style('darkgrid')\n",
    "\n",
    "plt.figure(figsize= (18, 6))\n",
    "plt.plot(hr_test_results[2], color = 'tab:orange', label= 'HR pred')\n",
    "plt.plot(pd.DataFrame(test_df['hr'][win_length:]).reset_index().drop('index', axis= 1), color= 'tab:blue', label= 'HR actual')\n",
    "#plt.plot(pd.DataFrame(test_df['power'][win_length:]).reset_index().drop('index', axis= 1) * .5, color= 'tab:green', label= 'Power actual')\n",
    "plt.ylim(110, 180)\n",
    "#plt.xlim(0, 1000)\n",
    "plt.legend();"
   ]
  },
  {
   "cell_type": "code",
   "execution_count": 28,
   "id": "c663c962-c575-4c1d-849b-fbb65f8b4f1d",
   "metadata": {},
   "outputs": [
    {
     "name": "stdout",
     "output_type": "stream",
     "text": [
      "WARNING:tensorflow:From C:\\Users\\jgjga\\anaconda3\\envs\\tfkGPU\\lib\\site-packages\\tensorflow\\python\\training\\tracking\\tracking.py:111: Model.state_updates (from tensorflow.python.keras.engine.training) is deprecated and will be removed in a future version.\n",
      "Instructions for updating:\n",
      "This property should not be used in TensorFlow 2.0, as updates are applied automatically.\n",
      "WARNING:tensorflow:From C:\\Users\\jgjga\\anaconda3\\envs\\tfkGPU\\lib\\site-packages\\tensorflow\\python\\training\\tracking\\tracking.py:111: Layer.updates (from tensorflow.python.keras.engine.base_layer) is deprecated and will be removed in a future version.\n",
      "Instructions for updating:\n",
      "This property should not be used in TensorFlow 2.0, as updates are applied automatically.\n",
      "INFO:tensorflow:Assets written to: ../models/gc_lstm_model2/assets\n"
     ]
    }
   ],
   "source": [
    "# Save your model\n",
    "\n",
    "model.save('../models/gc_lstm_model2/')"
   ]
  },
  {
   "cell_type": "code",
   "execution_count": 29,
   "id": "dd9ce237-1f5f-4cd4-98e9-a21c20828a71",
   "metadata": {},
   "outputs": [],
   "source": [
    "# Reload model and test it\n",
    "reconstructed_model = keras.models.load_model('../models/gc_lstm_model2/')"
   ]
  },
  {
   "cell_type": "code",
   "execution_count": 30,
   "id": "25dd322f-1493-42af-8912-75ef818605fb",
   "metadata": {},
   "outputs": [],
   "source": [
    "recon_train_preds = reconstructed_model.predict(train_generator)\n",
    "recon_test_preds = reconstructed_model.predict(test_generator)"
   ]
  },
  {
   "cell_type": "code",
   "execution_count": 31,
   "id": "72d6deb5-b8ea-41e6-bc3a-65c98c816d1a",
   "metadata": {},
   "outputs": [
    {
     "data": {
      "text/plain": [
       "(0.9883370175093391, 0.9923548033520415)"
      ]
     },
     "execution_count": 31,
     "metadata": {},
     "output_type": "execute_result"
    }
   ],
   "source": [
    "r2_score(y_train[win_length:], recon_train_preds), r2_score(y_test[win_length:], recon_test_preds)"
   ]
  },
  {
   "cell_type": "code",
   "execution_count": null,
   "id": "9ff603a9-339f-44e6-bec9-565cfc543cc0",
   "metadata": {},
   "outputs": [],
   "source": []
  },
  {
   "cell_type": "markdown",
   "id": "9a5f83a2-ae42-49de-82a5-6e2380b4a882",
   "metadata": {},
   "source": [
    "## Now try testing the model on individual workouts"
   ]
  },
  {
   "cell_type": "code",
   "execution_count": 32,
   "id": "5fddb4e5-21ce-4e8d-8efe-655682c142c0",
   "metadata": {},
   "outputs": [],
   "source": [
    "test_1_df = pd.read_csv('../data/cleaned_gc_data/gc_test_1.csv', index_col= 'Unnamed: 0')"
   ]
  },
  {
   "cell_type": "code",
   "execution_count": 33,
   "id": "ad225e1a-da5c-4c2a-9ce6-a33795ede128",
   "metadata": {},
   "outputs": [],
   "source": [
    "test_1_data_scaled = mm_scaler.fit_transform(test_1_df)"
   ]
  },
  {
   "cell_type": "code",
   "execution_count": 34,
   "id": "23614d63-8f98-4dda-8447-93d58fdc80cd",
   "metadata": {},
   "outputs": [],
   "source": [
    "X_test_1 = test_1_data_scaled\n",
    "y_test_1 = test_1_data_scaled[:,2]"
   ]
  },
  {
   "cell_type": "code",
   "execution_count": 35,
   "id": "bb4b7687-4053-43b9-888e-4a98f34cfdd9",
   "metadata": {},
   "outputs": [
    {
     "data": {
      "text/plain": [
       "(3448, 4)"
      ]
     },
     "execution_count": 35,
     "metadata": {},
     "output_type": "execute_result"
    }
   ],
   "source": [
    "X_test_1.shape"
   ]
  },
  {
   "cell_type": "code",
   "execution_count": 36,
   "id": "464432e5-4a30-418a-beea-c8ced18e9eba",
   "metadata": {},
   "outputs": [
    {
     "data": {
      "text/plain": [
       "(3448,)"
      ]
     },
     "execution_count": 36,
     "metadata": {},
     "output_type": "execute_result"
    }
   ],
   "source": [
    "y_test_1.shape"
   ]
  },
  {
   "cell_type": "code",
   "execution_count": 37,
   "id": "46cc810e-bae4-4850-ab55-332387164722",
   "metadata": {},
   "outputs": [],
   "source": [
    "# Create test sequences\n",
    "test_1_generator = TimeseriesGenerator(X_test_1, y_test_1, length= win_length, sampling_rate= 1, batch_size= batch_size )"
   ]
  },
  {
   "cell_type": "code",
   "execution_count": 38,
   "id": "ad30f991-354b-4262-aabe-15a3f70dc706",
   "metadata": {},
   "outputs": [],
   "source": [
    "test_1_preds = reconstructed_model.predict(test_1_generator)"
   ]
  },
  {
   "cell_type": "code",
   "execution_count": 39,
   "id": "b067a053-4839-4efa-90cd-94f536efe667",
   "metadata": {},
   "outputs": [
    {
     "data": {
      "text/plain": [
       "(0.9883370175093391, 0.9930367522409062)"
      ]
     },
     "execution_count": 39,
     "metadata": {},
     "output_type": "execute_result"
    }
   ],
   "source": [
    "r2_score(y_train[win_length:], train_preds), r2_score(y_test_1[win_length:], test_1_preds)"
   ]
  },
  {
   "cell_type": "code",
   "execution_count": 40,
   "id": "dd2af3fe-e6c0-4a3d-8803-c641b3dfa4af",
   "metadata": {},
   "outputs": [],
   "source": [
    "# Create a dataframe that corresponds to the X testing data that the model used\n",
    "hr_test_1_results_sc = pd.DataFrame(X_test_1[win_length:])"
   ]
  },
  {
   "cell_type": "code",
   "execution_count": 41,
   "id": "d53f9563-1817-4466-852e-3fa94610be00",
   "metadata": {},
   "outputs": [],
   "source": [
    "# Replace the original y column with predictions for y\n",
    "hr_test_1_results_sc[2] = test_1_preds "
   ]
  },
  {
   "cell_type": "code",
   "execution_count": 42,
   "id": "e9f857f8-2394-4db9-a90a-6c294678c800",
   "metadata": {},
   "outputs": [
    {
     "data": {
      "text/html": [
       "<div>\n",
       "<style scoped>\n",
       "    .dataframe tbody tr th:only-of-type {\n",
       "        vertical-align: middle;\n",
       "    }\n",
       "\n",
       "    .dataframe tbody tr th {\n",
       "        vertical-align: top;\n",
       "    }\n",
       "\n",
       "    .dataframe thead th {\n",
       "        text-align: right;\n",
       "    }\n",
       "</style>\n",
       "<table border=\"1\" class=\"dataframe\">\n",
       "  <thead>\n",
       "    <tr style=\"text-align: right;\">\n",
       "      <th></th>\n",
       "      <th>0</th>\n",
       "      <th>1</th>\n",
       "      <th>2</th>\n",
       "      <th>3</th>\n",
       "    </tr>\n",
       "  </thead>\n",
       "  <tbody>\n",
       "    <tr>\n",
       "      <th>0</th>\n",
       "      <td>74.0</td>\n",
       "      <td>237.8</td>\n",
       "      <td>144.734637</td>\n",
       "      <td>94.8</td>\n",
       "    </tr>\n",
       "    <tr>\n",
       "      <th>1</th>\n",
       "      <td>75.0</td>\n",
       "      <td>241.2</td>\n",
       "      <td>145.199578</td>\n",
       "      <td>94.2</td>\n",
       "    </tr>\n",
       "    <tr>\n",
       "      <th>2</th>\n",
       "      <td>76.0</td>\n",
       "      <td>216.4</td>\n",
       "      <td>145.543383</td>\n",
       "      <td>92.4</td>\n",
       "    </tr>\n",
       "    <tr>\n",
       "      <th>3</th>\n",
       "      <td>77.0</td>\n",
       "      <td>202.6</td>\n",
       "      <td>145.943351</td>\n",
       "      <td>92.2</td>\n",
       "    </tr>\n",
       "    <tr>\n",
       "      <th>4</th>\n",
       "      <td>78.0</td>\n",
       "      <td>200.0</td>\n",
       "      <td>146.351414</td>\n",
       "      <td>92.0</td>\n",
       "    </tr>\n",
       "  </tbody>\n",
       "</table>\n",
       "</div>"
      ],
      "text/plain": [
       "      0      1           2     3\n",
       "0  74.0  237.8  144.734637  94.8\n",
       "1  75.0  241.2  145.199578  94.2\n",
       "2  76.0  216.4  145.543383  92.4\n",
       "3  77.0  202.6  145.943351  92.2\n",
       "4  78.0  200.0  146.351414  92.0"
      ]
     },
     "execution_count": 42,
     "metadata": {},
     "output_type": "execute_result"
    }
   ],
   "source": [
    "# Restore all of the data to its original scale for interpretability\n",
    "# Column '2' is y_test predictions, de-scaled\n",
    "hr_test_1_results = pd.DataFrame(mm_scaler.inverse_transform(hr_test_1_results_sc))\n",
    "hr_test_1_results.head()"
   ]
  },
  {
   "cell_type": "code",
   "execution_count": 43,
   "id": "ab16119f-583d-4a7e-962d-3203791337a4",
   "metadata": {},
   "outputs": [
    {
     "data": {
      "text/html": [
       "<div>\n",
       "<style scoped>\n",
       "    .dataframe tbody tr th:only-of-type {\n",
       "        vertical-align: middle;\n",
       "    }\n",
       "\n",
       "    .dataframe tbody tr th {\n",
       "        vertical-align: top;\n",
       "    }\n",
       "\n",
       "    .dataframe thead th {\n",
       "        text-align: right;\n",
       "    }\n",
       "</style>\n",
       "<table border=\"1\" class=\"dataframe\">\n",
       "  <thead>\n",
       "    <tr style=\"text-align: right;\">\n",
       "      <th></th>\n",
       "      <th>hr</th>\n",
       "    </tr>\n",
       "  </thead>\n",
       "  <tbody>\n",
       "    <tr>\n",
       "      <th>0</th>\n",
       "      <td>144.2</td>\n",
       "    </tr>\n",
       "    <tr>\n",
       "      <th>1</th>\n",
       "      <td>144.6</td>\n",
       "    </tr>\n",
       "    <tr>\n",
       "      <th>2</th>\n",
       "      <td>145.0</td>\n",
       "    </tr>\n",
       "    <tr>\n",
       "      <th>3</th>\n",
       "      <td>145.4</td>\n",
       "    </tr>\n",
       "    <tr>\n",
       "      <th>4</th>\n",
       "      <td>145.6</td>\n",
       "    </tr>\n",
       "    <tr>\n",
       "      <th>...</th>\n",
       "      <td>...</td>\n",
       "    </tr>\n",
       "    <tr>\n",
       "      <th>3373</th>\n",
       "      <td>115.6</td>\n",
       "    </tr>\n",
       "    <tr>\n",
       "      <th>3374</th>\n",
       "      <td>113.8</td>\n",
       "    </tr>\n",
       "    <tr>\n",
       "      <th>3375</th>\n",
       "      <td>112.8</td>\n",
       "    </tr>\n",
       "    <tr>\n",
       "      <th>3376</th>\n",
       "      <td>112.2</td>\n",
       "    </tr>\n",
       "    <tr>\n",
       "      <th>3377</th>\n",
       "      <td>112.0</td>\n",
       "    </tr>\n",
       "  </tbody>\n",
       "</table>\n",
       "<p>3378 rows × 1 columns</p>\n",
       "</div>"
      ],
      "text/plain": [
       "         hr\n",
       "0     144.2\n",
       "1     144.6\n",
       "2     145.0\n",
       "3     145.4\n",
       "4     145.6\n",
       "...     ...\n",
       "3373  115.6\n",
       "3374  113.8\n",
       "3375  112.8\n",
       "3376  112.2\n",
       "3377  112.0\n",
       "\n",
       "[3378 rows x 1 columns]"
      ]
     },
     "execution_count": 43,
     "metadata": {},
     "output_type": "execute_result"
    }
   ],
   "source": [
    "# This is the original y_test (de-scaled)\n",
    "pd.DataFrame(test_1_df['hr'][win_length:]).reset_index().drop('index', axis= 1)"
   ]
  },
  {
   "cell_type": "code",
   "execution_count": 46,
   "id": "35210ccb-bebd-47b4-bb77-8894e32b1702",
   "metadata": {},
   "outputs": [
    {
     "data": {
      "image/png": "[encoded data removed]",
      "text/plain": [
       "<Figure size 1296x432 with 1 Axes>"
      ]
     },
     "metadata": {},
     "output_type": "display_data"
    }
   ],
   "source": [
    "sns.set_style('darkgrid')\n",
    "\n",
    "plt.figure(figsize= (18, 6))\n",
    "plt.plot(hr_test_1_results[2], color = 'tab:red', label= 'HR pred')\n",
    "plt.plot(pd.DataFrame(test_1_df['hr'][win_length:]).reset_index().drop('index', axis= 1), color= 'tab:blue', label= 'HR actual')\n",
    "#plt.plot(pd.DataFrame(test_1_df['power'][win_length:]).reset_index().drop('index', axis= 1) * .5, color= 'tab:green', label= 'Power actual')\n",
    "plt.ylim(125, 175)\n",
    "#plt.xlim(0, 1000)\n",
    "plt.legend();"
   ]
  },
  {
   "cell_type": "code",
   "execution_count": null,
   "id": "9f8575ca-b63d-4d16-bca7-1a1a8f90c7b4",
   "metadata": {},
   "outputs": [],
   "source": []
  }
 ],
 "metadata": {
  "kernelspec": {
   "display_name": "Python [conda env:tfkGPU]",
   "language": "python",
   "name": "conda-env-tfkGPU-py"
  },
  "language_info": {
   "codemirror_mode": {
    "name": "ipython",
    "version": 3
   },
   "file_extension": ".py",
   "mimetype": "text/x-python",
   "name": "python",
   "nbconvert_exporter": "python",
   "pygments_lexer": "ipython3",
   "version": "3.7.11"
  }
 },
 "nbformat": 4,
 "nbformat_minor": 5
}
