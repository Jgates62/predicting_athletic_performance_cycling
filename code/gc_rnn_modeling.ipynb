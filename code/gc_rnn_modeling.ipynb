{
 "cells": [
  {
   "cell_type": "code",
   "execution_count": 226,
   "id": "d3520217-b8c4-4b38-a08a-19278219b39e",
   "metadata": {},
   "outputs": [],
   "source": [
    "import pandas as pd\n",
    "import numpy as np\n",
    "import matplotlib.pyplot as plt\n",
    "import seaborn as sns\n",
    "\n",
    "from sklearn.preprocessing import StandardScaler\n",
    "from sklearn.model_selection import train_test_split\n",
    "from sklearn.metrics import accuracy_score, mean_squared_error, r2_score\n",
    "\n",
    "from tensorflow.keras.models import Sequential\n",
    "from tensorflow.keras.layers import Dense, Dropout, GRU\n",
    "from tensorflow.keras.optimizers import Adam\n",
    "from tensorflow.keras.preprocessing.sequence import TimeseriesGenerator"
   ]
  },
  {
   "cell_type": "code",
   "execution_count": 227,
   "id": "2f8dd990-d29b-4de7-8580-fd0c924a7aad",
   "metadata": {},
   "outputs": [],
   "source": [
    "# Use for conda environment env:tfkGPU - otherwise comment out\n",
    "import tensorflow as tf\n",
    "configuration = tf.compat.v1.ConfigProto()\n",
    "configuration.gpu_options.allow_growth = True\n",
    "session = tf.compat.v1.Session(config=configuration)"
   ]
  },
  {
   "cell_type": "code",
   "execution_count": 228,
   "id": "917596a7-0b1a-426c-839f-7eca2aa99a37",
   "metadata": {},
   "outputs": [],
   "source": [
    "df = pd.read_csv('../data/gc_data/2019_04_09_22_21_05.csv')"
   ]
  },
  {
   "cell_type": "code",
   "execution_count": 229,
   "id": "dc83599f-d15d-4907-ab85-bc7261fafeec",
   "metadata": {},
   "outputs": [
    {
     "data": {
      "text/html": [
       "<div>\n",
       "<style scoped>\n",
       "    .dataframe tbody tr th:only-of-type {\n",
       "        vertical-align: middle;\n",
       "    }\n",
       "\n",
       "    .dataframe tbody tr th {\n",
       "        vertical-align: top;\n",
       "    }\n",
       "\n",
       "    .dataframe thead th {\n",
       "        text-align: right;\n",
       "    }\n",
       "</style>\n",
       "<table border=\"1\" class=\"dataframe\">\n",
       "  <thead>\n",
       "    <tr style=\"text-align: right;\">\n",
       "      <th></th>\n",
       "      <th>secs</th>\n",
       "      <th>km</th>\n",
       "      <th>power</th>\n",
       "      <th>hr</th>\n",
       "      <th>cad</th>\n",
       "      <th>alt</th>\n",
       "    </tr>\n",
       "  </thead>\n",
       "  <tbody>\n",
       "    <tr>\n",
       "      <th>0</th>\n",
       "      <td>0</td>\n",
       "      <td>0</td>\n",
       "      <td>95</td>\n",
       "      <td>96</td>\n",
       "      <td>80</td>\n",
       "      <td>699.4</td>\n",
       "    </tr>\n",
       "    <tr>\n",
       "      <th>1</th>\n",
       "      <td>1</td>\n",
       "      <td>0</td>\n",
       "      <td>99</td>\n",
       "      <td>97</td>\n",
       "      <td>83</td>\n",
       "      <td>699.6</td>\n",
       "    </tr>\n",
       "    <tr>\n",
       "      <th>2</th>\n",
       "      <td>2</td>\n",
       "      <td>0</td>\n",
       "      <td>125</td>\n",
       "      <td>96</td>\n",
       "      <td>86</td>\n",
       "      <td>699.6</td>\n",
       "    </tr>\n",
       "    <tr>\n",
       "      <th>3</th>\n",
       "      <td>3</td>\n",
       "      <td>0</td>\n",
       "      <td>191</td>\n",
       "      <td>96</td>\n",
       "      <td>90</td>\n",
       "      <td>700.0</td>\n",
       "    </tr>\n",
       "    <tr>\n",
       "      <th>4</th>\n",
       "      <td>4</td>\n",
       "      <td>0</td>\n",
       "      <td>230</td>\n",
       "      <td>97</td>\n",
       "      <td>90</td>\n",
       "      <td>700.0</td>\n",
       "    </tr>\n",
       "  </tbody>\n",
       "</table>\n",
       "</div>"
      ],
      "text/plain": [
       "   secs  km  power  hr  cad    alt\n",
       "0     0   0     95  96   80  699.4\n",
       "1     1   0     99  97   83  699.6\n",
       "2     2   0    125  96   86  699.6\n",
       "3     3   0    191  96   90  700.0\n",
       "4     4   0    230  97   90  700.0"
      ]
     },
     "execution_count": 229,
     "metadata": {},
     "output_type": "execute_result"
    }
   ],
   "source": [
    "df.head()"
   ]
  },
  {
   "cell_type": "markdown",
   "id": "d3d10078-0ce7-4ab8-a254-1f53fffa0231",
   "metadata": {},
   "source": [
    "## Data Cleaning"
   ]
  },
  {
   "cell_type": "code",
   "execution_count": 230,
   "id": "0fb5c420-dd22-437c-9f3d-a35644605662",
   "metadata": {},
   "outputs": [
    {
     "data": {
      "text/plain": [
       "secs       int64\n",
       "km         int64\n",
       "power      int64\n",
       "hr         int64\n",
       "cad        int64\n",
       "alt      float64\n",
       "dtype: object"
      ]
     },
     "execution_count": 230,
     "metadata": {},
     "output_type": "execute_result"
    }
   ],
   "source": [
    "df.dtypes"
   ]
  },
  {
   "cell_type": "code",
   "execution_count": 231,
   "id": "7db3d217-912c-436d-97f3-4c91676640b1",
   "metadata": {},
   "outputs": [
    {
     "data": {
      "text/plain": [
       "secs     0\n",
       "km       0\n",
       "power    0\n",
       "hr       0\n",
       "cad      0\n",
       "alt      0\n",
       "dtype: int64"
      ]
     },
     "execution_count": 231,
     "metadata": {},
     "output_type": "execute_result"
    }
   ],
   "source": [
    "df.isnull().sum()"
   ]
  },
  {
   "cell_type": "code",
   "execution_count": 232,
   "id": "da6ba782-c701-447c-a35a-e68b2839637e",
   "metadata": {},
   "outputs": [],
   "source": [
    "# Set 'secs' as the index\n",
    "df.set_index('secs', inplace= True)"
   ]
  },
  {
   "cell_type": "code",
   "execution_count": 233,
   "id": "b7212f5e-0697-44b4-8035-008829f1fc78",
   "metadata": {},
   "outputs": [],
   "source": [
    "# Drop the km and alt columns (This is a stationary bike test)\n",
    "df.drop(labels= ['km', 'alt'], axis = 1, inplace= True)"
   ]
  },
  {
   "cell_type": "code",
   "execution_count": 234,
   "id": "f9e575b0-c565-499e-941a-b64081206097",
   "metadata": {},
   "outputs": [],
   "source": [
    "df = df.rolling(20).mean();    # 20 sec rolling average\n",
    "df.dropna(inplace= True)"
   ]
  },
  {
   "cell_type": "code",
   "execution_count": 235,
   "id": "a76f47da-c671-4241-8e02-6ce1deecfd07",
   "metadata": {},
   "outputs": [
    {
     "data": {
      "text/plain": [
       "power    0\n",
       "hr       0\n",
       "cad      0\n",
       "dtype: int64"
      ]
     },
     "execution_count": 235,
     "metadata": {},
     "output_type": "execute_result"
    }
   ],
   "source": [
    "df.isnull().sum()"
   ]
  },
  {
   "cell_type": "code",
   "execution_count": 236,
   "id": "a03775b8-3065-40d3-a2bc-aee142a192c8",
   "metadata": {},
   "outputs": [
    {
     "data": {
      "text/plain": [
       "power    float64\n",
       "hr       float64\n",
       "cad      float64\n",
       "dtype: object"
      ]
     },
     "execution_count": 236,
     "metadata": {},
     "output_type": "execute_result"
    }
   ],
   "source": [
    "df.dtypes"
   ]
  },
  {
   "cell_type": "markdown",
   "id": "1da1bf1b-1f82-4c97-b389-bae89df480dc",
   "metadata": {},
   "source": [
    "## Train, Test, Split"
   ]
  },
  {
   "cell_type": "code",
   "execution_count": 278,
   "id": "ecfd984f-4db3-410f-a431-359f21da6cf5",
   "metadata": {},
   "outputs": [],
   "source": [
    "# Create X and y\n",
    "X = df.drop(columns= ['hr'])\n",
    "y = df['hr'].values"
   ]
  },
  {
   "cell_type": "code",
   "execution_count": 279,
   "id": "07c84374-c50c-437e-9c65-95c60df57871",
   "metadata": {},
   "outputs": [],
   "source": [
    "# X = X * 0.0001\n",
    "# y = y * 0.0001"
   ]
  },
  {
   "cell_type": "code",
   "execution_count": 280,
   "id": "192a99f5-5513-477b-ad20-8ffba09c33d4",
   "metadata": {},
   "outputs": [],
   "source": [
    "# Train/Test Split\n",
    "X_train, X_test, y_train, y_test = train_test_split(X, y, shuffle= False)"
   ]
  },
  {
   "cell_type": "code",
   "execution_count": 281,
   "id": "11f5d769-7417-4535-a68c-a9eefa9b0684",
   "metadata": {},
   "outputs": [],
   "source": [
    "ss = StandardScaler()\n",
    "Z_train = ss.fit_transform(X_train)\n",
    "Z_test = ss.fit_transform(X_test)"
   ]
  },
  {
   "cell_type": "markdown",
   "id": "fcce13d6-d43f-4649-8926-386e760b4f5b",
   "metadata": {},
   "source": [
    "## Time Series Generator"
   ]
  },
  {
   "cell_type": "code",
   "execution_count": 282,
   "id": "93d3b797-c17f-4741-b4cc-dd3b4dc99553",
   "metadata": {},
   "outputs": [],
   "source": [
    "# Create training sequences\n",
    "train_tsg = TimeseriesGenerator(X_train.values, y_train, length=3, batch_size= 64)\n",
    "\n",
    "# Create test sequences\n",
    "test_tsg = TimeseriesGenerator(X_test.values, y_test, length=3, batch_size= 64)"
   ]
  },
  {
   "cell_type": "code",
   "execution_count": 283,
   "id": "44b7d598-6d99-4448-a896-08716d8aa111",
   "metadata": {},
   "outputs": [
    {
     "data": {
      "text/plain": [
       "(64, 3, 2)"
      ]
     },
     "execution_count": 283,
     "metadata": {},
     "output_type": "execute_result"
    }
   ],
   "source": [
    "train_tsg[0][0].shape"
   ]
  },
  {
   "cell_type": "markdown",
   "id": "87a9ecc1-a9a6-4f9d-9dbe-e70cb6b0bd3c",
   "metadata": {},
   "source": [
    "## Modeling"
   ]
  },
  {
   "cell_type": "code",
   "execution_count": 284,
   "id": "223fb3f7-edf3-41c4-80a9-a76ec6569b9b",
   "metadata": {},
   "outputs": [],
   "source": [
    "# RNN Design\n",
    "\n",
    "model = Sequential()\n",
    "\n",
    "model.add(GRU(3, input_shape=(3, 2), return_sequences=True)) # True if the next layer is RNN\n",
    "model.add(GRU(6, return_sequences=False)) # False if the next layer is Dense\n",
    "model.add(Dense(3, activation='relu'))\n",
    "\n",
    "# Output layer\n",
    "model.add(Dense(1, activation='sigmoid'))\n",
    "\n",
    "model.compile(loss='mse', optimizer=Adam(lr=.0005), metrics= 'mse')"
   ]
  },
  {
   "cell_type": "code",
   "execution_count": 285,
   "id": "0e4795da-3fde-414c-8af8-f4daf5b397d4",
   "metadata": {},
   "outputs": [
    {
     "name": "stdout",
     "output_type": "stream",
     "text": [
      "Epoch 1/100\n",
      "32/32 [==============================] - 1s 24ms/step - loss: 25623.3047 - mse: 25623.3047 - val_loss: 28626.4551 - val_mse: 28626.4551\n",
      "Epoch 2/100\n",
      "32/32 [==============================] - 0s 6ms/step - loss: 25622.0078 - mse: 25622.0078 - val_loss: 28625.0938 - val_mse: 28625.0938\n",
      "Epoch 3/100\n",
      "32/32 [==============================] - 0s 6ms/step - loss: 25620.7246 - mse: 25620.7246 - val_loss: 28623.7363 - val_mse: 28623.7363\n",
      "Epoch 4/100\n",
      "32/32 [==============================] - 0s 6ms/step - loss: 25619.4453 - mse: 25619.4453 - val_loss: 28622.3809 - val_mse: 28622.3809\n",
      "Epoch 5/100\n",
      "32/32 [==============================] - 0s 6ms/step - loss: 25618.1680 - mse: 25618.1680 - val_loss: 28621.0273 - val_mse: 28621.0273\n",
      "Epoch 6/100\n",
      "32/32 [==============================] - 0s 6ms/step - loss: 25616.8906 - mse: 25616.8906 - val_loss: 28619.6836 - val_mse: 28619.6836\n",
      "Epoch 7/100\n",
      "32/32 [==============================] - 0s 6ms/step - loss: 25615.6211 - mse: 25615.6211 - val_loss: 28618.3301 - val_mse: 28618.3301\n",
      "Epoch 8/100\n",
      "32/32 [==============================] - 0s 6ms/step - loss: 25614.3438 - mse: 25614.3438 - val_loss: 28616.9844 - val_mse: 28616.9844\n",
      "Epoch 9/100\n",
      "32/32 [==============================] - 0s 6ms/step - loss: 25613.0781 - mse: 25613.0781 - val_loss: 28615.6445 - val_mse: 28615.6445\n",
      "Epoch 10/100\n",
      "32/32 [==============================] - 0s 6ms/step - loss: 25611.8105 - mse: 25611.8105 - val_loss: 28614.3027 - val_mse: 28614.3027\n",
      "Epoch 11/100\n",
      "32/32 [==============================] - 0s 6ms/step - loss: 25610.5410 - mse: 25610.5410 - val_loss: 28612.9648 - val_mse: 28612.9648\n",
      "Epoch 12/100\n",
      "32/32 [==============================] - 0s 6ms/step - loss: 25609.2793 - mse: 25609.2793 - val_loss: 28611.6348 - val_mse: 28611.6348\n",
      "Epoch 13/100\n",
      "32/32 [==============================] - 0s 6ms/step - loss: 25608.0176 - mse: 25608.0176 - val_loss: 28610.3027 - val_mse: 28610.3027\n",
      "Epoch 14/100\n",
      "32/32 [==============================] - 0s 6ms/step - loss: 25606.7695 - mse: 25606.7695 - val_loss: 28608.9727 - val_mse: 28608.9727\n",
      "Epoch 15/100\n",
      "32/32 [==============================] - 0s 6ms/step - loss: 25605.5156 - mse: 25605.5156 - val_loss: 28607.6523 - val_mse: 28607.6523\n",
      "Epoch 16/100\n",
      "32/32 [==============================] - 0s 6ms/step - loss: 25604.2715 - mse: 25604.2715 - val_loss: 28606.3359 - val_mse: 28606.3359\n",
      "Epoch 17/100\n",
      "32/32 [==============================] - 0s 6ms/step - loss: 25603.0234 - mse: 25603.0234 - val_loss: 28605.0176 - val_mse: 28605.0176\n",
      "Epoch 18/100\n",
      "32/32 [==============================] - 0s 6ms/step - loss: 25601.7832 - mse: 25601.7832 - val_loss: 28603.7070 - val_mse: 28603.7070\n",
      "Epoch 19/100\n",
      "32/32 [==============================] - 0s 6ms/step - loss: 25600.5469 - mse: 25600.5469 - val_loss: 28602.3984 - val_mse: 28602.3984\n",
      "Epoch 20/100\n",
      "32/32 [==============================] - 0s 6ms/step - loss: 25599.3125 - mse: 25599.3125 - val_loss: 28601.0996 - val_mse: 28601.0996\n",
      "Epoch 21/100\n",
      "32/32 [==============================] - 0s 6ms/step - loss: 25598.0898 - mse: 25598.0898 - val_loss: 28599.8027 - val_mse: 28599.8027\n",
      "Epoch 22/100\n",
      "32/32 [==============================] - 0s 6ms/step - loss: 25596.8711 - mse: 25596.8711 - val_loss: 28598.5117 - val_mse: 28598.5117\n",
      "Epoch 23/100\n",
      "32/32 [==============================] - 0s 6ms/step - loss: 25595.6543 - mse: 25595.6543 - val_loss: 28597.2285 - val_mse: 28597.2285\n",
      "Epoch 24/100\n",
      "32/32 [==============================] - 0s 6ms/step - loss: 25594.4414 - mse: 25594.4414 - val_loss: 28595.9492 - val_mse: 28595.9492\n",
      "Epoch 25/100\n",
      "32/32 [==============================] - 0s 6ms/step - loss: 25593.2383 - mse: 25593.2383 - val_loss: 28594.6738 - val_mse: 28594.6738\n",
      "Epoch 26/100\n",
      "32/32 [==============================] - 0s 6ms/step - loss: 25592.0371 - mse: 25592.0371 - val_loss: 28593.4102 - val_mse: 28593.4102\n",
      "Epoch 27/100\n",
      "32/32 [==============================] - 0s 6ms/step - loss: 25590.8418 - mse: 25590.8418 - val_loss: 28592.1504 - val_mse: 28592.1504\n",
      "Epoch 28/100\n",
      "32/32 [==============================] - 0s 6ms/step - loss: 25589.6523 - mse: 25589.6523 - val_loss: 28590.8984 - val_mse: 28590.8984\n",
      "Epoch 29/100\n",
      "32/32 [==============================] - 0s 6ms/step - loss: 25588.4707 - mse: 25588.4707 - val_loss: 28589.6465 - val_mse: 28589.6465\n",
      "Epoch 30/100\n",
      "32/32 [==============================] - 0s 6ms/step - loss: 25587.2988 - mse: 25587.2988 - val_loss: 28588.4062 - val_mse: 28588.4062\n",
      "Epoch 31/100\n",
      "32/32 [==============================] - 0s 6ms/step - loss: 25586.1270 - mse: 25586.1270 - val_loss: 28587.1738 - val_mse: 28587.1738\n",
      "Epoch 32/100\n",
      "32/32 [==============================] - 0s 6ms/step - loss: 25584.9688 - mse: 25584.9688 - val_loss: 28585.9434 - val_mse: 28585.9434\n",
      "Epoch 33/100\n",
      "32/32 [==============================] - 0s 6ms/step - loss: 25583.8066 - mse: 25583.8066 - val_loss: 28584.7285 - val_mse: 28584.7285\n",
      "Epoch 34/100\n",
      "32/32 [==============================] - 0s 6ms/step - loss: 25582.6641 - mse: 25582.6641 - val_loss: 28583.5117 - val_mse: 28583.5117\n",
      "Epoch 35/100\n",
      "32/32 [==============================] - 0s 6ms/step - loss: 25581.5195 - mse: 25581.5195 - val_loss: 28582.3105 - val_mse: 28582.3105\n",
      "Epoch 36/100\n",
      "32/32 [==============================] - 0s 6ms/step - loss: 25580.3848 - mse: 25580.3848 - val_loss: 28581.1133 - val_mse: 28581.1133\n",
      "Epoch 37/100\n",
      "32/32 [==============================] - 0s 6ms/step - loss: 25579.2598 - mse: 25579.2598 - val_loss: 28579.9219 - val_mse: 28579.9219\n",
      "Epoch 38/100\n",
      "32/32 [==============================] - 0s 6ms/step - loss: 25578.1387 - mse: 25578.1387 - val_loss: 28578.7422 - val_mse: 28578.7422\n",
      "Epoch 39/100\n",
      "32/32 [==============================] - 0s 7ms/step - loss: 25577.0273 - mse: 25577.0273 - val_loss: 28577.5664 - val_mse: 28577.5664\n",
      "Epoch 40/100\n",
      "32/32 [==============================] - 0s 6ms/step - loss: 25575.9180 - mse: 25575.9180 - val_loss: 28576.4004 - val_mse: 28576.4004\n",
      "Epoch 41/100\n",
      "32/32 [==============================] - 0s 6ms/step - loss: 25574.8262 - mse: 25574.8262 - val_loss: 28575.2461 - val_mse: 28575.2461\n",
      "Epoch 42/100\n",
      "32/32 [==============================] - 0s 6ms/step - loss: 25573.7324 - mse: 25573.7324 - val_loss: 28574.0938 - val_mse: 28574.0938\n",
      "Epoch 43/100\n",
      "32/32 [==============================] - 0s 6ms/step - loss: 25572.6465 - mse: 25572.6465 - val_loss: 28572.9512 - val_mse: 28572.9512\n",
      "Epoch 44/100\n",
      "32/32 [==============================] - 0s 6ms/step - loss: 25571.5781 - mse: 25571.5781 - val_loss: 28571.8164 - val_mse: 28571.8164\n",
      "Epoch 45/100\n",
      "32/32 [==============================] - 0s 6ms/step - loss: 25570.5098 - mse: 25570.5098 - val_loss: 28570.6953 - val_mse: 28570.6953\n",
      "Epoch 46/100\n",
      "32/32 [==============================] - 0s 6ms/step - loss: 25569.4512 - mse: 25569.4512 - val_loss: 28569.5781 - val_mse: 28569.5781\n",
      "Epoch 47/100\n",
      "32/32 [==============================] - 0s 6ms/step - loss: 25568.3965 - mse: 25568.3965 - val_loss: 28568.4707 - val_mse: 28568.4707\n",
      "Epoch 48/100\n",
      "32/32 [==============================] - 0s 6ms/step - loss: 25567.3535 - mse: 25567.3535 - val_loss: 28567.3652 - val_mse: 28567.3652\n",
      "Epoch 49/100\n",
      "32/32 [==============================] - 0s 6ms/step - loss: 25566.3223 - mse: 25566.3223 - val_loss: 28566.2793 - val_mse: 28566.2793\n",
      "Epoch 50/100\n",
      "32/32 [==============================] - 0s 6ms/step - loss: 25565.2988 - mse: 25565.2988 - val_loss: 28565.1973 - val_mse: 28565.1973\n",
      "Epoch 51/100\n",
      "32/32 [==============================] - 0s 6ms/step - loss: 25564.2793 - mse: 25564.2793 - val_loss: 28564.1250 - val_mse: 28564.1250\n",
      "Epoch 52/100\n",
      "32/32 [==============================] - 0s 6ms/step - loss: 25563.2715 - mse: 25563.2715 - val_loss: 28563.0566 - val_mse: 28563.0566\n",
      "Epoch 53/100\n",
      "32/32 [==============================] - 0s 6ms/step - loss: 25562.2695 - mse: 25562.2695 - val_loss: 28562.0059 - val_mse: 28562.0059\n",
      "Epoch 54/100\n",
      "32/32 [==============================] - 0s 6ms/step - loss: 25561.2695 - mse: 25561.2695 - val_loss: 28560.9590 - val_mse: 28560.9590\n",
      "Epoch 55/100\n",
      "32/32 [==============================] - 0s 6ms/step - loss: 25560.2832 - mse: 25560.2832 - val_loss: 28559.9160 - val_mse: 28559.9160\n",
      "Epoch 56/100\n",
      "32/32 [==============================] - 0s 6ms/step - loss: 25559.3047 - mse: 25559.3047 - val_loss: 28558.8828 - val_mse: 28558.8828\n",
      "Epoch 57/100\n",
      "32/32 [==============================] - 0s 6ms/step - loss: 25558.3379 - mse: 25558.3379 - val_loss: 28557.8613 - val_mse: 28557.8613\n",
      "Epoch 58/100\n",
      "32/32 [==============================] - 0s 6ms/step - loss: 25557.3789 - mse: 25557.3789 - val_loss: 28556.8496 - val_mse: 28556.8496\n",
      "Epoch 59/100\n",
      "32/32 [==============================] - 0s 6ms/step - loss: 25556.4297 - mse: 25556.4297 - val_loss: 28555.8535 - val_mse: 28555.8535\n",
      "Epoch 60/100\n",
      "32/32 [==============================] - 0s 6ms/step - loss: 25555.4863 - mse: 25555.4863 - val_loss: 28554.8555 - val_mse: 28554.8555\n",
      "Epoch 61/100\n",
      "32/32 [==============================] - 0s 6ms/step - loss: 25554.5488 - mse: 25554.5488 - val_loss: 28553.8652 - val_mse: 28553.8652\n",
      "Epoch 62/100\n",
      "32/32 [==============================] - 0s 6ms/step - loss: 25553.6191 - mse: 25553.6191 - val_loss: 28552.8887 - val_mse: 28552.8887\n",
      "Epoch 63/100\n",
      "32/32 [==============================] - 0s 6ms/step - loss: 25552.7031 - mse: 25552.7031 - val_loss: 28551.9219 - val_mse: 28551.9219\n",
      "Epoch 64/100\n",
      "32/32 [==============================] - 0s 6ms/step - loss: 25551.7891 - mse: 25551.7891 - val_loss: 28550.9609 - val_mse: 28550.9609\n",
      "Epoch 65/100\n",
      "32/32 [==============================] - 0s 6ms/step - loss: 25550.8848 - mse: 25550.8848 - val_loss: 28550.0156 - val_mse: 28550.0156\n",
      "Epoch 66/100\n",
      "32/32 [==============================] - 0s 6ms/step - loss: 25549.9961 - mse: 25549.9961 - val_loss: 28549.0723 - val_mse: 28549.0723\n",
      "Epoch 67/100\n",
      "32/32 [==============================] - 0s 6ms/step - loss: 25549.1094 - mse: 25549.1094 - val_loss: 28548.1387 - val_mse: 28548.1387\n",
      "Epoch 68/100\n",
      "32/32 [==============================] - 0s 6ms/step - loss: 25548.2305 - mse: 25548.2305 - val_loss: 28547.2129 - val_mse: 28547.2129\n",
      "Epoch 69/100\n",
      "32/32 [==============================] - 0s 6ms/step - loss: 25547.3613 - mse: 25547.3613 - val_loss: 28546.2969 - val_mse: 28546.2969\n",
      "Epoch 70/100\n",
      "32/32 [==============================] - 0s 6ms/step - loss: 25546.5020 - mse: 25546.5020 - val_loss: 28545.3887 - val_mse: 28545.3887\n",
      "Epoch 71/100\n",
      "32/32 [==============================] - 0s 6ms/step - loss: 25545.6504 - mse: 25545.6504 - val_loss: 28544.4902 - val_mse: 28544.4902\n",
      "Epoch 72/100\n",
      "32/32 [==============================] - 0s 6ms/step - loss: 25544.8027 - mse: 25544.8027 - val_loss: 28543.6016 - val_mse: 28543.6016\n",
      "Epoch 73/100\n",
      "32/32 [==============================] - 0s 6ms/step - loss: 25543.9668 - mse: 25543.9668 - val_loss: 28542.7188 - val_mse: 28542.7188\n",
      "Epoch 74/100\n",
      "32/32 [==============================] - 0s 6ms/step - loss: 25543.1387 - mse: 25543.1387 - val_loss: 28541.8438 - val_mse: 28541.8438\n",
      "Epoch 75/100\n",
      "32/32 [==============================] - 0s 6ms/step - loss: 25542.3184 - mse: 25542.3184 - val_loss: 28540.9785 - val_mse: 28540.9785\n",
      "Epoch 76/100\n",
      "32/32 [==============================] - 0s 6ms/step - loss: 25541.5078 - mse: 25541.5078 - val_loss: 28540.1250 - val_mse: 28540.1250\n",
      "Epoch 77/100\n",
      "32/32 [==============================] - 0s 6ms/step - loss: 25540.7031 - mse: 25540.7031 - val_loss: 28539.2754 - val_mse: 28539.2754\n",
      "Epoch 78/100\n",
      "32/32 [==============================] - 0s 6ms/step - loss: 25539.9043 - mse: 25539.9043 - val_loss: 28538.4395 - val_mse: 28538.4395\n",
      "Epoch 79/100\n",
      "32/32 [==============================] - 0s 6ms/step - loss: 25539.1133 - mse: 25539.1133 - val_loss: 28537.6074 - val_mse: 28537.6074\n",
      "Epoch 80/100\n",
      "32/32 [==============================] - 0s 6ms/step - loss: 25538.3301 - mse: 25538.3301 - val_loss: 28536.7852 - val_mse: 28536.7852\n",
      "Epoch 81/100\n",
      "32/32 [==============================] - 0s 6ms/step - loss: 25537.5566 - mse: 25537.5566 - val_loss: 28535.9707 - val_mse: 28535.9707\n",
      "Epoch 82/100\n",
      "32/32 [==============================] - 0s 6ms/step - loss: 25536.7930 - mse: 25536.7930 - val_loss: 28535.1621 - val_mse: 28535.1621\n",
      "Epoch 83/100\n",
      "32/32 [==============================] - 0s 6ms/step - loss: 25536.0352 - mse: 25536.0352 - val_loss: 28534.3613 - val_mse: 28534.3613\n",
      "Epoch 84/100\n",
      "32/32 [==============================] - 0s 6ms/step - loss: 25535.2871 - mse: 25535.2871 - val_loss: 28533.5723 - val_mse: 28533.5723\n",
      "Epoch 85/100\n",
      "32/32 [==============================] - 0s 6ms/step - loss: 25534.5449 - mse: 25534.5449 - val_loss: 28532.7910 - val_mse: 28532.7910\n",
      "Epoch 86/100\n",
      "32/32 [==============================] - 0s 6ms/step - loss: 25533.8047 - mse: 25533.8047 - val_loss: 28532.0176 - val_mse: 28532.0176\n",
      "Epoch 87/100\n",
      "32/32 [==============================] - 0s 6ms/step - loss: 25533.0762 - mse: 25533.0762 - val_loss: 28531.2480 - val_mse: 28531.2480\n",
      "Epoch 88/100\n",
      "32/32 [==============================] - 0s 6ms/step - loss: 25532.3574 - mse: 25532.3574 - val_loss: 28530.4902 - val_mse: 28530.4902\n",
      "Epoch 89/100\n",
      "32/32 [==============================] - 0s 6ms/step - loss: 25531.6426 - mse: 25531.6426 - val_loss: 28529.7402 - val_mse: 28529.7402\n",
      "Epoch 90/100\n",
      "32/32 [==============================] - 0s 6ms/step - loss: 25530.9395 - mse: 25530.9395 - val_loss: 28528.9961 - val_mse: 28528.9961\n",
      "Epoch 91/100\n",
      "32/32 [==============================] - 0s 6ms/step - loss: 25530.2383 - mse: 25530.2383 - val_loss: 28528.2578 - val_mse: 28528.2578\n",
      "Epoch 92/100\n",
      "32/32 [==============================] - 0s 6ms/step - loss: 25529.5488 - mse: 25529.5488 - val_loss: 28527.5332 - val_mse: 28527.5332\n",
      "Epoch 93/100\n",
      "32/32 [==============================] - 0s 6ms/step - loss: 25528.8594 - mse: 25528.8594 - val_loss: 28526.8105 - val_mse: 28526.8105\n",
      "Epoch 94/100\n",
      "32/32 [==============================] - 0s 6ms/step - loss: 25528.1875 - mse: 25528.1875 - val_loss: 28526.0938 - val_mse: 28526.0938\n",
      "Epoch 95/100\n",
      "32/32 [==============================] - 0s 6ms/step - loss: 25527.5156 - mse: 25527.5156 - val_loss: 28525.3926 - val_mse: 28525.3926\n",
      "Epoch 96/100\n",
      "32/32 [==============================] - 0s 6ms/step - loss: 25526.8477 - mse: 25526.8477 - val_loss: 28524.6914 - val_mse: 28524.6914\n",
      "Epoch 97/100\n",
      "32/32 [==============================] - 0s 6ms/step - loss: 25526.1973 - mse: 25526.1973 - val_loss: 28524.0000 - val_mse: 28524.0000\n",
      "Epoch 98/100\n",
      "32/32 [==============================] - 0s 6ms/step - loss: 25525.5488 - mse: 25525.5488 - val_loss: 28523.3164 - val_mse: 28523.3164\n",
      "Epoch 99/100\n",
      "32/32 [==============================] - 0s 6ms/step - loss: 25524.9023 - mse: 25524.9023 - val_loss: 28522.6406 - val_mse: 28522.6406\n",
      "Epoch 100/100\n",
      "32/32 [==============================] - 0s 6ms/step - loss: 25524.2695 - mse: 25524.2695 - val_loss: 28521.9727 - val_mse: 28521.9727\n"
     ]
    }
   ],
   "source": [
    "res = model.fit(train_tsg, \n",
    "                epochs=100, \n",
    "                validation_data=test_tsg, \n",
    "                shuffle= False,\n",
    "                #callbacks = [early_stopping]\n",
    "               )"
   ]
  },
  {
   "cell_type": "code",
   "execution_count": 286,
   "id": "48801655-3a4c-41e9-9585-91e63a5294d8",
   "metadata": {},
   "outputs": [
    {
     "data": {
      "image/png": "[encoded data removed]",
      "text/plain": [
       "<Figure size 1008x432 with 1 Axes>"
      ]
     },
     "metadata": {
      "needs_background": "light"
     },
     "output_type": "display_data"
    }
   ],
   "source": [
    "plt.figure(figsize=(14,6))\n",
    "plt.plot(res.history['loss'], label= 'Train')\n",
    "plt.plot(res.history['val_loss'], label= 'Test')\n",
    "plt.legend();\n",
    "\n",
    "#plt.ylim(0, .00003);"
   ]
  },
  {
   "cell_type": "code",
   "execution_count": 287,
   "id": "3c14574f-48c9-4e31-8239-172817773ae3",
   "metadata": {},
   "outputs": [],
   "source": [
    "# Generate Predictions\n",
    "train_preds = model.predict(train_tsg)\n",
    "test_preds = model.predict(test_tsg)"
   ]
  },
  {
   "cell_type": "code",
   "execution_count": 288,
   "id": "935c3a94-12f8-43c4-ae0c-56d29629eac6",
   "metadata": {},
   "outputs": [
    {
     "data": {
      "text/plain": [
       "array([[813.1434],\n",
       "       [813.1434],\n",
       "       [813.1434],\n",
       "       ...,\n",
       "       [813.1434],\n",
       "       [813.1434],\n",
       "       [813.1434]], dtype=float32)"
      ]
     },
     "execution_count": 288,
     "metadata": {},
     "output_type": "execute_result"
    }
   ],
   "source": [
    "train_preds * 1000"
   ]
  },
  {
   "cell_type": "code",
   "execution_count": 289,
   "id": "6e4f9b79-3c09-453b-bb1e-563302b6514f",
   "metadata": {},
   "outputs": [
    {
     "data": {
      "text/plain": [
       "(-314.0061424491436, -8718.539044696989)"
      ]
     },
     "execution_count": 289,
     "metadata": {},
     "output_type": "execute_result"
    }
   ],
   "source": [
    "# train, test r2 scores\n",
    "r2_score(y_train[3:], train_preds), r2_score(y_test[3:], test_preds)"
   ]
  },
  {
   "cell_type": "code",
   "execution_count": 290,
   "id": "72b520bf-e602-4d95-9952-e2c2171874d8",
   "metadata": {},
   "outputs": [
    {
     "data": {
      "image/png": "[encoded data removed]",
      "text/plain": [
       "<Figure size 1008x360 with 1 Axes>"
      ]
     },
     "metadata": {
      "needs_background": "light"
     },
     "output_type": "display_data"
    }
   ],
   "source": [
    "plt.figure(figsize= (14, 5))\n",
    "plt.plot(pd.DataFrame(y_test[10:]), color = 'tab:blue', label='y_test')\n",
    "#plt.plot(pd.DataFrame(test_preds * 1000), color = 'tab:orange', label='test_preds')\n",
    "plt.legend()\n",
    "plt.show();"
   ]
  },
  {
   "cell_type": "code",
   "execution_count": null,
   "id": "32900306-8ba5-48d0-a018-93547eef3003",
   "metadata": {},
   "outputs": [],
   "source": []
  },
  {
   "cell_type": "code",
   "execution_count": 204,
   "id": "f3fc1526-ab75-4dad-bc88-ee0fdbb720a6",
   "metadata": {},
   "outputs": [
    {
     "data": {
      "text/html": [
       "<div>\n",
       "<style scoped>\n",
       "    .dataframe tbody tr th:only-of-type {\n",
       "        vertical-align: middle;\n",
       "    }\n",
       "\n",
       "    .dataframe tbody tr th {\n",
       "        vertical-align: top;\n",
       "    }\n",
       "\n",
       "    .dataframe thead th {\n",
       "        text-align: right;\n",
       "    }\n",
       "</style>\n",
       "<table border=\"1\" class=\"dataframe\">\n",
       "  <thead>\n",
       "    <tr style=\"text-align: right;\">\n",
       "      <th></th>\n",
       "      <th>0</th>\n",
       "    </tr>\n",
       "  </thead>\n",
       "  <tbody>\n",
       "    <tr>\n",
       "      <th>0</th>\n",
       "      <td>0.999909</td>\n",
       "    </tr>\n",
       "    <tr>\n",
       "      <th>1</th>\n",
       "      <td>0.999909</td>\n",
       "    </tr>\n",
       "    <tr>\n",
       "      <th>2</th>\n",
       "      <td>0.999909</td>\n",
       "    </tr>\n",
       "    <tr>\n",
       "      <th>3</th>\n",
       "      <td>0.999909</td>\n",
       "    </tr>\n",
       "    <tr>\n",
       "      <th>4</th>\n",
       "      <td>0.999909</td>\n",
       "    </tr>\n",
       "    <tr>\n",
       "      <th>5</th>\n",
       "      <td>0.999909</td>\n",
       "    </tr>\n",
       "    <tr>\n",
       "      <th>6</th>\n",
       "      <td>0.999909</td>\n",
       "    </tr>\n",
       "    <tr>\n",
       "      <th>7</th>\n",
       "      <td>0.999909</td>\n",
       "    </tr>\n",
       "    <tr>\n",
       "      <th>8</th>\n",
       "      <td>0.999909</td>\n",
       "    </tr>\n",
       "    <tr>\n",
       "      <th>9</th>\n",
       "      <td>0.999909</td>\n",
       "    </tr>\n",
       "    <tr>\n",
       "      <th>10</th>\n",
       "      <td>0.999909</td>\n",
       "    </tr>\n",
       "    <tr>\n",
       "      <th>11</th>\n",
       "      <td>0.999909</td>\n",
       "    </tr>\n",
       "    <tr>\n",
       "      <th>12</th>\n",
       "      <td>0.999909</td>\n",
       "    </tr>\n",
       "    <tr>\n",
       "      <th>13</th>\n",
       "      <td>0.999909</td>\n",
       "    </tr>\n",
       "    <tr>\n",
       "      <th>14</th>\n",
       "      <td>0.999909</td>\n",
       "    </tr>\n",
       "  </tbody>\n",
       "</table>\n",
       "</div>"
      ],
      "text/plain": [
       "           0\n",
       "0   0.999909\n",
       "1   0.999909\n",
       "2   0.999909\n",
       "3   0.999909\n",
       "4   0.999909\n",
       "5   0.999909\n",
       "6   0.999909\n",
       "7   0.999909\n",
       "8   0.999909\n",
       "9   0.999909\n",
       "10  0.999909\n",
       "11  0.999909\n",
       "12  0.999909\n",
       "13  0.999909\n",
       "14  0.999909"
      ]
     },
     "execution_count": 204,
     "metadata": {},
     "output_type": "execute_result"
    }
   ],
   "source": [
    "test_preds_df = pd.DataFrame(test_preds)\n",
    "test_preds_df.head(15)"
   ]
  },
  {
   "cell_type": "code",
   "execution_count": 205,
   "id": "d4abacf6-5cb5-48c0-9de5-3657848a2922",
   "metadata": {},
   "outputs": [
    {
     "data": {
      "text/html": [
       "<div>\n",
       "<style scoped>\n",
       "    .dataframe tbody tr th:only-of-type {\n",
       "        vertical-align: middle;\n",
       "    }\n",
       "\n",
       "    .dataframe tbody tr th {\n",
       "        vertical-align: top;\n",
       "    }\n",
       "\n",
       "    .dataframe thead th {\n",
       "        text-align: right;\n",
       "    }\n",
       "</style>\n",
       "<table border=\"1\" class=\"dataframe\">\n",
       "  <thead>\n",
       "    <tr style=\"text-align: right;\">\n",
       "      <th></th>\n",
       "      <th>0</th>\n",
       "    </tr>\n",
       "  </thead>\n",
       "  <tbody>\n",
       "    <tr>\n",
       "      <th>0</th>\n",
       "      <td>0.019999</td>\n",
       "    </tr>\n",
       "    <tr>\n",
       "      <th>1</th>\n",
       "      <td>0.039996</td>\n",
       "    </tr>\n",
       "    <tr>\n",
       "      <th>2</th>\n",
       "      <td>0.079989</td>\n",
       "    </tr>\n",
       "    <tr>\n",
       "      <th>3</th>\n",
       "      <td>0.159971</td>\n",
       "    </tr>\n",
       "    <tr>\n",
       "      <th>4</th>\n",
       "      <td>0.319927</td>\n",
       "    </tr>\n",
       "    <tr>\n",
       "      <th>...</th>\n",
       "      <td>...</td>\n",
       "    </tr>\n",
       "    <tr>\n",
       "      <th>656</th>\n",
       "      <td>inf</td>\n",
       "    </tr>\n",
       "    <tr>\n",
       "      <th>657</th>\n",
       "      <td>inf</td>\n",
       "    </tr>\n",
       "    <tr>\n",
       "      <th>658</th>\n",
       "      <td>inf</td>\n",
       "    </tr>\n",
       "    <tr>\n",
       "      <th>659</th>\n",
       "      <td>inf</td>\n",
       "    </tr>\n",
       "    <tr>\n",
       "      <th>660</th>\n",
       "      <td>inf</td>\n",
       "    </tr>\n",
       "  </tbody>\n",
       "</table>\n",
       "<p>661 rows × 1 columns</p>\n",
       "</div>"
      ],
      "text/plain": [
       "            0\n",
       "0    0.019999\n",
       "1    0.039996\n",
       "2    0.079989\n",
       "3    0.159971\n",
       "4    0.319927\n",
       "..        ...\n",
       "656       inf\n",
       "657       inf\n",
       "658       inf\n",
       "659       inf\n",
       "660       inf\n",
       "\n",
       "[661 rows x 1 columns]"
      ]
     },
     "execution_count": 205,
     "metadata": {},
     "output_type": "execute_result"
    }
   ],
   "source": [
    "test_preds_df.add(1,fill_value=0).cumprod() * 0.01"
   ]
  },
  {
   "cell_type": "code",
   "execution_count": 206,
   "id": "042b9d9d-f6f4-409a-b1ec-ca12f2070d97",
   "metadata": {},
   "outputs": [
    {
     "data": {
      "image/png": "[encoded data removed]",
      "text/plain": [
       "<Figure size 432x288 with 1 Axes>"
      ]
     },
     "metadata": {
      "needs_background": "light"
     },
     "output_type": "display_data"
    }
   ],
   "source": [
    "\n",
    "test_preds_df.plot();"
   ]
  },
  {
   "cell_type": "code",
   "execution_count": null,
   "id": "490f66d7-4f82-44fc-a212-0cc619b7b741",
   "metadata": {},
   "outputs": [],
   "source": []
  }
 ],
 "metadata": {
  "kernelspec": {
   "display_name": "Python [conda env:tfkGPU]",
   "language": "python",
   "name": "conda-env-tfkGPU-py"
  },
  "language_info": {
   "codemirror_mode": {
    "name": "ipython",
    "version": 3
   },
   "file_extension": ".py",
   "mimetype": "text/x-python",
   "name": "python",
   "nbconvert_exporter": "python",
   "pygments_lexer": "ipython3",
   "version": "3.7.11"
  }
 },
 "nbformat": 4,
 "nbformat_minor": 5
}
