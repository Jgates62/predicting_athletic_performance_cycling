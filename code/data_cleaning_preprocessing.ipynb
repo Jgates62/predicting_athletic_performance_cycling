{
 "cells": [
  {
   "cell_type": "code",
   "execution_count": 12,
   "id": "a22e4db1-7d06-4beb-87fb-44217bb7c813",
   "metadata": {},
   "outputs": [],
   "source": [
    "import pandas as pd\n",
    "import numpy as np"
   ]
  },
  {
   "cell_type": "code",
   "execution_count": 13,
   "id": "e974ee47-4e34-4372-9258-9d543a95aaec",
   "metadata": {},
   "outputs": [
    {
     "data": {
      "text/html": [
       "<div>\n",
       "<style scoped>\n",
       "    .dataframe tbody tr th:only-of-type {\n",
       "        vertical-align: middle;\n",
       "    }\n",
       "\n",
       "    .dataframe tbody tr th {\n",
       "        vertical-align: top;\n",
       "    }\n",
       "\n",
       "    .dataframe thead th {\n",
       "        text-align: right;\n",
       "    }\n",
       "</style>\n",
       "<table border=\"1\" class=\"dataframe\">\n",
       "  <thead>\n",
       "    <tr style=\"text-align: right;\">\n",
       "      <th></th>\n",
       "      <th>time</th>\n",
       "      <th>Power</th>\n",
       "      <th>Oxygen</th>\n",
       "      <th>Cadence</th>\n",
       "      <th>HR</th>\n",
       "      <th>RF</th>\n",
       "    </tr>\n",
       "  </thead>\n",
       "  <tbody>\n",
       "    <tr>\n",
       "      <th>0</th>\n",
       "      <td>3</td>\n",
       "      <td>0.0</td>\n",
       "      <td>602.000</td>\n",
       "      <td>0.0</td>\n",
       "      <td>86.0</td>\n",
       "      <td>16.0</td>\n",
       "    </tr>\n",
       "    <tr>\n",
       "      <th>1</th>\n",
       "      <td>4</td>\n",
       "      <td>0.0</td>\n",
       "      <td>578.125</td>\n",
       "      <td>0.0</td>\n",
       "      <td>86.0</td>\n",
       "      <td>16.0</td>\n",
       "    </tr>\n",
       "    <tr>\n",
       "      <th>2</th>\n",
       "      <td>5</td>\n",
       "      <td>0.0</td>\n",
       "      <td>558.750</td>\n",
       "      <td>0.0</td>\n",
       "      <td>86.0</td>\n",
       "      <td>16.0</td>\n",
       "    </tr>\n",
       "  </tbody>\n",
       "</table>\n",
       "</div>"
      ],
      "text/plain": [
       "   time  Power   Oxygen  Cadence    HR    RF\n",
       "0     3    0.0  602.000      0.0  86.0  16.0\n",
       "1     4    0.0  578.125      0.0  86.0  16.0\n",
       "2     5    0.0  558.750      0.0  86.0  16.0"
      ]
     },
     "execution_count": 13,
     "metadata": {},
     "output_type": "execute_result"
    }
   ],
   "source": [
    "# Read in study incremental test from subject 1\n",
    "df1_inc = pd.read_csv('../data/data_int/sbj_1_incremental.csv')\n",
    "df1_inc.head(3)"
   ]
  },
  {
   "cell_type": "code",
   "execution_count": 14,
   "id": "d835479c-08ba-4e9c-ace5-0911e8167bfa",
   "metadata": {},
   "outputs": [],
   "source": [
    "# Set 'time' as the index\n",
    "df1_inc.set_index('time', inplace= True)"
   ]
  },
  {
   "cell_type": "code",
   "execution_count": 15,
   "id": "ee5fe27a-aca0-46aa-b969-ef958f86c93f",
   "metadata": {},
   "outputs": [],
   "source": [
    "# Add training time and hr_p_fatigue features (Session training time and heart rate power fatigue)\n",
    "df1_inc['session_time'] = range(0, len(df1_inc))\n",
    "\n",
    "df1_inc['hr_p_fatigue'] = df1_inc['HR'] - (df1_inc['Power'] * 0.25)"
   ]
  },
  {
   "cell_type": "code",
   "execution_count": 16,
   "id": "2e4ee1db-c7f7-4f07-aacd-5ceed60a2f78",
   "metadata": {},
   "outputs": [
    {
     "data": {
      "text/html": [
       "<div>\n",
       "<style scoped>\n",
       "    .dataframe tbody tr th:only-of-type {\n",
       "        vertical-align: middle;\n",
       "    }\n",
       "\n",
       "    .dataframe tbody tr th {\n",
       "        vertical-align: top;\n",
       "    }\n",
       "\n",
       "    .dataframe thead th {\n",
       "        text-align: right;\n",
       "    }\n",
       "</style>\n",
       "<table border=\"1\" class=\"dataframe\">\n",
       "  <thead>\n",
       "    <tr style=\"text-align: right;\">\n",
       "      <th></th>\n",
       "      <th>Power</th>\n",
       "      <th>Oxygen</th>\n",
       "      <th>Cadence</th>\n",
       "      <th>HR</th>\n",
       "      <th>RF</th>\n",
       "      <th>session_time</th>\n",
       "      <th>hr_p_fatigue</th>\n",
       "    </tr>\n",
       "    <tr>\n",
       "      <th>time</th>\n",
       "      <th></th>\n",
       "      <th></th>\n",
       "      <th></th>\n",
       "      <th></th>\n",
       "      <th></th>\n",
       "      <th></th>\n",
       "      <th></th>\n",
       "    </tr>\n",
       "  </thead>\n",
       "  <tbody>\n",
       "    <tr>\n",
       "      <th>3</th>\n",
       "      <td>0.0</td>\n",
       "      <td>602.0000</td>\n",
       "      <td>0.0</td>\n",
       "      <td>86.0</td>\n",
       "      <td>16.0</td>\n",
       "      <td>0</td>\n",
       "      <td>86.0</td>\n",
       "    </tr>\n",
       "    <tr>\n",
       "      <th>4</th>\n",
       "      <td>0.0</td>\n",
       "      <td>578.1250</td>\n",
       "      <td>0.0</td>\n",
       "      <td>86.0</td>\n",
       "      <td>16.0</td>\n",
       "      <td>1</td>\n",
       "      <td>86.0</td>\n",
       "    </tr>\n",
       "    <tr>\n",
       "      <th>5</th>\n",
       "      <td>0.0</td>\n",
       "      <td>558.7500</td>\n",
       "      <td>0.0</td>\n",
       "      <td>86.0</td>\n",
       "      <td>16.0</td>\n",
       "      <td>2</td>\n",
       "      <td>86.0</td>\n",
       "    </tr>\n",
       "    <tr>\n",
       "      <th>6</th>\n",
       "      <td>0.0</td>\n",
       "      <td>542.1875</td>\n",
       "      <td>0.0</td>\n",
       "      <td>86.0</td>\n",
       "      <td>16.0</td>\n",
       "      <td>3</td>\n",
       "      <td>86.0</td>\n",
       "    </tr>\n",
       "    <tr>\n",
       "      <th>7</th>\n",
       "      <td>0.0</td>\n",
       "      <td>527.5000</td>\n",
       "      <td>0.0</td>\n",
       "      <td>86.0</td>\n",
       "      <td>16.0</td>\n",
       "      <td>4</td>\n",
       "      <td>86.0</td>\n",
       "    </tr>\n",
       "  </tbody>\n",
       "</table>\n",
       "</div>"
      ],
      "text/plain": [
       "      Power    Oxygen  Cadence    HR    RF  session_time  hr_p_fatigue\n",
       "time                                                                  \n",
       "3       0.0  602.0000      0.0  86.0  16.0             0          86.0\n",
       "4       0.0  578.1250      0.0  86.0  16.0             1          86.0\n",
       "5       0.0  558.7500      0.0  86.0  16.0             2          86.0\n",
       "6       0.0  542.1875      0.0  86.0  16.0             3          86.0\n",
       "7       0.0  527.5000      0.0  86.0  16.0             4          86.0"
      ]
     },
     "execution_count": 16,
     "metadata": {},
     "output_type": "execute_result"
    }
   ],
   "source": [
    "df1_inc.head()"
   ]
  },
  {
   "cell_type": "code",
   "execution_count": 17,
   "id": "858ad2aa-f133-403c-b1bf-a706e514620a",
   "metadata": {},
   "outputs": [
    {
     "name": "stdout",
     "output_type": "stream",
     "text": [
      "Power           0\n",
      "Oxygen          0\n",
      "Cadence         0\n",
      "HR              0\n",
      "RF              0\n",
      "session_time    0\n",
      "hr_p_fatigue    0\n",
      "dtype: int64\n",
      "Power           float64\n",
      "Oxygen          float64\n",
      "Cadence         float64\n",
      "HR              float64\n",
      "RF              float64\n",
      "session_time      int32\n",
      "hr_p_fatigue    float64\n",
      "dtype: object\n"
     ]
    }
   ],
   "source": [
    "# Check for nulls and check data types\n",
    "print(df1_inc.isnull().sum())\n",
    "\n",
    "print(df1_inc.dtypes)"
   ]
  },
  {
   "cell_type": "code",
   "execution_count": 18,
   "id": "f0f16f7e-32dc-496c-a371-8f5d22c1705b",
   "metadata": {},
   "outputs": [],
   "source": [
    "# Save out\n",
    "df1_inc.to_csv('../data/cleaned_study_data/sub1_inc_clean.csv')"
   ]
  }
 ],
 "metadata": {
  "kernelspec": {
   "display_name": "Python 3 (ipykernel)",
   "language": "python",
   "name": "python3"
  },
  "language_info": {
   "codemirror_mode": {
    "name": "ipython",
    "version": 3
   },
   "file_extension": ".py",
   "mimetype": "text/x-python",
   "name": "python",
   "nbconvert_exporter": "python",
   "pygments_lexer": "ipython3",
   "version": "3.8.8"
  }
 },
 "nbformat": 4,
 "nbformat_minor": 5
}
