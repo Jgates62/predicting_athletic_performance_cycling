{
 "cells": [
  {
   "cell_type": "code",
   "execution_count": 2,
   "id": "a22e4db1-7d06-4beb-87fb-44217bb7c813",
   "metadata": {},
   "outputs": [],
   "source": [
    "import pandas as pd\n",
    "import numpy as np"
   ]
  },
  {
   "cell_type": "code",
   "execution_count": 3,
   "id": "e974ee47-4e34-4372-9258-9d543a95aaec",
   "metadata": {},
   "outputs": [
    {
     "data": {
      "text/html": [
       "<div>\n",
       "<style scoped>\n",
       "    .dataframe tbody tr th:only-of-type {\n",
       "        vertical-align: middle;\n",
       "    }\n",
       "\n",
       "    .dataframe tbody tr th {\n",
       "        vertical-align: top;\n",
       "    }\n",
       "\n",
       "    .dataframe thead th {\n",
       "        text-align: right;\n",
       "    }\n",
       "</style>\n",
       "<table border=\"1\" class=\"dataframe\">\n",
       "  <thead>\n",
       "    <tr style=\"text-align: right;\">\n",
       "      <th></th>\n",
       "      <th>time</th>\n",
       "      <th>Power</th>\n",
       "      <th>Oxygen</th>\n",
       "      <th>Cadence</th>\n",
       "      <th>HR</th>\n",
       "      <th>RF</th>\n",
       "    </tr>\n",
       "  </thead>\n",
       "  <tbody>\n",
       "    <tr>\n",
       "      <th>0</th>\n",
       "      <td>3</td>\n",
       "      <td>0.0</td>\n",
       "      <td>602.000</td>\n",
       "      <td>0.0</td>\n",
       "      <td>86.0</td>\n",
       "      <td>16.0</td>\n",
       "    </tr>\n",
       "    <tr>\n",
       "      <th>1</th>\n",
       "      <td>4</td>\n",
       "      <td>0.0</td>\n",
       "      <td>578.125</td>\n",
       "      <td>0.0</td>\n",
       "      <td>86.0</td>\n",
       "      <td>16.0</td>\n",
       "    </tr>\n",
       "    <tr>\n",
       "      <th>2</th>\n",
       "      <td>5</td>\n",
       "      <td>0.0</td>\n",
       "      <td>558.750</td>\n",
       "      <td>0.0</td>\n",
       "      <td>86.0</td>\n",
       "      <td>16.0</td>\n",
       "    </tr>\n",
       "  </tbody>\n",
       "</table>\n",
       "</div>"
      ],
      "text/plain": [
       "   time  Power   Oxygen  Cadence    HR    RF\n",
       "0     3    0.0  602.000      0.0  86.0  16.0\n",
       "1     4    0.0  578.125      0.0  86.0  16.0\n",
       "2     5    0.0  558.750      0.0  86.0  16.0"
      ]
     },
     "execution_count": 3,
     "metadata": {},
     "output_type": "execute_result"
    }
   ],
   "source": [
    "# Read in study incremental test from subject 1\n",
    "df1_inc = pd.read_csv('../data/data_int/sbj_1_incremental.csv')\n",
    "df1_inc.head(3)"
   ]
  },
  {
   "cell_type": "code",
   "execution_count": 4,
   "id": "d835479c-08ba-4e9c-ace5-0911e8167bfa",
   "metadata": {},
   "outputs": [],
   "source": [
    "# Set 'time' as the index\n",
    "df1_inc.set_index('time', inplace= True)"
   ]
  },
  {
   "cell_type": "code",
   "execution_count": 5,
   "id": "ee5fe27a-aca0-46aa-b969-ef958f86c93f",
   "metadata": {},
   "outputs": [],
   "source": [
    "# Add training time and hr_p_fatigue features (Session training time and heart rate power fatigue)\n",
    "df1_inc['session_time'] = range(0, len(df1_inc))\n",
    "\n",
    "df1_inc['hr_p_fatigue'] = df1_inc['HR'] - (df1_inc['Power'] * 0.25)"
   ]
  },
  {
   "cell_type": "code",
   "execution_count": 6,
   "id": "2e4ee1db-c7f7-4f07-aacd-5ceed60a2f78",
   "metadata": {},
   "outputs": [
    {
     "data": {
      "text/html": [
       "<div>\n",
       "<style scoped>\n",
       "    .dataframe tbody tr th:only-of-type {\n",
       "        vertical-align: middle;\n",
       "    }\n",
       "\n",
       "    .dataframe tbody tr th {\n",
       "        vertical-align: top;\n",
       "    }\n",
       "\n",
       "    .dataframe thead th {\n",
       "        text-align: right;\n",
       "    }\n",
       "</style>\n",
       "<table border=\"1\" class=\"dataframe\">\n",
       "  <thead>\n",
       "    <tr style=\"text-align: right;\">\n",
       "      <th></th>\n",
       "      <th>Power</th>\n",
       "      <th>Oxygen</th>\n",
       "      <th>Cadence</th>\n",
       "      <th>HR</th>\n",
       "      <th>RF</th>\n",
       "      <th>session_time</th>\n",
       "      <th>hr_p_fatigue</th>\n",
       "    </tr>\n",
       "    <tr>\n",
       "      <th>time</th>\n",
       "      <th></th>\n",
       "      <th></th>\n",
       "      <th></th>\n",
       "      <th></th>\n",
       "      <th></th>\n",
       "      <th></th>\n",
       "      <th></th>\n",
       "    </tr>\n",
       "  </thead>\n",
       "  <tbody>\n",
       "    <tr>\n",
       "      <th>3</th>\n",
       "      <td>0.0</td>\n",
       "      <td>602.0000</td>\n",
       "      <td>0.0</td>\n",
       "      <td>86.0</td>\n",
       "      <td>16.0</td>\n",
       "      <td>0</td>\n",
       "      <td>86.0</td>\n",
       "    </tr>\n",
       "    <tr>\n",
       "      <th>4</th>\n",
       "      <td>0.0</td>\n",
       "      <td>578.1250</td>\n",
       "      <td>0.0</td>\n",
       "      <td>86.0</td>\n",
       "      <td>16.0</td>\n",
       "      <td>1</td>\n",
       "      <td>86.0</td>\n",
       "    </tr>\n",
       "    <tr>\n",
       "      <th>5</th>\n",
       "      <td>0.0</td>\n",
       "      <td>558.7500</td>\n",
       "      <td>0.0</td>\n",
       "      <td>86.0</td>\n",
       "      <td>16.0</td>\n",
       "      <td>2</td>\n",
       "      <td>86.0</td>\n",
       "    </tr>\n",
       "    <tr>\n",
       "      <th>6</th>\n",
       "      <td>0.0</td>\n",
       "      <td>542.1875</td>\n",
       "      <td>0.0</td>\n",
       "      <td>86.0</td>\n",
       "      <td>16.0</td>\n",
       "      <td>3</td>\n",
       "      <td>86.0</td>\n",
       "    </tr>\n",
       "    <tr>\n",
       "      <th>7</th>\n",
       "      <td>0.0</td>\n",
       "      <td>527.5000</td>\n",
       "      <td>0.0</td>\n",
       "      <td>86.0</td>\n",
       "      <td>16.0</td>\n",
       "      <td>4</td>\n",
       "      <td>86.0</td>\n",
       "    </tr>\n",
       "  </tbody>\n",
       "</table>\n",
       "</div>"
      ],
      "text/plain": [
       "      Power    Oxygen  Cadence    HR    RF  session_time  hr_p_fatigue\n",
       "time                                                                  \n",
       "3       0.0  602.0000      0.0  86.0  16.0             0          86.0\n",
       "4       0.0  578.1250      0.0  86.0  16.0             1          86.0\n",
       "5       0.0  558.7500      0.0  86.0  16.0             2          86.0\n",
       "6       0.0  542.1875      0.0  86.0  16.0             3          86.0\n",
       "7       0.0  527.5000      0.0  86.0  16.0             4          86.0"
      ]
     },
     "execution_count": 6,
     "metadata": {},
     "output_type": "execute_result"
    }
   ],
   "source": [
    "df1_inc.head()"
   ]
  },
  {
   "cell_type": "code",
   "execution_count": 7,
   "id": "858ad2aa-f133-403c-b1bf-a706e514620a",
   "metadata": {},
   "outputs": [
    {
     "name": "stdout",
     "output_type": "stream",
     "text": [
      "Power           0\n",
      "Oxygen          0\n",
      "Cadence         0\n",
      "HR              0\n",
      "RF              0\n",
      "session_time    0\n",
      "hr_p_fatigue    0\n",
      "dtype: int64\n",
      "Power           float64\n",
      "Oxygen          float64\n",
      "Cadence         float64\n",
      "HR              float64\n",
      "RF              float64\n",
      "session_time      int32\n",
      "hr_p_fatigue    float64\n",
      "dtype: object\n"
     ]
    }
   ],
   "source": [
    "# Check for nulls and check data types\n",
    "print(df1_inc.isnull().sum())\n",
    "\n",
    "print(df1_inc.dtypes)"
   ]
  },
  {
   "cell_type": "code",
   "execution_count": 8,
   "id": "f0f16f7e-32dc-496c-a371-8f5d22c1705b",
   "metadata": {},
   "outputs": [],
   "source": [
    "# Save out\n",
    "df1_inc.to_csv('../data/cleaned_study_data/sub1_inc_clean.csv')"
   ]
  },
  {
   "cell_type": "markdown",
   "id": "7386e02e-32a1-4162-a68e-284ff17d89e0",
   "metadata": {},
   "source": [
    "## GC Dataset 1"
   ]
  },
  {
   "cell_type": "code",
   "execution_count": 9,
   "id": "9db5c65e-57f2-4fdc-addd-499ee6f7e30e",
   "metadata": {},
   "outputs": [],
   "source": [
    "# Read in gc file 1\n",
    "gc1_df = pd.read_csv('../data/gc_data/2019_04_09_22_21_05.csv')"
   ]
  },
  {
   "cell_type": "code",
   "execution_count": 10,
   "id": "14b90941-7dff-4bd9-8d81-05ac0bbc97e0",
   "metadata": {},
   "outputs": [
    {
     "data": {
      "text/html": [
       "<div>\n",
       "<style scoped>\n",
       "    .dataframe tbody tr th:only-of-type {\n",
       "        vertical-align: middle;\n",
       "    }\n",
       "\n",
       "    .dataframe tbody tr th {\n",
       "        vertical-align: top;\n",
       "    }\n",
       "\n",
       "    .dataframe thead th {\n",
       "        text-align: right;\n",
       "    }\n",
       "</style>\n",
       "<table border=\"1\" class=\"dataframe\">\n",
       "  <thead>\n",
       "    <tr style=\"text-align: right;\">\n",
       "      <th></th>\n",
       "      <th>secs</th>\n",
       "      <th>km</th>\n",
       "      <th>power</th>\n",
       "      <th>hr</th>\n",
       "      <th>cad</th>\n",
       "      <th>alt</th>\n",
       "    </tr>\n",
       "  </thead>\n",
       "  <tbody>\n",
       "    <tr>\n",
       "      <th>0</th>\n",
       "      <td>0</td>\n",
       "      <td>0</td>\n",
       "      <td>95</td>\n",
       "      <td>96</td>\n",
       "      <td>80</td>\n",
       "      <td>699.4</td>\n",
       "    </tr>\n",
       "    <tr>\n",
       "      <th>1</th>\n",
       "      <td>1</td>\n",
       "      <td>0</td>\n",
       "      <td>99</td>\n",
       "      <td>97</td>\n",
       "      <td>83</td>\n",
       "      <td>699.6</td>\n",
       "    </tr>\n",
       "    <tr>\n",
       "      <th>2</th>\n",
       "      <td>2</td>\n",
       "      <td>0</td>\n",
       "      <td>125</td>\n",
       "      <td>96</td>\n",
       "      <td>86</td>\n",
       "      <td>699.6</td>\n",
       "    </tr>\n",
       "  </tbody>\n",
       "</table>\n",
       "</div>"
      ],
      "text/plain": [
       "   secs  km  power  hr  cad    alt\n",
       "0     0   0     95  96   80  699.4\n",
       "1     1   0     99  97   83  699.6\n",
       "2     2   0    125  96   86  699.6"
      ]
     },
     "execution_count": 10,
     "metadata": {},
     "output_type": "execute_result"
    }
   ],
   "source": [
    "gc1_df.head(3)"
   ]
  },
  {
   "cell_type": "code",
   "execution_count": 12,
   "id": "390d43d2-9625-4bc2-9431-bd6db55158a2",
   "metadata": {},
   "outputs": [],
   "source": [
    "# Set 'time' as the index\n",
    "gc1_df.set_index('secs', inplace= True)"
   ]
  },
  {
   "cell_type": "code",
   "execution_count": 16,
   "id": "6b3669cd-c17d-406a-bb6f-46d6d7aa5092",
   "metadata": {},
   "outputs": [],
   "source": [
    "# Drop the km and altitude columns (This is a stationary trainer dataset)\n",
    "gc1_df.drop(labels= ['km', 'alt'], axis= 1, inplace= True)"
   ]
  },
  {
   "cell_type": "code",
   "execution_count": 17,
   "id": "e6562570-423c-498c-bfd5-b5ce31271e1b",
   "metadata": {},
   "outputs": [],
   "source": [
    "# Add training time and hr_p_fatigue features (Session training time and heart rate power fatigue)\n",
    "gc1_df['session_time'] = range(0, len(gc1_df))\n",
    "\n",
    "gc1_df['hr_p_fatigue'] = gc1_df['hr'] - (gc1_df['power'] * 0.25)"
   ]
  },
  {
   "cell_type": "code",
   "execution_count": 18,
   "id": "924c2a64-6fdf-45a3-8d08-9509aec2bd2b",
   "metadata": {},
   "outputs": [
    {
     "data": {
      "text/html": [
       "<div>\n",
       "<style scoped>\n",
       "    .dataframe tbody tr th:only-of-type {\n",
       "        vertical-align: middle;\n",
       "    }\n",
       "\n",
       "    .dataframe tbody tr th {\n",
       "        vertical-align: top;\n",
       "    }\n",
       "\n",
       "    .dataframe thead th {\n",
       "        text-align: right;\n",
       "    }\n",
       "</style>\n",
       "<table border=\"1\" class=\"dataframe\">\n",
       "  <thead>\n",
       "    <tr style=\"text-align: right;\">\n",
       "      <th></th>\n",
       "      <th>power</th>\n",
       "      <th>hr</th>\n",
       "      <th>cad</th>\n",
       "      <th>session_time</th>\n",
       "      <th>hr_p_fatigue</th>\n",
       "    </tr>\n",
       "    <tr>\n",
       "      <th>secs</th>\n",
       "      <th></th>\n",
       "      <th></th>\n",
       "      <th></th>\n",
       "      <th></th>\n",
       "      <th></th>\n",
       "    </tr>\n",
       "  </thead>\n",
       "  <tbody>\n",
       "    <tr>\n",
       "      <th>0</th>\n",
       "      <td>95</td>\n",
       "      <td>96</td>\n",
       "      <td>80</td>\n",
       "      <td>0</td>\n",
       "      <td>72.25</td>\n",
       "    </tr>\n",
       "    <tr>\n",
       "      <th>1</th>\n",
       "      <td>99</td>\n",
       "      <td>97</td>\n",
       "      <td>83</td>\n",
       "      <td>1</td>\n",
       "      <td>72.25</td>\n",
       "    </tr>\n",
       "    <tr>\n",
       "      <th>2</th>\n",
       "      <td>125</td>\n",
       "      <td>96</td>\n",
       "      <td>86</td>\n",
       "      <td>2</td>\n",
       "      <td>64.75</td>\n",
       "    </tr>\n",
       "    <tr>\n",
       "      <th>3</th>\n",
       "      <td>191</td>\n",
       "      <td>96</td>\n",
       "      <td>90</td>\n",
       "      <td>3</td>\n",
       "      <td>48.25</td>\n",
       "    </tr>\n",
       "    <tr>\n",
       "      <th>4</th>\n",
       "      <td>230</td>\n",
       "      <td>97</td>\n",
       "      <td>90</td>\n",
       "      <td>4</td>\n",
       "      <td>39.50</td>\n",
       "    </tr>\n",
       "  </tbody>\n",
       "</table>\n",
       "</div>"
      ],
      "text/plain": [
       "      power  hr  cad  session_time  hr_p_fatigue\n",
       "secs                                            \n",
       "0        95  96   80             0         72.25\n",
       "1        99  97   83             1         72.25\n",
       "2       125  96   86             2         64.75\n",
       "3       191  96   90             3         48.25\n",
       "4       230  97   90             4         39.50"
      ]
     },
     "execution_count": 18,
     "metadata": {},
     "output_type": "execute_result"
    }
   ],
   "source": [
    "gc1_df.head()"
   ]
  },
  {
   "cell_type": "code",
   "execution_count": 19,
   "id": "66b0f09c-39c7-4e34-a0d1-41cdb4572bae",
   "metadata": {},
   "outputs": [
    {
     "name": "stdout",
     "output_type": "stream",
     "text": [
      "power           0\n",
      "hr              0\n",
      "cad             0\n",
      "session_time    0\n",
      "hr_p_fatigue    0\n",
      "dtype: int64\n",
      "power             int64\n",
      "hr                int64\n",
      "cad               int64\n",
      "session_time      int32\n",
      "hr_p_fatigue    float64\n",
      "dtype: object\n"
     ]
    }
   ],
   "source": [
    "# Check for nulls and check data types\n",
    "print(gc1_df.isnull().sum())\n",
    "\n",
    "print(gc1_df.dtypes)"
   ]
  },
  {
   "cell_type": "code",
   "execution_count": 20,
   "id": "67375dfa-8353-4293-833b-5c61bde2c2f4",
   "metadata": {},
   "outputs": [],
   "source": [
    "# Save out\n",
    "gc1_df.to_csv('../data/cleaned_gc_data/gc1.csv')"
   ]
  },
  {
   "cell_type": "code",
   "execution_count": null,
   "id": "fd52bfbe-9152-49cd-96e5-5fca555bf21b",
   "metadata": {},
   "outputs": [],
   "source": []
  }
 ],
 "metadata": {
  "kernelspec": {
   "display_name": "Python 3 (ipykernel)",
   "language": "python",
   "name": "python3"
  },
  "language_info": {
   "codemirror_mode": {
    "name": "ipython",
    "version": 3
   },
   "file_extension": ".py",
   "mimetype": "text/x-python",
   "name": "python",
   "nbconvert_exporter": "python",
   "pygments_lexer": "ipython3",
   "version": "3.8.8"
  }
 },
 "nbformat": 4,
 "nbformat_minor": 5
}
