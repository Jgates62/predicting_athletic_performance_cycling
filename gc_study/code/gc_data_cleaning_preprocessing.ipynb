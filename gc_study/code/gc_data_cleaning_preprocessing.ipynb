{
 "cells": [
  {
   "cell_type": "code",
   "execution_count": 1,
   "id": "d5c83e7b-939a-4f40-9ebc-9c4bacb23115",
   "metadata": {},
   "outputs": [],
   "source": [
    "import pandas as pd\n",
    "import numpy as np\n",
    "import os"
   ]
  },
  {
   "cell_type": "code",
   "execution_count": 2,
   "id": "da4d78f1-6e0a-414b-bcc1-b6715107c5f1",
   "metadata": {},
   "outputs": [],
   "source": [
    "# evaluate every file in '../data/gc_data/athlete_2' and return a list of file names that are useable cycling workouts"
   ]
  },
  {
   "cell_type": "markdown",
   "id": "cd28db9f-17e7-4e41-ac10-49a023c0bd49",
   "metadata": {},
   "source": [
    "## Read in all available csv workout files"
   ]
  },
  {
   "cell_type": "code",
   "execution_count": 3,
   "id": "b6b4430b-f7d6-4257-91f3-e10ac2217d1e",
   "metadata": {},
   "outputs": [],
   "source": [
    "# Create a files variable that contains all of our data files.\n",
    "files = os.listdir('../data/original_gc_data/')\n",
    "\n",
    "# keep only the csv files\n",
    "files = [file for file in files if '.csv' in file]"
   ]
  },
  {
   "cell_type": "markdown",
   "id": "0a46daca-1701-4539-af50-12c58606594c",
   "metadata": {},
   "source": [
    "## Keep only the csv workout files that are useable"
   ]
  },
  {
   "cell_type": "code",
   "execution_count": 4,
   "id": "c43dc176-a371-4e70-8492-a96803a92616",
   "metadata": {},
   "outputs": [],
   "source": [
    "# Determine if the current df is a useable cycling workout\n",
    "\n",
    "def check_dataframe(cur_df):\n",
    "    useable = True\n",
    "\n",
    "    # Must have power data\n",
    "    if cur_df['power'].sum() < 5:\n",
    "        useable = False\n",
    "        \n",
    "    # Must have hr data\n",
    "    elif cur_df['hr'].sum() < 5:\n",
    "        useable = False\n",
    "    \n",
    "    # Must have cadence data\n",
    "    elif cur_df['cad'].sum() < 5:\n",
    "        useable = False\n",
    "        \n",
    "    # The altitude must stay within 10 feet of the starting elevation\n",
    "    elif cur_df['alt'].max() > cur_df['alt'][0] + 10 or cur_df['alt'].min() < cur_df['alt'][0] - 10:\n",
    "        useable = False\n",
    "\n",
    "    return useable"
   ]
  },
  {
   "cell_type": "code",
   "execution_count": 5,
   "id": "cc254388-2ec7-4824-95be-122df38420da",
   "metadata": {},
   "outputs": [],
   "source": [
    "useable_files = []\n",
    "\n",
    "for file in files:\n",
    "    df = pd.read_csv(f'../data/original_gc_data//{file}')\n",
    "    \n",
    "    # impute 0 for nulls\n",
    "    df.fillna(0, inplace= True)\n",
    "    #print(df.head())\n",
    "    \n",
    "    # check and see if the file us useable\n",
    "    if check_dataframe(df):\n",
    "        useable_files.append(file)"
   ]
  },
  {
   "cell_type": "code",
   "execution_count": 6,
   "id": "56291fe5-25a3-4a10-8ab4-090e01aba0c9",
   "metadata": {},
   "outputs": [
    {
     "data": {
      "text/plain": [
       "['2018_12_03_20_52_34.csv',\n",
       " '2018_12_06_10_56_57.csv',\n",
       " '2018_12_09_19_56_36.csv',\n",
       " '2018_12_16_20_12_35.csv',\n",
       " '2018_12_19_11_05_47.csv',\n",
       " '2018_12_27_19_30_12.csv',\n",
       " '2018_12_28_19_36_49.csv',\n",
       " '2018_12_31_19_40_06.csv',\n",
       " '2019_01_04_18_49_51.csv',\n",
       " '2019_01_06_20_24_10.csv',\n",
       " '2019_01_06_21_05_16.csv',\n",
       " '2019_01_07_20_46_10.csv',\n",
       " '2019_01_09_11_23_10.csv',\n",
       " '2019_01_12_11_00_45.csv',\n",
       " '2019_01_14_20_45_35.csv',\n",
       " '2019_01_15_20_19_49.csv',\n",
       " '2019_01_19_10_38_22.csv',\n",
       " '2019_01_20_18_58_47.csv',\n",
       " '2019_01_24_20_05_51.csv',\n",
       " '2019_01_27_19_30_30.csv',\n",
       " '2019_01_28_20_10_24.csv',\n",
       " '2019_01_30_11_57_35.csv',\n",
       " '2019_01_31_11_30_27.csv',\n",
       " '2019_02_02_18_50_32.csv',\n",
       " '2019_02_03_18_14_30.csv',\n",
       " '2019_02_06_12_24_02.csv',\n",
       " '2019_02_07_11_45_23.csv',\n",
       " '2019_02_08_11_19_43.csv',\n",
       " '2019_02_09_09_23_35.csv',\n",
       " '2019_02_11_19_59_05.csv',\n",
       " '2019_02_13_20_52_52.csv',\n",
       " '2019_02_14_11_56_31.csv',\n",
       " '2019_02_16_19_23_30.csv',\n",
       " '2019_02_18_20_10_55.csv',\n",
       " '2019_02_19_12_48_49.csv',\n",
       " '2019_02_20_20_38_17.csv',\n",
       " '2019_02_25_19_36_43.csv',\n",
       " '2019_02_26_12_37_53.csv',\n",
       " '2019_02_27_11_25_02.csv',\n",
       " '2019_03_01_19_38_43.csv',\n",
       " '2019_03_05_12_45_38.csv',\n",
       " '2019_03_06_11_47_03.csv',\n",
       " '2019_03_07_11_51_55.csv',\n",
       " '2019_03_12_12_17_20.csv',\n",
       " '2019_03_13_18_42_54.csv',\n",
       " '2019_03_15_10_23_51.csv',\n",
       " '2019_03_18_19_47_53.csv',\n",
       " '2019_03_20_12_12_44.csv',\n",
       " '2019_03_21_12_03_13.csv',\n",
       " '2019_03_25_19_59_13.csv',\n",
       " '2019_04_01_19_48_01.csv',\n",
       " '2019_04_02_18_54_41.csv',\n",
       " '2019_04_04_20_23_30.csv',\n",
       " '2019_04_05_11_49_04.csv',\n",
       " '2019_04_06_10_52_23.csv',\n",
       " '2019_04_06_13_07_26.csv',\n",
       " '2019_04_07_11_36_01.csv',\n",
       " '2019_04_08_20_31_55.csv',\n",
       " '2019_04_12_11_55_54.csv',\n",
       " '2019_04_18_11_46_31.csv',\n",
       " '2019_04_19_12_26_00.csv',\n",
       " '2019_04_20_11_42_11.csv',\n",
       " '2019_04_22_20_16_37.csv',\n",
       " '2019_04_27_19_23_42.csv',\n",
       " '2019_04_28_19_45_02.csv',\n",
       " '2019_04_29_19_44_54.csv',\n",
       " '2019_05_01_10_21_26.csv',\n",
       " '2019_05_04_11_37_45.csv',\n",
       " '2019_05_05_19_22_17.csv',\n",
       " '2019_05_06_20_30_59.csv',\n",
       " '2019_05_08_21_01_32.csv',\n",
       " '2019_05_13_20_43_02.csv',\n",
       " '2019_05_14_12_22_53.csv',\n",
       " '2019_05_16_12_00_59.csv',\n",
       " '2019_05_21_20_31_23.csv',\n",
       " '2019_05_25_11_46_42.csv',\n",
       " '2019_05_31_20_03_57.csv',\n",
       " '2019_06_01_19_17_14.csv',\n",
       " '2019_06_06_12_27_26.csv',\n",
       " '2019_06_07_19_15_37.csv',\n",
       " '2019_06_09_10_10_10.csv',\n",
       " '2019_06_10_20_32_43.csv',\n",
       " '2019_06_11_18_42_23.csv',\n",
       " '2019_06_12_19_08_15.csv',\n",
       " '2019_06_18_12_09_55.csv',\n",
       " '2019_06_19_11_24_48.csv',\n",
       " '2019_06_20_12_07_44.csv',\n",
       " '2019_06_21_19_43_02.csv',\n",
       " '2019_06_25_20_34_15.csv',\n",
       " '2019_06_28_19_03_00.csv',\n",
       " '2019_06_29_20_08_48.csv',\n",
       " '2019_07_02_19_08_49.csv',\n",
       " '2019_07_03_18_53_01.csv',\n",
       " '2019_07_04_18_22_50.csv',\n",
       " '2019_07_05_19_53_24.csv',\n",
       " '2019_07_06_17_32_26.csv',\n",
       " '2019_07_07_19_13_52.csv',\n",
       " '2019_07_08_19_01_29.csv',\n",
       " '2019_07_09_19_31_40.csv',\n",
       " '2019_07_09_20_08_44.csv',\n",
       " '2019_07_10_19_08_24.csv',\n",
       " '2019_07_12_12_11_44.csv',\n",
       " '2019_07_12_20_57_59.csv',\n",
       " '2019_07_13_19_12_26.csv',\n",
       " '2019_07_17_20_09_01.csv',\n",
       " '2019_07_18_19_14_30.csv',\n",
       " '2019_07_19_20_04_54.csv',\n",
       " '2019_07_20_19_53_50.csv',\n",
       " '2019_07_23_20_09_12.csv',\n",
       " '2019_07_24_19_15_18.csv',\n",
       " '2019_07_31_19_30_08.csv',\n",
       " '2019_08_01_20_02_59.csv',\n",
       " '2019_08_06_18_33_06.csv',\n",
       " '2019_08_07_20_37_34.csv',\n",
       " '2019_12_18_12_43_30.csv',\n",
       " '2019_12_19_18_28_47.csv',\n",
       " '2019_12_20_18_33_10.csv',\n",
       " '2019_12_25_11_21_23.csv',\n",
       " '2019_12_26_18_10_48.csv',\n",
       " '2019_12_30_19_14_52.csv',\n",
       " '2020_01_01_19_50_39.csv',\n",
       " '2020_01_02_18_29_58.csv',\n",
       " '2020_01_03_18_26_20.csv',\n",
       " '2020_01_06_19_17_30.csv',\n",
       " '2020_01_07_18_04_44.csv',\n",
       " '2020_01_09_10_35_18.csv']"
      ]
     },
     "execution_count": 6,
     "metadata": {},
     "output_type": "execute_result"
    }
   ],
   "source": [
    "useable_files"
   ]
  },
  {
   "cell_type": "markdown",
   "id": "58f3dd43-6898-4c6b-8592-740b0ae9ffd6",
   "metadata": {},
   "source": [
    "## Narrow the search down"
   ]
  },
  {
   "cell_type": "code",
   "execution_count": 7,
   "id": "154a94f6-1692-4d3b-8bac-69c2e9ea78ae",
   "metadata": {},
   "outputs": [
    {
     "data": {
      "text/plain": [
       "34"
      ]
     },
     "execution_count": 7,
     "metadata": {},
     "output_type": "execute_result"
    }
   ],
   "source": [
    "# Let's only use training sessions from June and July 2019. Summer should be peak fitness season (race season),\n",
    "# and the athlete's fitness level should not change too dramatically within a couple months.\n",
    "\n",
    "useable_files = [file for file in useable_files if '2019_07' in file or '2019_06' in file]\n",
    "len(useable_files)"
   ]
  },
  {
   "cell_type": "code",
   "execution_count": 8,
   "id": "1962b89c-bc59-4212-b35a-f3daaa35ede4",
   "metadata": {},
   "outputs": [],
   "source": [
    "# Use everything but the last 5 files for training\n",
    "training_files = useable_files[:-5]\n",
    "\n",
    "# Use the last 5 files for testing\n",
    "test_files = useable_files[-5:]"
   ]
  },
  {
   "cell_type": "code",
   "execution_count": 9,
   "id": "dc63b364-b75e-42f6-b5bd-80672727de73",
   "metadata": {},
   "outputs": [
    {
     "data": {
      "text/plain": [
       "['2019_06_01_19_17_14.csv',\n",
       " '2019_06_06_12_27_26.csv',\n",
       " '2019_06_07_19_15_37.csv',\n",
       " '2019_06_09_10_10_10.csv',\n",
       " '2019_06_10_20_32_43.csv',\n",
       " '2019_06_11_18_42_23.csv',\n",
       " '2019_06_12_19_08_15.csv',\n",
       " '2019_06_18_12_09_55.csv',\n",
       " '2019_06_19_11_24_48.csv',\n",
       " '2019_06_20_12_07_44.csv',\n",
       " '2019_06_21_19_43_02.csv',\n",
       " '2019_06_25_20_34_15.csv',\n",
       " '2019_06_28_19_03_00.csv',\n",
       " '2019_06_29_20_08_48.csv',\n",
       " '2019_07_02_19_08_49.csv',\n",
       " '2019_07_03_18_53_01.csv',\n",
       " '2019_07_04_18_22_50.csv',\n",
       " '2019_07_05_19_53_24.csv',\n",
       " '2019_07_06_17_32_26.csv',\n",
       " '2019_07_07_19_13_52.csv',\n",
       " '2019_07_08_19_01_29.csv',\n",
       " '2019_07_09_19_31_40.csv',\n",
       " '2019_07_09_20_08_44.csv',\n",
       " '2019_07_10_19_08_24.csv',\n",
       " '2019_07_12_12_11_44.csv',\n",
       " '2019_07_12_20_57_59.csv',\n",
       " '2019_07_13_19_12_26.csv',\n",
       " '2019_07_17_20_09_01.csv',\n",
       " '2019_07_18_19_14_30.csv']"
      ]
     },
     "execution_count": 9,
     "metadata": {},
     "output_type": "execute_result"
    }
   ],
   "source": [
    "training_files"
   ]
  },
  {
   "cell_type": "code",
   "execution_count": 10,
   "id": "2f0842e6-06fc-4979-b335-c7c4228eda91",
   "metadata": {},
   "outputs": [
    {
     "data": {
      "text/plain": [
       "['2019_07_19_20_04_54.csv',\n",
       " '2019_07_20_19_53_50.csv',\n",
       " '2019_07_23_20_09_12.csv',\n",
       " '2019_07_24_19_15_18.csv',\n",
       " '2019_07_31_19_30_08.csv']"
      ]
     },
     "execution_count": 10,
     "metadata": {},
     "output_type": "execute_result"
    }
   ],
   "source": [
    "test_files"
   ]
  },
  {
   "cell_type": "markdown",
   "id": "adc477ba-830a-4306-bd25-5b1a5210cd02",
   "metadata": {},
   "source": [
    "### Preprocess each of the test dataframes and save them individually for future use"
   ]
  },
  {
   "cell_type": "code",
   "execution_count": 11,
   "id": "add21740-b364-4cc4-98af-4af80fc04736",
   "metadata": {},
   "outputs": [],
   "source": [
    "counter = 1\n",
    "for file in test_files:\n",
    "    \n",
    "    # read in file to dataframe\n",
    "    file_df = pd.read_csv(f'../data/original_gc_data/{file}')\n",
    "    \n",
    "    # get rid of unneeded columns\n",
    "    file_df.drop(columns= ['km', 'alt'], inplace = True)\n",
    "    \n",
    "    # write to csv\n",
    "    file_df.to_csv(f'../data/cleaned_gc_data/gc_test_{counter}.csv')\n",
    "    counter += 1"
   ]
  },
  {
   "cell_type": "markdown",
   "id": "bc180519-1167-484a-b870-52766b18e886",
   "metadata": {},
   "source": [
    "## Concatenate the train and test files into train and test dataframes"
   ]
  },
  {
   "cell_type": "code",
   "execution_count": 12,
   "id": "863bb375-951c-440d-b5b9-0c3a7baee6b0",
   "metadata": {},
   "outputs": [],
   "source": [
    "train_df = pd.read_csv(f'../data/original_gc_data/{training_files[0]}')\n",
    "test_df = pd.read_csv(f'../data/original_gc_data/{test_files[0]}')\n",
    "\n",
    "def generate_dataframe(files, concat_df): # Takes a list of file names, and a train or test dataframe as input\n",
    "    \n",
    "    concat_df.drop(columns= ['km', 'alt'], inplace = True)\n",
    "    \n",
    "    for file in files[1:]:\n",
    "        # read in file to dataframe\n",
    "        cur_df = pd.read_csv(f'../data/original_gc_data/{file}')\n",
    "        \n",
    "        # Get rid of unneeded columns\n",
    "        cur_df.drop(columns= ['km', 'alt'], inplace = True)\n",
    "        \n",
    "        # write to csv\n",
    "        concat_df = pd.concat([concat_df, cur_df], ignore_index= True)\n",
    "    \n",
    "    return concat_df # Returns a completed train or test dataframe"
   ]
  },
  {
   "cell_type": "code",
   "execution_count": 13,
   "id": "d5ece0d8-be58-4398-8e40-aeff26670464",
   "metadata": {},
   "outputs": [
    {
     "data": {
      "text/html": [
       "<div>\n",
       "<style scoped>\n",
       "    .dataframe tbody tr th:only-of-type {\n",
       "        vertical-align: middle;\n",
       "    }\n",
       "\n",
       "    .dataframe tbody tr th {\n",
       "        vertical-align: top;\n",
       "    }\n",
       "\n",
       "    .dataframe thead th {\n",
       "        text-align: right;\n",
       "    }\n",
       "</style>\n",
       "<table border=\"1\" class=\"dataframe\">\n",
       "  <thead>\n",
       "    <tr style=\"text-align: right;\">\n",
       "      <th></th>\n",
       "      <th>secs</th>\n",
       "      <th>power</th>\n",
       "      <th>hr</th>\n",
       "      <th>cad</th>\n",
       "    </tr>\n",
       "  </thead>\n",
       "  <tbody>\n",
       "    <tr>\n",
       "      <th>0</th>\n",
       "      <td>0</td>\n",
       "      <td>0.0</td>\n",
       "      <td>74.0</td>\n",
       "      <td>0.0</td>\n",
       "    </tr>\n",
       "    <tr>\n",
       "      <th>1</th>\n",
       "      <td>1</td>\n",
       "      <td>1.0</td>\n",
       "      <td>75.0</td>\n",
       "      <td>22.0</td>\n",
       "    </tr>\n",
       "    <tr>\n",
       "      <th>2</th>\n",
       "      <td>2</td>\n",
       "      <td>11.0</td>\n",
       "      <td>76.0</td>\n",
       "      <td>22.0</td>\n",
       "    </tr>\n",
       "    <tr>\n",
       "      <th>3</th>\n",
       "      <td>3</td>\n",
       "      <td>53.0</td>\n",
       "      <td>77.0</td>\n",
       "      <td>48.0</td>\n",
       "    </tr>\n",
       "    <tr>\n",
       "      <th>4</th>\n",
       "      <td>4</td>\n",
       "      <td>102.0</td>\n",
       "      <td>78.0</td>\n",
       "      <td>49.0</td>\n",
       "    </tr>\n",
       "    <tr>\n",
       "      <th>...</th>\n",
       "      <td>...</td>\n",
       "      <td>...</td>\n",
       "      <td>...</td>\n",
       "      <td>...</td>\n",
       "    </tr>\n",
       "    <tr>\n",
       "      <th>110028</th>\n",
       "      <td>3480</td>\n",
       "      <td>0.0</td>\n",
       "      <td>91.0</td>\n",
       "      <td>0.0</td>\n",
       "    </tr>\n",
       "    <tr>\n",
       "      <th>110029</th>\n",
       "      <td>3481</td>\n",
       "      <td>0.0</td>\n",
       "      <td>91.0</td>\n",
       "      <td>0.0</td>\n",
       "    </tr>\n",
       "    <tr>\n",
       "      <th>110030</th>\n",
       "      <td>3482</td>\n",
       "      <td>0.0</td>\n",
       "      <td>91.0</td>\n",
       "      <td>0.0</td>\n",
       "    </tr>\n",
       "    <tr>\n",
       "      <th>110031</th>\n",
       "      <td>3483</td>\n",
       "      <td>0.0</td>\n",
       "      <td>91.0</td>\n",
       "      <td>0.0</td>\n",
       "    </tr>\n",
       "    <tr>\n",
       "      <th>110032</th>\n",
       "      <td>3484</td>\n",
       "      <td>0.0</td>\n",
       "      <td>93.0</td>\n",
       "      <td>0.0</td>\n",
       "    </tr>\n",
       "  </tbody>\n",
       "</table>\n",
       "<p>110033 rows × 4 columns</p>\n",
       "</div>"
      ],
      "text/plain": [
       "        secs  power    hr   cad\n",
       "0          0    0.0  74.0   0.0\n",
       "1          1    1.0  75.0  22.0\n",
       "2          2   11.0  76.0  22.0\n",
       "3          3   53.0  77.0  48.0\n",
       "4          4  102.0  78.0  49.0\n",
       "...      ...    ...   ...   ...\n",
       "110028  3480    0.0  91.0   0.0\n",
       "110029  3481    0.0  91.0   0.0\n",
       "110030  3482    0.0  91.0   0.0\n",
       "110031  3483    0.0  91.0   0.0\n",
       "110032  3484    0.0  93.0   0.0\n",
       "\n",
       "[110033 rows x 4 columns]"
      ]
     },
     "execution_count": 13,
     "metadata": {},
     "output_type": "execute_result"
    }
   ],
   "source": [
    "# Dataframe for model training\n",
    "train_df = generate_dataframe(training_files, train_df)\n",
    "train_df"
   ]
  },
  {
   "cell_type": "code",
   "execution_count": 14,
   "id": "fdabce3c-c92d-4f92-91df-cabb120e6a33",
   "metadata": {},
   "outputs": [
    {
     "data": {
      "text/html": [
       "<div>\n",
       "<style scoped>\n",
       "    .dataframe tbody tr th:only-of-type {\n",
       "        vertical-align: middle;\n",
       "    }\n",
       "\n",
       "    .dataframe tbody tr th {\n",
       "        vertical-align: top;\n",
       "    }\n",
       "\n",
       "    .dataframe thead th {\n",
       "        text-align: right;\n",
       "    }\n",
       "</style>\n",
       "<table border=\"1\" class=\"dataframe\">\n",
       "  <thead>\n",
       "    <tr style=\"text-align: right;\">\n",
       "      <th></th>\n",
       "      <th>secs</th>\n",
       "      <th>power</th>\n",
       "      <th>hr</th>\n",
       "      <th>cad</th>\n",
       "    </tr>\n",
       "  </thead>\n",
       "  <tbody>\n",
       "    <tr>\n",
       "      <th>0</th>\n",
       "      <td>0</td>\n",
       "      <td>75</td>\n",
       "      <td>90.0</td>\n",
       "      <td>76.0</td>\n",
       "    </tr>\n",
       "    <tr>\n",
       "      <th>1</th>\n",
       "      <td>1</td>\n",
       "      <td>95</td>\n",
       "      <td>100.0</td>\n",
       "      <td>76.0</td>\n",
       "    </tr>\n",
       "    <tr>\n",
       "      <th>2</th>\n",
       "      <td>2</td>\n",
       "      <td>89</td>\n",
       "      <td>100.0</td>\n",
       "      <td>75.0</td>\n",
       "    </tr>\n",
       "    <tr>\n",
       "      <th>3</th>\n",
       "      <td>3</td>\n",
       "      <td>92</td>\n",
       "      <td>100.0</td>\n",
       "      <td>78.0</td>\n",
       "    </tr>\n",
       "    <tr>\n",
       "      <th>4</th>\n",
       "      <td>4</td>\n",
       "      <td>141</td>\n",
       "      <td>100.0</td>\n",
       "      <td>80.0</td>\n",
       "    </tr>\n",
       "    <tr>\n",
       "      <th>...</th>\n",
       "      <td>...</td>\n",
       "      <td>...</td>\n",
       "      <td>...</td>\n",
       "      <td>...</td>\n",
       "    </tr>\n",
       "    <tr>\n",
       "      <th>20454</th>\n",
       "      <td>5323</td>\n",
       "      <td>0</td>\n",
       "      <td>96.0</td>\n",
       "      <td>0.0</td>\n",
       "    </tr>\n",
       "    <tr>\n",
       "      <th>20455</th>\n",
       "      <td>5440</td>\n",
       "      <td>0</td>\n",
       "      <td>93.0</td>\n",
       "      <td>0.0</td>\n",
       "    </tr>\n",
       "    <tr>\n",
       "      <th>20456</th>\n",
       "      <td>5441</td>\n",
       "      <td>0</td>\n",
       "      <td>94.0</td>\n",
       "      <td>0.0</td>\n",
       "    </tr>\n",
       "    <tr>\n",
       "      <th>20457</th>\n",
       "      <td>5442</td>\n",
       "      <td>0</td>\n",
       "      <td>94.0</td>\n",
       "      <td>0.0</td>\n",
       "    </tr>\n",
       "    <tr>\n",
       "      <th>20458</th>\n",
       "      <td>5443</td>\n",
       "      <td>0</td>\n",
       "      <td>95.0</td>\n",
       "      <td>0.0</td>\n",
       "    </tr>\n",
       "  </tbody>\n",
       "</table>\n",
       "<p>20459 rows × 4 columns</p>\n",
       "</div>"
      ],
      "text/plain": [
       "       secs  power     hr   cad\n",
       "0         0     75   90.0  76.0\n",
       "1         1     95  100.0  76.0\n",
       "2         2     89  100.0  75.0\n",
       "3         3     92  100.0  78.0\n",
       "4         4    141  100.0  80.0\n",
       "...     ...    ...    ...   ...\n",
       "20454  5323      0   96.0   0.0\n",
       "20455  5440      0   93.0   0.0\n",
       "20456  5441      0   94.0   0.0\n",
       "20457  5442      0   94.0   0.0\n",
       "20458  5443      0   95.0   0.0\n",
       "\n",
       "[20459 rows x 4 columns]"
      ]
     },
     "execution_count": 14,
     "metadata": {},
     "output_type": "execute_result"
    }
   ],
   "source": [
    "# Dataframe for model testing\n",
    "test_df = generate_dataframe(test_files, test_df)\n",
    "test_df"
   ]
  },
  {
   "cell_type": "code",
   "execution_count": 15,
   "id": "3fa62f8b-9e2f-49af-beab-16c5f617dc09",
   "metadata": {},
   "outputs": [
    {
     "data": {
      "text/plain": [
       "((110033, 4), (20459, 4))"
      ]
     },
     "execution_count": 15,
     "metadata": {},
     "output_type": "execute_result"
    }
   ],
   "source": [
    "# Training dataset size, Test dataset size\n",
    "train_df.shape, test_df.shape"
   ]
  },
  {
   "cell_type": "markdown",
   "id": "22fde713-4922-45bc-af14-e1b9e18b488e",
   "metadata": {},
   "source": [
    "### Check data types and check for nulls"
   ]
  },
  {
   "cell_type": "code",
   "execution_count": 16,
   "id": "6dd43b93-81af-4bfe-b457-2acf95fe9137",
   "metadata": {},
   "outputs": [
    {
     "data": {
      "text/plain": [
       "(secs     0\n",
       " power    0\n",
       " hr       0\n",
       " cad      0\n",
       " dtype: int64,\n",
       " secs     0\n",
       " power    0\n",
       " hr       0\n",
       " cad      0\n",
       " dtype: int64)"
      ]
     },
     "execution_count": 16,
     "metadata": {},
     "output_type": "execute_result"
    }
   ],
   "source": [
    "train_df.isnull().sum(), test_df.isnull().sum()"
   ]
  },
  {
   "cell_type": "code",
   "execution_count": 17,
   "id": "d82c2fad-ec52-4885-b47c-46cdd2158157",
   "metadata": {},
   "outputs": [
    {
     "data": {
      "text/plain": [
       "(secs       int64\n",
       " power    float64\n",
       " hr       float64\n",
       " cad      float64\n",
       " dtype: object,\n",
       " secs       int64\n",
       " power      int64\n",
       " hr       float64\n",
       " cad      float64\n",
       " dtype: object)"
      ]
     },
     "execution_count": 17,
     "metadata": {},
     "output_type": "execute_result"
    }
   ],
   "source": [
    "train_df.dtypes, test_df.dtypes"
   ]
  },
  {
   "cell_type": "markdown",
   "id": "43b5966f-93b7-4ce3-b484-d79e8a6acfb0",
   "metadata": {},
   "source": [
    "## Save out"
   ]
  },
  {
   "cell_type": "code",
   "execution_count": 18,
   "id": "d479fe37-2647-4190-bf04-cae56a20e9fa",
   "metadata": {},
   "outputs": [],
   "source": [
    "train_df.to_csv('../data/cleaned_gc_data/gc_train.csv')\n",
    "test_df.to_csv('../data/cleaned_gc_data/gc_test.csv')"
   ]
  },
  {
   "cell_type": "code",
   "execution_count": null,
   "id": "199a405c-df39-409b-959c-3c582e27df51",
   "metadata": {},
   "outputs": [],
   "source": []
  }
 ],
 "metadata": {
  "kernelspec": {
   "display_name": "Python 3 (ipykernel)",
   "language": "python",
   "name": "python3"
  },
  "language_info": {
   "codemirror_mode": {
    "name": "ipython",
    "version": 3
   },
   "file_extension": ".py",
   "mimetype": "text/x-python",
   "name": "python",
   "nbconvert_exporter": "python",
   "pygments_lexer": "ipython3",
   "version": "3.8.8"
  }
 },
 "nbformat": 4,
 "nbformat_minor": 5
}
